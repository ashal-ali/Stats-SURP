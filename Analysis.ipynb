{
 "cells": [
  {
   "cell_type": "markdown",
   "metadata": {},
   "source": [
    "# Haematobium Analysis"
   ]
  },
  {
   "cell_type": "code",
   "execution_count": 161,
   "metadata": {},
   "outputs": [],
   "source": [
    "import pandas as pd\n",
    "from sklearn.model_selection import train_test_split \n",
    "from sklearn.preprocessing import StandardScaler\n",
    "from sklearn.linear_model import LinearRegression\n",
    "from sklearn.metrics import mean_squared_error\n",
    "from sklearn.pipeline import Pipeline\n",
    "from sklearn.compose import ColumnTransformer\n",
    "from sklearn.preprocessing import OneHotEncoder\n",
    "import numpy as np\n",
    "from sklearn.model_selection import cross_val_score\n",
    "from sklearn.metrics import make_scorer\n",
    "import warnings\n",
    "from xgboost import XGBRegressor\n",
    "import matplotlib.pyplot as plt\n",
    "from xgboost import XGBRegressor, plot_importance"
   ]
  },
  {
   "cell_type": "code",
   "execution_count": 239,
   "metadata": {},
   "outputs": [],
   "source": [
    "df = pd.read_csv(\"sh.csv\")"
   ]
  },
  {
   "cell_type": "markdown",
   "metadata": {},
   "source": [
    "Geophysical Group"
   ]
  },
  {
   "cell_type": "code",
   "execution_count": 163,
   "metadata": {},
   "outputs": [],
   "source": [
    "geophysical_vars = ['aspect', 'bedrock_depth_mean', 'bulk_density_20cm_mean', 'cec_20cm_mean', 'clay_20cm_mean', \n",
    "                    'damDist', 'elevation', 'hnd', 'nitrogen_20cm_mean', 'organic_carbon_20cm_mean', 'ph_20cm_mean',\n",
    "                    'sand_20cm_mean', 'silt_20cm_mean', 'slope', 'soilWater', 'stone_20cm_mean', 'total_carbon_20cm_mean',\n",
    "                    'upa', 'waterDist'] \n",
    "\n",
    "target_var = 'sh_prev'"
   ]
  },
  {
   "cell_type": "code",
   "execution_count": 164,
   "metadata": {},
   "outputs": [],
   "source": [
    "X_geophys = df[geophysical_vars] #input features\n",
    "y = df[target_var] #target var - shprev"
   ]
  },
  {
   "cell_type": "code",
   "execution_count": 165,
   "metadata": {},
   "outputs": [],
   "source": [
    "X_geophystrain, X_geophystest, y_train, y_test = train_test_split(X_geophys, y, test_size=0.2, random_state=42)"
   ]
  },
  {
   "cell_type": "code",
   "execution_count": 166,
   "metadata": {},
   "outputs": [
    {
     "name": "stdout",
     "output_type": "stream",
     "text": [
      "Root Mean Squared Error: 10.557702380233529\n"
     ]
    }
   ],
   "source": [
    "#Linear Regressor for Geophys, evaluation with RMSE direct.\n",
    "geophys_pipeline_LR = Pipeline([\n",
    "    ('scaler', StandardScaler()),    # Step 1: Scaling\n",
    "    ('regressor', LinearRegression()) # Step 2: Linear Regression\n",
    "])\n",
    "geophys_pipeline_LR.fit(X_geophystrain, y_train)\n",
    "y_geophys_pred = geophys_pipeline_LR.predict(X_geophystest)\n",
    "rmse = np.sqrt(mean_squared_error(y_test, y_geophys_pred))\n",
    "print(f\"Root Mean Squared Error: {rmse}\")"
   ]
  },
  {
   "cell_type": "code",
   "execution_count": 167,
   "metadata": {},
   "outputs": [
    {
     "name": "stdout",
     "output_type": "stream",
     "text": [
      "Mean RMSE: 12.62365693563078\n"
     ]
    },
    {
     "name": "stderr",
     "output_type": "stream",
     "text": [
      "c:\\Users\\syeda\\.pyenv\\pyenv-win\\versions\\3.9.13\\lib\\site-packages\\sklearn\\metrics\\_regression.py:492: FutureWarning: 'squared' is deprecated in version 1.4 and will be removed in 1.6. To calculate the root mean squared error, use the function'root_mean_squared_error'.\n",
      "  warnings.warn(\n",
      "c:\\Users\\syeda\\.pyenv\\pyenv-win\\versions\\3.9.13\\lib\\site-packages\\sklearn\\metrics\\_regression.py:492: FutureWarning: 'squared' is deprecated in version 1.4 and will be removed in 1.6. To calculate the root mean squared error, use the function'root_mean_squared_error'.\n",
      "  warnings.warn(\n",
      "c:\\Users\\syeda\\.pyenv\\pyenv-win\\versions\\3.9.13\\lib\\site-packages\\sklearn\\metrics\\_regression.py:492: FutureWarning: 'squared' is deprecated in version 1.4 and will be removed in 1.6. To calculate the root mean squared error, use the function'root_mean_squared_error'.\n",
      "  warnings.warn(\n",
      "c:\\Users\\syeda\\.pyenv\\pyenv-win\\versions\\3.9.13\\lib\\site-packages\\sklearn\\metrics\\_regression.py:492: FutureWarning: 'squared' is deprecated in version 1.4 and will be removed in 1.6. To calculate the root mean squared error, use the function'root_mean_squared_error'.\n",
      "  warnings.warn(\n",
      "c:\\Users\\syeda\\.pyenv\\pyenv-win\\versions\\3.9.13\\lib\\site-packages\\sklearn\\metrics\\_regression.py:492: FutureWarning: 'squared' is deprecated in version 1.4 and will be removed in 1.6. To calculate the root mean squared error, use the function'root_mean_squared_error'.\n",
      "  warnings.warn(\n"
     ]
    }
   ],
   "source": [
    "#Linear Regressor for Geophys, evaluation with Cross-val\n",
    "rmse_scorer = make_scorer(mean_squared_error, squared=False)\n",
    "cv_scores = cross_val_score(geophys_pipeline_LR, X_geophys, y, cv=5, scoring=rmse_scorer)\n",
    "mean_rmse = np.mean(cv_scores)\n",
    "print(f\"Mean RMSE: {mean_rmse}\")\n",
    "warnings.filterwarnings(\"ignore\", category=DeprecationWarning)"
   ]
  },
  {
   "cell_type": "code",
   "execution_count": 168,
   "metadata": {},
   "outputs": [
    {
     "name": "stdout",
     "output_type": "stream",
     "text": [
      "Root Mean Squared Error: 12.973830926471912\n"
     ]
    }
   ],
   "source": [
    "#XGBoost Regressor for Geophys, evaluation with RMSE direct.\n",
    "geophys_pipeline_XGB = Pipeline([\n",
    "    ('scaler', StandardScaler()),  \n",
    "    ('regressor', XGBRegressor()) \n",
    "])\n",
    "geophys_pipeline_XGB.fit(X_geophystrain, y_train)\n",
    "y_geophys_pred = geophys_pipeline_XGB.predict(X_geophystest)\n",
    "rmse = np.sqrt(mean_squared_error(y_test, y_geophys_pred))\n",
    "print(f\"Root Mean Squared Error: {rmse}\")"
   ]
  },
  {
   "cell_type": "code",
   "execution_count": 169,
   "metadata": {},
   "outputs": [
    {
     "name": "stderr",
     "output_type": "stream",
     "text": [
      "c:\\Users\\syeda\\.pyenv\\pyenv-win\\versions\\3.9.13\\lib\\site-packages\\sklearn\\metrics\\_regression.py:492: FutureWarning: 'squared' is deprecated in version 1.4 and will be removed in 1.6. To calculate the root mean squared error, use the function'root_mean_squared_error'.\n",
      "  warnings.warn(\n",
      "c:\\Users\\syeda\\.pyenv\\pyenv-win\\versions\\3.9.13\\lib\\site-packages\\sklearn\\metrics\\_regression.py:492: FutureWarning: 'squared' is deprecated in version 1.4 and will be removed in 1.6. To calculate the root mean squared error, use the function'root_mean_squared_error'.\n",
      "  warnings.warn(\n",
      "c:\\Users\\syeda\\.pyenv\\pyenv-win\\versions\\3.9.13\\lib\\site-packages\\sklearn\\metrics\\_regression.py:492: FutureWarning: 'squared' is deprecated in version 1.4 and will be removed in 1.6. To calculate the root mean squared error, use the function'root_mean_squared_error'.\n",
      "  warnings.warn(\n",
      "c:\\Users\\syeda\\.pyenv\\pyenv-win\\versions\\3.9.13\\lib\\site-packages\\sklearn\\metrics\\_regression.py:492: FutureWarning: 'squared' is deprecated in version 1.4 and will be removed in 1.6. To calculate the root mean squared error, use the function'root_mean_squared_error'.\n",
      "  warnings.warn(\n",
      "c:\\Users\\syeda\\.pyenv\\pyenv-win\\versions\\3.9.13\\lib\\site-packages\\sklearn\\metrics\\_regression.py:492: FutureWarning: 'squared' is deprecated in version 1.4 and will be removed in 1.6. To calculate the root mean squared error, use the function'root_mean_squared_error'.\n",
      "  warnings.warn(\n",
      "c:\\Users\\syeda\\.pyenv\\pyenv-win\\versions\\3.9.13\\lib\\site-packages\\sklearn\\metrics\\_regression.py:492: FutureWarning: 'squared' is deprecated in version 1.4 and will be removed in 1.6. To calculate the root mean squared error, use the function'root_mean_squared_error'.\n",
      "  warnings.warn(\n",
      "c:\\Users\\syeda\\.pyenv\\pyenv-win\\versions\\3.9.13\\lib\\site-packages\\sklearn\\metrics\\_regression.py:492: FutureWarning: 'squared' is deprecated in version 1.4 and will be removed in 1.6. To calculate the root mean squared error, use the function'root_mean_squared_error'.\n",
      "  warnings.warn(\n",
      "c:\\Users\\syeda\\.pyenv\\pyenv-win\\versions\\3.9.13\\lib\\site-packages\\sklearn\\metrics\\_regression.py:492: FutureWarning: 'squared' is deprecated in version 1.4 and will be removed in 1.6. To calculate the root mean squared error, use the function'root_mean_squared_error'.\n",
      "  warnings.warn(\n"
     ]
    },
    {
     "name": "stdout",
     "output_type": "stream",
     "text": [
      "Mean RMSE: 12.711086899234198\n"
     ]
    },
    {
     "name": "stderr",
     "output_type": "stream",
     "text": [
      "c:\\Users\\syeda\\.pyenv\\pyenv-win\\versions\\3.9.13\\lib\\site-packages\\sklearn\\metrics\\_regression.py:492: FutureWarning: 'squared' is deprecated in version 1.4 and will be removed in 1.6. To calculate the root mean squared error, use the function'root_mean_squared_error'.\n",
      "  warnings.warn(\n",
      "c:\\Users\\syeda\\.pyenv\\pyenv-win\\versions\\3.9.13\\lib\\site-packages\\sklearn\\metrics\\_regression.py:492: FutureWarning: 'squared' is deprecated in version 1.4 and will be removed in 1.6. To calculate the root mean squared error, use the function'root_mean_squared_error'.\n",
      "  warnings.warn(\n"
     ]
    }
   ],
   "source": [
    "#XGBoost Regressor for Geophys, evaluation with Cross-val\n",
    "rmse_scorer = make_scorer(mean_squared_error, squared=False)\n",
    "cv_scores = cross_val_score(geophys_pipeline_XGB, X_geophys, y, cv=10, scoring=rmse_scorer)\n",
    "mean_rmse = np.mean(cv_scores)\n",
    "print(f\"Mean RMSE: {mean_rmse}\")\n",
    "warnings.filterwarnings(\"ignore\", category=DeprecationWarning)"
   ]
  },
  {
   "cell_type": "code",
   "execution_count": 170,
   "metadata": {},
   "outputs": [
    {
     "data": {
      "text/html": [
       "<div>\n",
       "<style scoped>\n",
       "    .dataframe tbody tr th:only-of-type {\n",
       "        vertical-align: middle;\n",
       "    }\n",
       "\n",
       "    .dataframe tbody tr th {\n",
       "        vertical-align: top;\n",
       "    }\n",
       "\n",
       "    .dataframe thead th {\n",
       "        text-align: right;\n",
       "    }\n",
       "</style>\n",
       "<table border=\"1\" class=\"dataframe\">\n",
       "  <thead>\n",
       "    <tr style=\"text-align: right;\">\n",
       "      <th></th>\n",
       "      <th>Feature</th>\n",
       "      <th>Importance</th>\n",
       "    </tr>\n",
       "  </thead>\n",
       "  <tbody>\n",
       "    <tr>\n",
       "      <th>3</th>\n",
       "      <td>cec_20cm_mean</td>\n",
       "      <td>0.113007</td>\n",
       "    </tr>\n",
       "    <tr>\n",
       "      <th>6</th>\n",
       "      <td>elevation</td>\n",
       "      <td>0.111843</td>\n",
       "    </tr>\n",
       "    <tr>\n",
       "      <th>8</th>\n",
       "      <td>nitrogen_20cm_mean</td>\n",
       "      <td>0.098723</td>\n",
       "    </tr>\n",
       "    <tr>\n",
       "      <th>14</th>\n",
       "      <td>soilWater</td>\n",
       "      <td>0.068238</td>\n",
       "    </tr>\n",
       "    <tr>\n",
       "      <th>13</th>\n",
       "      <td>slope</td>\n",
       "      <td>0.059811</td>\n",
       "    </tr>\n",
       "    <tr>\n",
       "      <th>12</th>\n",
       "      <td>silt_20cm_mean</td>\n",
       "      <td>0.053686</td>\n",
       "    </tr>\n",
       "    <tr>\n",
       "      <th>1</th>\n",
       "      <td>bedrock_depth_mean</td>\n",
       "      <td>0.052844</td>\n",
       "    </tr>\n",
       "    <tr>\n",
       "      <th>4</th>\n",
       "      <td>clay_20cm_mean</td>\n",
       "      <td>0.052633</td>\n",
       "    </tr>\n",
       "    <tr>\n",
       "      <th>2</th>\n",
       "      <td>bulk_density_20cm_mean</td>\n",
       "      <td>0.051545</td>\n",
       "    </tr>\n",
       "    <tr>\n",
       "      <th>17</th>\n",
       "      <td>upa</td>\n",
       "      <td>0.047956</td>\n",
       "    </tr>\n",
       "    <tr>\n",
       "      <th>18</th>\n",
       "      <td>waterDist</td>\n",
       "      <td>0.046792</td>\n",
       "    </tr>\n",
       "    <tr>\n",
       "      <th>9</th>\n",
       "      <td>organic_carbon_20cm_mean</td>\n",
       "      <td>0.040781</td>\n",
       "    </tr>\n",
       "    <tr>\n",
       "      <th>15</th>\n",
       "      <td>stone_20cm_mean</td>\n",
       "      <td>0.040269</td>\n",
       "    </tr>\n",
       "    <tr>\n",
       "      <th>5</th>\n",
       "      <td>damDist</td>\n",
       "      <td>0.030821</td>\n",
       "    </tr>\n",
       "    <tr>\n",
       "      <th>10</th>\n",
       "      <td>ph_20cm_mean</td>\n",
       "      <td>0.029605</td>\n",
       "    </tr>\n",
       "    <tr>\n",
       "      <th>7</th>\n",
       "      <td>hnd</td>\n",
       "      <td>0.028410</td>\n",
       "    </tr>\n",
       "    <tr>\n",
       "      <th>0</th>\n",
       "      <td>aspect</td>\n",
       "      <td>0.027726</td>\n",
       "    </tr>\n",
       "    <tr>\n",
       "      <th>16</th>\n",
       "      <td>total_carbon_20cm_mean</td>\n",
       "      <td>0.022709</td>\n",
       "    </tr>\n",
       "    <tr>\n",
       "      <th>11</th>\n",
       "      <td>sand_20cm_mean</td>\n",
       "      <td>0.022601</td>\n",
       "    </tr>\n",
       "  </tbody>\n",
       "</table>\n",
       "</div>"
      ],
      "text/plain": [
       "                     Feature  Importance\n",
       "3              cec_20cm_mean    0.113007\n",
       "6                  elevation    0.111843\n",
       "8         nitrogen_20cm_mean    0.098723\n",
       "14                 soilWater    0.068238\n",
       "13                     slope    0.059811\n",
       "12            silt_20cm_mean    0.053686\n",
       "1         bedrock_depth_mean    0.052844\n",
       "4             clay_20cm_mean    0.052633\n",
       "2     bulk_density_20cm_mean    0.051545\n",
       "17                       upa    0.047956\n",
       "18                 waterDist    0.046792\n",
       "9   organic_carbon_20cm_mean    0.040781\n",
       "15           stone_20cm_mean    0.040269\n",
       "5                    damDist    0.030821\n",
       "10              ph_20cm_mean    0.029605\n",
       "7                        hnd    0.028410\n",
       "0                     aspect    0.027726\n",
       "16    total_carbon_20cm_mean    0.022709\n",
       "11            sand_20cm_mean    0.022601"
      ]
     },
     "execution_count": 170,
     "metadata": {},
     "output_type": "execute_result"
    }
   ],
   "source": [
    "#Feature importance in Regressor\n",
    "xgb_model = geophys_pipeline_XGB.named_steps['regressor']\n",
    "importances = xgb_model.feature_importances_\n",
    "importance_df = pd.DataFrame({\n",
    "    'Feature': X_geophystrain.columns,\n",
    "    'Importance': importances\n",
    "}).sort_values(by='Importance', ascending=False)\n",
    "importance_df"
   ]
  },
  {
   "cell_type": "markdown",
   "metadata": {},
   "source": [
    "Climate Group"
   ]
  },
  {
   "cell_type": "code",
   "execution_count": 171,
   "metadata": {},
   "outputs": [],
   "source": [
    "aet_mean_laggers = [\"aet_mean_lag1mo\", \"aet_mean_lag2mo\", \"aet_mean_lag3mo\", \"aet_mean_lag4mo\", \"aet_mean_lag5mo\", \"aet_mean_lag6mo\",\n",
    "                    \"aet_mean_lag7mo\", \"aet_mean_lag8mo\", \"aet_mean_lag9mo\", \"aet_mean_lag10mo\", \"aet_mean_lag11mo\", \"aet_mean_lag12mo\"]\n",
    "\n",
    "def_mean_laggers = [\"def_mean_lag1mo\", \"def_mean_lag2mo\", \"def_mean_lag3mo\", \"def_mean_lag4mo\", \"def_mean_lag5mo\", \"def_mean_lag6mo\",\n",
    "                    \"def_mean_lag7mo\", \"def_mean_lag8mo\", \"def_mean_lag9mo\", \"def_mean_lag10mo\", \"def_mean_lag11mo\", \"def_mean_lag12mo\"]\n",
    "\n",
    "pdsi_mean_laggers = [\"pdsi_mean_lag1mo\", \"pdsi_mean_lag2mo\", \"pdsi_mean_lag3mo\", \"pdsi_mean_lag4mo\", \"pdsi_mean_lag5mo\", \"pdsi_mean_lag6mo\",\n",
    "                     \"pdsi_mean_lag7mo\", \"pdsi_mean_lag8mo\", \"pdsi_mean_lag9mo\", \"pdsi_mean_lag10mo\", \"pdsi_mean_lag11mo\", \"pdsi_mean_lag12mo\"]\n",
    "\n",
    "pet_mean_laggers = [\"pet_mean_lag1mo\", \"pet_mean_lag2mo\", \"pet_mean_lag3mo\", \"pet_mean_lag4mo\", \"pet_mean_lag5mo\", \"pet_mean_lag6mo\", \n",
    "                    \"pet_mean_lag7mo\", \"pet_mean_lag8mo\", \"pet_mean_lag9mo\", \"pet_mean_lag10mo\", \"pet_mean_lag11mo\", \"pet_mean_lag12mo\"]\n",
    "\n",
    "pr_mean_laggers = [\"pr_mean_lag1mo\", \"pr_mean_lag2mo\", \"pr_mean_lag3mo\", \"pr_mean_lag4mo\", \"pr_mean_lag5mo\", \"pr_mean_lag6mo\", \n",
    "                   \"pr_mean_lag7mo\", \"pr_mean_lag8mo\", \"pr_mean_lag9mo\", \"pr_mean_lag10mo\", \"pr_mean_lag11mo\", \"pr_mean_lag12mo\"]\n",
    "\n",
    "ro_mean_laggers = [\"ro_mean_lag1mo\", \"ro_mean_lag2mo\", \"ro_mean_lag3mo\", \"ro_mean_lag4mo\", \"ro_mean_lag5mo\", \"ro_mean_lag6mo\", \n",
    "                   \"ro_mean_lag7mo\", \"ro_mean_lag8mo\", \"ro_mean_lag9mo\", \"ro_mean_lag10mo\", \"ro_mean_lag11mo\", \"ro_mean_lag12mo\"]\n",
    "\n",
    "soil_mean_laggers = [\"soil_mean_lag1mo\", \"soil_mean_lag2mo\", \"soil_mean_lag3mo\", \"soil_mean_lag4mo\", \"soil_mean_lag5mo\", \"soil_mean_lag6mo\",\n",
    "                     \"soil_mean_lag7mo\", \"soil_mean_lag8mo\", \"soil_mean_lag9mo\", \"soil_mean_lag10mo\", \"soil_mean_lag11mo\", \"soil_mean_lag12mo\"]\n",
    "\n",
    "srad_mean_laggers = [\"srad_mean_lag1mo\", \"srad_mean_lag2mo\", \"srad_mean_lag3mo\", \"srad_mean_lag4mo\", \"srad_mean_lag5mo\", \"srad_mean_lag6mo\", \n",
    "                     \"srad_mean_lag7mo\", \"srad_mean_lag8mo\", \"srad_mean_lag9mo\", \"srad_mean_lag10mo\", \"srad_mean_lag11mo\", \"srad_mean_lag12mo\"]\n",
    "\n",
    "tmmn_mean_laggers = [\"tmmn_mean_lag1mo\", \"tmmn_mean_lag2mo\", \"tmmn_mean_lag3mo\", \"tmmn_mean_lag4mo\", \"tmmn_mean_lag5mo\", \"tmmn_mean_lag6mo\", \n",
    "                     \"tmmn_mean_lag7mo\", \"tmmn_mean_lag8mo\", \"tmmn_mean_lag9mo\", \"tmmn_mean_lag10mo\", \"tmmn_mean_lag11mo\", \"tmmn_mean_lag12mo\"]\n",
    "\n",
    "tmmx_mean_laggers = [\"tmmx_mean_lag1mo\", \"tmmx_mean_lag2mo\", \"tmmx_mean_lag3mo\", \"tmmx_mean_lag4mo\", \"tmmx_mean_lag5mo\", \"tmmx_mean_lag6mo\",\n",
    "                     \"tmmx_mean_lag7mo\", \"tmmx_mean_lag8mo\", \"tmmx_mean_lag9mo\", \"tmmx_mean_lag10mo\", \"tmmx_mean_lag11mo\", \"tmmx_mean_lag12mo\"]\n",
    "\n",
    "vap_mean_laggers = [\"vap_mean_lag1mo\", \"vap_mean_lag2mo\", \"vap_mean_lag3mo\", \"vap_mean_lag4mo\", \"vap_mean_lag5mo\", \"vap_mean_lag6mo\", \n",
    "                    \"vap_mean_lag7mo\", \"vap_mean_lag8mo\", \"vap_mean_lag9mo\", \"vap_mean_lag10mo\", \"vap_mean_lag11mo\", \"vap_mean_lag12mo\"]\n",
    "\n",
    "vpd_mean_laggers = [\"vpd_mean_lag1mo\", \"vpd_mean_lag2mo\", \"vpd_mean_lag3mo\", \"vpd_mean_lag4mo\", \"vpd_mean_lag5mo\", \"vpd_mean_lag6mo\", \n",
    "                    \"vpd_mean_lag7mo\", \"vpd_mean_lag8mo\", \"vpd_mean_lag9mo\", \"vpd_mean_lag10mo\", \"vpd_mean_lag11mo\", \"vpd_mean_lag12mo\"]\n",
    "\n",
    "vs_mean_laggers = [\"vs_mean_lag1mo\", \"vs_mean_lag2mo\", \"vs_mean_lag3mo\", \"vs_mean_lag4mo\", \"vs_mean_lag5mo\", \"vs_mean_lag6mo\", \n",
    "                   \"vs_mean_lag7mo\", \"vs_mean_lag8mo\", \"vs_mean_lag9mo\", \"vs_mean_lag10mo\", \"vs_mean_lag11mo\", \"vs_mean_lag12mo\"]  "
   ]
  },
  {
   "cell_type": "code",
   "execution_count": 172,
   "metadata": {},
   "outputs": [],
   "source": [
    "df['aet_mean_lag'] = df[aet_mean_laggers].mean(axis=1)\n",
    "df['def_mean_lag'] = df[def_mean_laggers].mean(axis=1)\n",
    "df['pdsi_mean_lag'] = df[pdsi_mean_laggers].mean(axis=1)\n",
    "df['pet_mean_lag'] = df[pet_mean_laggers].mean(axis=1)\n",
    "df['pr_mean_lag'] = df[pr_mean_laggers].mean(axis=1)\n",
    "df['ro_mean_lag'] = df[ro_mean_laggers].mean(axis=1)\n",
    "df['soil_mean_lag'] = df[soil_mean_laggers].mean(axis=1)\n",
    "df['srad_mean_lag'] = df[srad_mean_laggers].mean(axis=1)\n",
    "df['tmmn_mean_lag'] = df[tmmn_mean_laggers].mean(axis=1)\n",
    "df['tmmx_mean_lag'] = df[tmmx_mean_laggers].mean(axis=1)\n",
    "df['vap_mean_lag'] = df[vap_mean_laggers].mean(axis=1)\n",
    "df['vpd_mean_lag'] = df[vpd_mean_laggers].mean(axis=1)\n",
    "df['vs_mean_lag'] = df[vs_mean_laggers].mean(axis=1)"
   ]
  },
  {
   "cell_type": "code",
   "execution_count": 174,
   "metadata": {},
   "outputs": [],
   "source": [
    "climate_vars = [\"aet_mean_lag\", \"def_mean_lag\", \"pdsi_mean_lag\", \"pet_mean_lag\", \"pr_mean_lag\", \"ro_mean_lag\", \"soil_mean_lag\", \"srad_mean_lag\",\n",
    "                \"tmmn_mean_lag\", \"tmmx_mean_lag\", \"vap_mean_lag\", \"vpd_mean_lag\", \"vs_mean_lag\", \"aet_mean\", \"def_mean\", \"pdsi_mean\", \"pet_mean\", \n",
    "                \"pr_mean\", \"ro_mean\", \"soil_mean\", \"srad_mean\", \"tmmn_mean\", \"tmmx_mean\", \"vap_mean\", \"vpd_mean\", \"vs_mean\"] "
   ]
  },
  {
   "cell_type": "code",
   "execution_count": 175,
   "metadata": {},
   "outputs": [],
   "source": [
    "X_clim = df[climate_vars] #input features\n",
    "y = df[target_var] #target var - shprev"
   ]
  },
  {
   "cell_type": "code",
   "execution_count": 176,
   "metadata": {},
   "outputs": [],
   "source": [
    "X_climtrain, X_climtest, y_train, y_test = train_test_split(X_clim, y, test_size=0.2, random_state=42)"
   ]
  },
  {
   "cell_type": "code",
   "execution_count": 177,
   "metadata": {},
   "outputs": [
    {
     "name": "stdout",
     "output_type": "stream",
     "text": [
      "Root Mean Squared Error: 9.922752177375777\n"
     ]
    }
   ],
   "source": [
    "#Linear Regressor for climate, evaluation with RMSE direct.\n",
    "clim_pipeline_LR = Pipeline([\n",
    "    ('scaler', StandardScaler()),    # Step 1: Scaling\n",
    "    ('regressor', LinearRegression()) # Step 2: Linear Regression\n",
    "])\n",
    "clim_pipeline_LR.fit(X_climtrain, y_train)\n",
    "y_clim_pred = clim_pipeline_LR.predict(X_climtest)\n",
    "rmse = np.sqrt(mean_squared_error(y_test, y_clim_pred))\n",
    "print(f\"Root Mean Squared Error: {rmse}\")"
   ]
  },
  {
   "cell_type": "code",
   "execution_count": 178,
   "metadata": {},
   "outputs": [
    {
     "name": "stdout",
     "output_type": "stream",
     "text": [
      "Mean RMSE: 13.071226247056359\n"
     ]
    },
    {
     "name": "stderr",
     "output_type": "stream",
     "text": [
      "c:\\Users\\syeda\\.pyenv\\pyenv-win\\versions\\3.9.13\\lib\\site-packages\\sklearn\\metrics\\_regression.py:492: FutureWarning: 'squared' is deprecated in version 1.4 and will be removed in 1.6. To calculate the root mean squared error, use the function'root_mean_squared_error'.\n",
      "  warnings.warn(\n",
      "c:\\Users\\syeda\\.pyenv\\pyenv-win\\versions\\3.9.13\\lib\\site-packages\\sklearn\\metrics\\_regression.py:492: FutureWarning: 'squared' is deprecated in version 1.4 and will be removed in 1.6. To calculate the root mean squared error, use the function'root_mean_squared_error'.\n",
      "  warnings.warn(\n",
      "c:\\Users\\syeda\\.pyenv\\pyenv-win\\versions\\3.9.13\\lib\\site-packages\\sklearn\\metrics\\_regression.py:492: FutureWarning: 'squared' is deprecated in version 1.4 and will be removed in 1.6. To calculate the root mean squared error, use the function'root_mean_squared_error'.\n",
      "  warnings.warn(\n",
      "c:\\Users\\syeda\\.pyenv\\pyenv-win\\versions\\3.9.13\\lib\\site-packages\\sklearn\\metrics\\_regression.py:492: FutureWarning: 'squared' is deprecated in version 1.4 and will be removed in 1.6. To calculate the root mean squared error, use the function'root_mean_squared_error'.\n",
      "  warnings.warn(\n",
      "c:\\Users\\syeda\\.pyenv\\pyenv-win\\versions\\3.9.13\\lib\\site-packages\\sklearn\\metrics\\_regression.py:492: FutureWarning: 'squared' is deprecated in version 1.4 and will be removed in 1.6. To calculate the root mean squared error, use the function'root_mean_squared_error'.\n",
      "  warnings.warn(\n",
      "c:\\Users\\syeda\\.pyenv\\pyenv-win\\versions\\3.9.13\\lib\\site-packages\\sklearn\\metrics\\_regression.py:492: FutureWarning: 'squared' is deprecated in version 1.4 and will be removed in 1.6. To calculate the root mean squared error, use the function'root_mean_squared_error'.\n",
      "  warnings.warn(\n",
      "c:\\Users\\syeda\\.pyenv\\pyenv-win\\versions\\3.9.13\\lib\\site-packages\\sklearn\\metrics\\_regression.py:492: FutureWarning: 'squared' is deprecated in version 1.4 and will be removed in 1.6. To calculate the root mean squared error, use the function'root_mean_squared_error'.\n",
      "  warnings.warn(\n",
      "c:\\Users\\syeda\\.pyenv\\pyenv-win\\versions\\3.9.13\\lib\\site-packages\\sklearn\\metrics\\_regression.py:492: FutureWarning: 'squared' is deprecated in version 1.4 and will be removed in 1.6. To calculate the root mean squared error, use the function'root_mean_squared_error'.\n",
      "  warnings.warn(\n",
      "c:\\Users\\syeda\\.pyenv\\pyenv-win\\versions\\3.9.13\\lib\\site-packages\\sklearn\\metrics\\_regression.py:492: FutureWarning: 'squared' is deprecated in version 1.4 and will be removed in 1.6. To calculate the root mean squared error, use the function'root_mean_squared_error'.\n",
      "  warnings.warn(\n",
      "c:\\Users\\syeda\\.pyenv\\pyenv-win\\versions\\3.9.13\\lib\\site-packages\\sklearn\\metrics\\_regression.py:492: FutureWarning: 'squared' is deprecated in version 1.4 and will be removed in 1.6. To calculate the root mean squared error, use the function'root_mean_squared_error'.\n",
      "  warnings.warn(\n"
     ]
    }
   ],
   "source": [
    "#Linear Regressor for climate, evaluation with Cross-val\n",
    "rmse_scorer = make_scorer(mean_squared_error, squared=False)\n",
    "cv_scores = cross_val_score(clim_pipeline_LR, X_clim, y, cv=10, scoring=rmse_scorer)\n",
    "mean_rmse = np.mean(cv_scores)\n",
    "print(f\"Mean RMSE: {mean_rmse}\")\n",
    "warnings.filterwarnings(\"ignore\", category=DeprecationWarning)"
   ]
  },
  {
   "cell_type": "code",
   "execution_count": 179,
   "metadata": {},
   "outputs": [
    {
     "name": "stdout",
     "output_type": "stream",
     "text": [
      "Root Mean Squared Error: 10.346215246549914\n"
     ]
    }
   ],
   "source": [
    "#XGBoost Regressor for climate, evaluation with RMSE direct.\n",
    "clim_pipeline_XGB = Pipeline([\n",
    "    ('scaler', StandardScaler()),  \n",
    "    ('regressor', XGBRegressor()) \n",
    "])\n",
    "clim_pipeline_XGB.fit(X_climtrain, y_train)\n",
    "y_clim_pred = clim_pipeline_XGB.predict(X_climtest)\n",
    "rmse = np.sqrt(mean_squared_error(y_test, y_clim_pred))\n",
    "print(f\"Root Mean Squared Error: {rmse}\")"
   ]
  },
  {
   "cell_type": "code",
   "execution_count": 180,
   "metadata": {},
   "outputs": [
    {
     "name": "stderr",
     "output_type": "stream",
     "text": [
      "c:\\Users\\syeda\\.pyenv\\pyenv-win\\versions\\3.9.13\\lib\\site-packages\\sklearn\\metrics\\_regression.py:492: FutureWarning: 'squared' is deprecated in version 1.4 and will be removed in 1.6. To calculate the root mean squared error, use the function'root_mean_squared_error'.\n",
      "  warnings.warn(\n",
      "c:\\Users\\syeda\\.pyenv\\pyenv-win\\versions\\3.9.13\\lib\\site-packages\\sklearn\\metrics\\_regression.py:492: FutureWarning: 'squared' is deprecated in version 1.4 and will be removed in 1.6. To calculate the root mean squared error, use the function'root_mean_squared_error'.\n",
      "  warnings.warn(\n",
      "c:\\Users\\syeda\\.pyenv\\pyenv-win\\versions\\3.9.13\\lib\\site-packages\\sklearn\\metrics\\_regression.py:492: FutureWarning: 'squared' is deprecated in version 1.4 and will be removed in 1.6. To calculate the root mean squared error, use the function'root_mean_squared_error'.\n",
      "  warnings.warn(\n",
      "c:\\Users\\syeda\\.pyenv\\pyenv-win\\versions\\3.9.13\\lib\\site-packages\\sklearn\\metrics\\_regression.py:492: FutureWarning: 'squared' is deprecated in version 1.4 and will be removed in 1.6. To calculate the root mean squared error, use the function'root_mean_squared_error'.\n",
      "  warnings.warn(\n",
      "c:\\Users\\syeda\\.pyenv\\pyenv-win\\versions\\3.9.13\\lib\\site-packages\\sklearn\\metrics\\_regression.py:492: FutureWarning: 'squared' is deprecated in version 1.4 and will be removed in 1.6. To calculate the root mean squared error, use the function'root_mean_squared_error'.\n",
      "  warnings.warn(\n",
      "c:\\Users\\syeda\\.pyenv\\pyenv-win\\versions\\3.9.13\\lib\\site-packages\\sklearn\\metrics\\_regression.py:492: FutureWarning: 'squared' is deprecated in version 1.4 and will be removed in 1.6. To calculate the root mean squared error, use the function'root_mean_squared_error'.\n",
      "  warnings.warn(\n",
      "c:\\Users\\syeda\\.pyenv\\pyenv-win\\versions\\3.9.13\\lib\\site-packages\\sklearn\\metrics\\_regression.py:492: FutureWarning: 'squared' is deprecated in version 1.4 and will be removed in 1.6. To calculate the root mean squared error, use the function'root_mean_squared_error'.\n",
      "  warnings.warn(\n",
      "c:\\Users\\syeda\\.pyenv\\pyenv-win\\versions\\3.9.13\\lib\\site-packages\\sklearn\\metrics\\_regression.py:492: FutureWarning: 'squared' is deprecated in version 1.4 and will be removed in 1.6. To calculate the root mean squared error, use the function'root_mean_squared_error'.\n",
      "  warnings.warn(\n"
     ]
    },
    {
     "name": "stdout",
     "output_type": "stream",
     "text": [
      "Mean RMSE: 13.302056479078834\n"
     ]
    },
    {
     "name": "stderr",
     "output_type": "stream",
     "text": [
      "c:\\Users\\syeda\\.pyenv\\pyenv-win\\versions\\3.9.13\\lib\\site-packages\\sklearn\\metrics\\_regression.py:492: FutureWarning: 'squared' is deprecated in version 1.4 and will be removed in 1.6. To calculate the root mean squared error, use the function'root_mean_squared_error'.\n",
      "  warnings.warn(\n",
      "c:\\Users\\syeda\\.pyenv\\pyenv-win\\versions\\3.9.13\\lib\\site-packages\\sklearn\\metrics\\_regression.py:492: FutureWarning: 'squared' is deprecated in version 1.4 and will be removed in 1.6. To calculate the root mean squared error, use the function'root_mean_squared_error'.\n",
      "  warnings.warn(\n"
     ]
    }
   ],
   "source": [
    "#XGBoost Regressor for Climate, evaluation with Cross-val\n",
    "rmse_scorer = make_scorer(mean_squared_error, squared=False)\n",
    "cv_scores = cross_val_score(clim_pipeline_XGB, X_clim, y, cv=10, scoring=rmse_scorer)\n",
    "mean_rmse = np.mean(cv_scores)\n",
    "print(f\"Mean RMSE: {mean_rmse}\")\n",
    "warnings.filterwarnings(\"ignore\", category=DeprecationWarning)"
   ]
  },
  {
   "cell_type": "code",
   "execution_count": 181,
   "metadata": {},
   "outputs": [
    {
     "data": {
      "text/html": [
       "<div>\n",
       "<style scoped>\n",
       "    .dataframe tbody tr th:only-of-type {\n",
       "        vertical-align: middle;\n",
       "    }\n",
       "\n",
       "    .dataframe tbody tr th {\n",
       "        vertical-align: top;\n",
       "    }\n",
       "\n",
       "    .dataframe thead th {\n",
       "        text-align: right;\n",
       "    }\n",
       "</style>\n",
       "<table border=\"1\" class=\"dataframe\">\n",
       "  <thead>\n",
       "    <tr style=\"text-align: right;\">\n",
       "      <th></th>\n",
       "      <th>Feature</th>\n",
       "      <th>Importance</th>\n",
       "    </tr>\n",
       "  </thead>\n",
       "  <tbody>\n",
       "    <tr>\n",
       "      <th>5</th>\n",
       "      <td>ro_mean_lag</td>\n",
       "      <td>0.169213</td>\n",
       "    </tr>\n",
       "    <tr>\n",
       "      <th>12</th>\n",
       "      <td>vs_mean_lag</td>\n",
       "      <td>0.108582</td>\n",
       "    </tr>\n",
       "    <tr>\n",
       "      <th>24</th>\n",
       "      <td>vpd_mean</td>\n",
       "      <td>0.069930</td>\n",
       "    </tr>\n",
       "    <tr>\n",
       "      <th>23</th>\n",
       "      <td>vap_mean</td>\n",
       "      <td>0.057453</td>\n",
       "    </tr>\n",
       "    <tr>\n",
       "      <th>25</th>\n",
       "      <td>vs_mean</td>\n",
       "      <td>0.040915</td>\n",
       "    </tr>\n",
       "    <tr>\n",
       "      <th>22</th>\n",
       "      <td>tmmx_mean</td>\n",
       "      <td>0.038939</td>\n",
       "    </tr>\n",
       "    <tr>\n",
       "      <th>20</th>\n",
       "      <td>srad_mean</td>\n",
       "      <td>0.038151</td>\n",
       "    </tr>\n",
       "    <tr>\n",
       "      <th>19</th>\n",
       "      <td>soil_mean</td>\n",
       "      <td>0.037287</td>\n",
       "    </tr>\n",
       "    <tr>\n",
       "      <th>11</th>\n",
       "      <td>vpd_mean_lag</td>\n",
       "      <td>0.037256</td>\n",
       "    </tr>\n",
       "    <tr>\n",
       "      <th>9</th>\n",
       "      <td>tmmx_mean_lag</td>\n",
       "      <td>0.033993</td>\n",
       "    </tr>\n",
       "    <tr>\n",
       "      <th>13</th>\n",
       "      <td>aet_mean</td>\n",
       "      <td>0.033027</td>\n",
       "    </tr>\n",
       "    <tr>\n",
       "      <th>17</th>\n",
       "      <td>pr_mean</td>\n",
       "      <td>0.031877</td>\n",
       "    </tr>\n",
       "    <tr>\n",
       "      <th>3</th>\n",
       "      <td>pet_mean_lag</td>\n",
       "      <td>0.029884</td>\n",
       "    </tr>\n",
       "    <tr>\n",
       "      <th>21</th>\n",
       "      <td>tmmn_mean</td>\n",
       "      <td>0.027581</td>\n",
       "    </tr>\n",
       "    <tr>\n",
       "      <th>8</th>\n",
       "      <td>tmmn_mean_lag</td>\n",
       "      <td>0.027013</td>\n",
       "    </tr>\n",
       "    <tr>\n",
       "      <th>16</th>\n",
       "      <td>pet_mean</td>\n",
       "      <td>0.026268</td>\n",
       "    </tr>\n",
       "    <tr>\n",
       "      <th>15</th>\n",
       "      <td>pdsi_mean</td>\n",
       "      <td>0.024980</td>\n",
       "    </tr>\n",
       "    <tr>\n",
       "      <th>10</th>\n",
       "      <td>vap_mean_lag</td>\n",
       "      <td>0.022788</td>\n",
       "    </tr>\n",
       "    <tr>\n",
       "      <th>7</th>\n",
       "      <td>srad_mean_lag</td>\n",
       "      <td>0.022627</td>\n",
       "    </tr>\n",
       "    <tr>\n",
       "      <th>2</th>\n",
       "      <td>pdsi_mean_lag</td>\n",
       "      <td>0.022287</td>\n",
       "    </tr>\n",
       "    <tr>\n",
       "      <th>18</th>\n",
       "      <td>ro_mean</td>\n",
       "      <td>0.021822</td>\n",
       "    </tr>\n",
       "    <tr>\n",
       "      <th>14</th>\n",
       "      <td>def_mean</td>\n",
       "      <td>0.019326</td>\n",
       "    </tr>\n",
       "    <tr>\n",
       "      <th>4</th>\n",
       "      <td>pr_mean_lag</td>\n",
       "      <td>0.017579</td>\n",
       "    </tr>\n",
       "    <tr>\n",
       "      <th>1</th>\n",
       "      <td>def_mean_lag</td>\n",
       "      <td>0.017209</td>\n",
       "    </tr>\n",
       "    <tr>\n",
       "      <th>0</th>\n",
       "      <td>aet_mean_lag</td>\n",
       "      <td>0.012340</td>\n",
       "    </tr>\n",
       "    <tr>\n",
       "      <th>6</th>\n",
       "      <td>soil_mean_lag</td>\n",
       "      <td>0.011671</td>\n",
       "    </tr>\n",
       "  </tbody>\n",
       "</table>\n",
       "</div>"
      ],
      "text/plain": [
       "          Feature  Importance\n",
       "5     ro_mean_lag    0.169213\n",
       "12    vs_mean_lag    0.108582\n",
       "24       vpd_mean    0.069930\n",
       "23       vap_mean    0.057453\n",
       "25        vs_mean    0.040915\n",
       "22      tmmx_mean    0.038939\n",
       "20      srad_mean    0.038151\n",
       "19      soil_mean    0.037287\n",
       "11   vpd_mean_lag    0.037256\n",
       "9   tmmx_mean_lag    0.033993\n",
       "13       aet_mean    0.033027\n",
       "17        pr_mean    0.031877\n",
       "3    pet_mean_lag    0.029884\n",
       "21      tmmn_mean    0.027581\n",
       "8   tmmn_mean_lag    0.027013\n",
       "16       pet_mean    0.026268\n",
       "15      pdsi_mean    0.024980\n",
       "10   vap_mean_lag    0.022788\n",
       "7   srad_mean_lag    0.022627\n",
       "2   pdsi_mean_lag    0.022287\n",
       "18        ro_mean    0.021822\n",
       "14       def_mean    0.019326\n",
       "4     pr_mean_lag    0.017579\n",
       "1    def_mean_lag    0.017209\n",
       "0    aet_mean_lag    0.012340\n",
       "6   soil_mean_lag    0.011671"
      ]
     },
     "execution_count": 181,
     "metadata": {},
     "output_type": "execute_result"
    }
   ],
   "source": [
    "#Feature importance in Regressor\n",
    "xgb_model = clim_pipeline_XGB.named_steps['regressor']\n",
    "importances = xgb_model.feature_importances_\n",
    "importance_df = pd.DataFrame({\n",
    "    'Feature': X_climtrain.columns,\n",
    "    'Importance': importances\n",
    "}).sort_values(by='Importance', ascending=False)\n",
    "importance_df"
   ]
  },
  {
   "cell_type": "markdown",
   "metadata": {},
   "source": [
    "Vegetation Group"
   ]
  },
  {
   "cell_type": "code",
   "execution_count": 182,
   "metadata": {},
   "outputs": [],
   "source": [
    "evi_mean_laggers = [\"evi_mean_lag1mo\", \"evi_mean_lag2mo\", \"evi_mean_lag3mo\", \"evi_mean_lag4mo\", \"evi_mean_lag5mo\", \"evi_mean_lag6mo\",\n",
    "                    \"evi_mean_lag7mo\", \"evi_mean_lag8mo\", \"evi_mean_lag9mo\", \"evi_mean_lag10mo\", \"evi_mean_lag11mo\", \"evi_mean_lag12mo\"]\n",
    "\n",
    "msavi_mean_laggers = [\"msavi_mean_lag1mo\", \"msavi_mean_lag2mo\", \"msavi_mean_lag3mo\", \"msavi_mean_lag4mo\", \"msavi_mean_lag5mo\", \"msavi_mean_lag6mo\", \n",
    "                      \"msavi_mean_lag7mo\", \"msavi_mean_lag8mo\", \"msavi_mean_lag9mo\", \"msavi_mean_lag10mo\", \"msavi_mean_lag11mo\", \"msavi_mean_lag12mo\"]\n",
    "\n",
    "ndii_mean_laggers = [\"ndii_mean_lag1mo\", \"ndii_mean_lag2mo\", \"ndii_mean_lag3mo\", \"ndii_mean_lag4mo\", \"ndii_mean_lag5mo\", \"ndii_mean_lag6mo\", \n",
    "                     \"ndii_mean_lag7mo\", \"ndii_mean_lag8mo\", \"ndii_mean_lag9mo\", \"ndii_mean_lag10mo\", \"ndii_mean_lag11mo\", \"ndii_mean_lag12mo\"]\n",
    "\n",
    "ndvi_mean_laggers = [\"ndvi_mean_lag1mo\", \"ndvi_mean_lag2mo\", \"ndvi_mean_lag3mo\", \"ndvi_mean_lag4mo\", \"ndvi_mean_lag5mo\", \"ndvi_mean_lag6mo\", \n",
    "                     \"ndvi_mean_lag7mo\", \"ndvi_mean_lag8mo\", \"ndvi_mean_lag9mo\", \"ndvi_mean_lag10mo\", \"ndvi_mean_lag11mo\", \"ndvi_mean_lag12mo\"]\n",
    "\n",
    "ndwi_mean_laggers = [\"ndwi_mean_lag1mo\", \"ndwi_mean_lag2mo\", \"ndwi_mean_lag3mo\", \"ndwi_mean_lag4mo\", \"ndwi_mean_lag5mo\", \"ndwi_mean_lag6mo\",\n",
    "                     \"ndwi_mean_lag7mo\", \"ndwi_mean_lag8mo\", \"ndwi_mean_lag9mo\", \"ndwi_mean_lag10mo\", \"ndwi_mean_lag11mo\", \"ndwi_mean_lag12mo\"]\n",
    "\n",
    "savi_mean_laggers = [\"savi_mean_lag1mo\", \"savi_mean_lag2mo\", \"savi_mean_lag3mo\", \"savi_mean_lag4mo\", \"savi_mean_lag5mo\", \"savi_mean_lag6mo\",\n",
    "                     \"savi_mean_lag7mo\", \"savi_mean_lag8mo\", \"savi_mean_lag9mo\", \"savi_mean_lag10mo\", \"savi_mean_lag11mo\", \"savi_mean_lag12mo\"]"
   ]
  },
  {
   "cell_type": "code",
   "execution_count": 183,
   "metadata": {},
   "outputs": [],
   "source": [
    "df['evi_mean_lag'] = df[evi_mean_laggers].mean(axis=1)\n",
    "df['msavi_mean_lag'] = df[msavi_mean_laggers].mean(axis=1)\n",
    "df['ndii_mean_lag'] = df[ndii_mean_laggers].mean(axis=1)\n",
    "df['ndvi_mean_lag'] = df[ndvi_mean_laggers].mean(axis=1)\n",
    "df['ndwi_mean_lag'] = df[ndwi_mean_laggers].mean(axis=1)\n",
    "df['savi_mean_lag'] = df[savi_mean_laggers].mean(axis=1)"
   ]
  },
  {
   "cell_type": "code",
   "execution_count": 184,
   "metadata": {},
   "outputs": [],
   "source": [
    "veg_vars = [\"evi_mean_lag\", \"msavi_mean_lag\", \"ndii_mean_lag\", \"ndvi_mean_lag\", \"ndwi_mean_lag\", \"savi_mean_lag\", \n",
    "            \"EVI_mean\", \"MSAVI_mean\", \"NDII_mean\", \"NDVI_mean\", \"NDWI_mean\", \"SAVI_mean\"]\n",
    "#what to do with the NaNs? "
   ]
  },
  {
   "cell_type": "code",
   "execution_count": 185,
   "metadata": {},
   "outputs": [
    {
     "name": "stdout",
     "output_type": "stream",
     "text": [
      "evi_mean_lag NaN count: 0 \n",
      "msavi_mean_lag NaN count: 0 \n",
      "ndii_mean_lag NaN count: 0 \n",
      "ndvi_mean_lag NaN count: 0 \n",
      "ndwi_mean_lag NaN count: 0 \n",
      "savi_mean_lag NaN count: 0 \n",
      "EVI_mean NaN count: 83 \n",
      "MSAVI_mean NaN count: 83 \n",
      "NDII_mean NaN count: 83 \n",
      "NDVI_mean NaN count: 83 \n",
      "NDWI_mean NaN count: 83 \n",
      "SAVI_mean NaN count: 83 \n"
     ]
    }
   ],
   "source": [
    "for var in veg_vars: \n",
    "    print(f\"{var} NaN count: {df[var].isna().sum()} \")"
   ]
  },
  {
   "cell_type": "code",
   "execution_count": 186,
   "metadata": {},
   "outputs": [],
   "source": [
    "veg_data_combined = df[veg_vars + [target_var]].dropna()\n",
    "X_veg = veg_data_combined[veg_vars]\n",
    "y = veg_data_combined[target_var]"
   ]
  },
  {
   "cell_type": "code",
   "execution_count": 187,
   "metadata": {},
   "outputs": [],
   "source": [
    "X_vegtrain, X_vegtest, y_train, y_test = train_test_split(X_veg, y, test_size=0.2, random_state=42)"
   ]
  },
  {
   "cell_type": "code",
   "execution_count": 188,
   "metadata": {},
   "outputs": [
    {
     "name": "stdout",
     "output_type": "stream",
     "text": [
      "Root Mean Squared Error: 9.711678882194352\n"
     ]
    }
   ],
   "source": [
    "#Linear Regressor for veg, evaluation with RMSE direct - not introducing a scaler because they are all on the same scale \n",
    "veg_pipeline_LR = Pipeline([\n",
    "    ('regressor', LinearRegression()) # Step 2: Linear Regression\n",
    "])\n",
    "veg_pipeline_LR.fit(X_vegtrain, y_train)\n",
    "y_veg_pred = veg_pipeline_LR.predict(X_vegtest)\n",
    "rmse = np.sqrt(mean_squared_error(y_test, y_veg_pred))\n",
    "print(f\"Root Mean Squared Error: {rmse}\")"
   ]
  },
  {
   "cell_type": "code",
   "execution_count": 189,
   "metadata": {},
   "outputs": [
    {
     "name": "stdout",
     "output_type": "stream",
     "text": [
      "Mean RMSE: 10.756538645823422\n"
     ]
    },
    {
     "name": "stderr",
     "output_type": "stream",
     "text": [
      "c:\\Users\\syeda\\.pyenv\\pyenv-win\\versions\\3.9.13\\lib\\site-packages\\sklearn\\metrics\\_regression.py:492: FutureWarning: 'squared' is deprecated in version 1.4 and will be removed in 1.6. To calculate the root mean squared error, use the function'root_mean_squared_error'.\n",
      "  warnings.warn(\n",
      "c:\\Users\\syeda\\.pyenv\\pyenv-win\\versions\\3.9.13\\lib\\site-packages\\sklearn\\metrics\\_regression.py:492: FutureWarning: 'squared' is deprecated in version 1.4 and will be removed in 1.6. To calculate the root mean squared error, use the function'root_mean_squared_error'.\n",
      "  warnings.warn(\n",
      "c:\\Users\\syeda\\.pyenv\\pyenv-win\\versions\\3.9.13\\lib\\site-packages\\sklearn\\metrics\\_regression.py:492: FutureWarning: 'squared' is deprecated in version 1.4 and will be removed in 1.6. To calculate the root mean squared error, use the function'root_mean_squared_error'.\n",
      "  warnings.warn(\n",
      "c:\\Users\\syeda\\.pyenv\\pyenv-win\\versions\\3.9.13\\lib\\site-packages\\sklearn\\metrics\\_regression.py:492: FutureWarning: 'squared' is deprecated in version 1.4 and will be removed in 1.6. To calculate the root mean squared error, use the function'root_mean_squared_error'.\n",
      "  warnings.warn(\n",
      "c:\\Users\\syeda\\.pyenv\\pyenv-win\\versions\\3.9.13\\lib\\site-packages\\sklearn\\metrics\\_regression.py:492: FutureWarning: 'squared' is deprecated in version 1.4 and will be removed in 1.6. To calculate the root mean squared error, use the function'root_mean_squared_error'.\n",
      "  warnings.warn(\n",
      "c:\\Users\\syeda\\.pyenv\\pyenv-win\\versions\\3.9.13\\lib\\site-packages\\sklearn\\metrics\\_regression.py:492: FutureWarning: 'squared' is deprecated in version 1.4 and will be removed in 1.6. To calculate the root mean squared error, use the function'root_mean_squared_error'.\n",
      "  warnings.warn(\n",
      "c:\\Users\\syeda\\.pyenv\\pyenv-win\\versions\\3.9.13\\lib\\site-packages\\sklearn\\metrics\\_regression.py:492: FutureWarning: 'squared' is deprecated in version 1.4 and will be removed in 1.6. To calculate the root mean squared error, use the function'root_mean_squared_error'.\n",
      "  warnings.warn(\n",
      "c:\\Users\\syeda\\.pyenv\\pyenv-win\\versions\\3.9.13\\lib\\site-packages\\sklearn\\metrics\\_regression.py:492: FutureWarning: 'squared' is deprecated in version 1.4 and will be removed in 1.6. To calculate the root mean squared error, use the function'root_mean_squared_error'.\n",
      "  warnings.warn(\n",
      "c:\\Users\\syeda\\.pyenv\\pyenv-win\\versions\\3.9.13\\lib\\site-packages\\sklearn\\metrics\\_regression.py:492: FutureWarning: 'squared' is deprecated in version 1.4 and will be removed in 1.6. To calculate the root mean squared error, use the function'root_mean_squared_error'.\n",
      "  warnings.warn(\n",
      "c:\\Users\\syeda\\.pyenv\\pyenv-win\\versions\\3.9.13\\lib\\site-packages\\sklearn\\metrics\\_regression.py:492: FutureWarning: 'squared' is deprecated in version 1.4 and will be removed in 1.6. To calculate the root mean squared error, use the function'root_mean_squared_error'.\n",
      "  warnings.warn(\n"
     ]
    }
   ],
   "source": [
    "#Linear Regressor for veg, evaluation with Cross-val\n",
    "def crosseval(pipeline_name, inputs, y_labels): \n",
    "    rmse_scorer = make_scorer(mean_squared_error, squared=False)\n",
    "    cv_scores = cross_val_score(pipeline_name, inputs, y_labels, cv=10, scoring=rmse_scorer)\n",
    "    mean_rmse = np.mean(cv_scores)\n",
    "    print(f\"Mean RMSE: {mean_rmse}\")\n",
    "    warnings.filterwarnings(\"ignore\", category=DeprecationWarning)\n",
    "\n",
    "crosseval(veg_pipeline_LR, X_veg, y)"
   ]
  },
  {
   "cell_type": "code",
   "execution_count": 190,
   "metadata": {},
   "outputs": [
    {
     "name": "stdout",
     "output_type": "stream",
     "text": [
      "Root Mean Squared Error: 9.892873576064636\n"
     ]
    }
   ],
   "source": [
    "#XGBoost for veg, direct rmse\n",
    "veg_pipeline_XGB = Pipeline([  \n",
    "    ('regressor', XGBRegressor()) \n",
    "])\n",
    "veg_pipeline_XGB.fit(X_vegtrain, y_train)\n",
    "y_veg_pred = veg_pipeline_XGB.predict(X_vegtest)\n",
    "rmse = np.sqrt(mean_squared_error(y_test, y_veg_pred))\n",
    "print(f\"Root Mean Squared Error: {rmse}\")"
   ]
  },
  {
   "cell_type": "code",
   "execution_count": 191,
   "metadata": {},
   "outputs": [
    {
     "name": "stderr",
     "output_type": "stream",
     "text": [
      "c:\\Users\\syeda\\.pyenv\\pyenv-win\\versions\\3.9.13\\lib\\site-packages\\sklearn\\metrics\\_regression.py:492: FutureWarning: 'squared' is deprecated in version 1.4 and will be removed in 1.6. To calculate the root mean squared error, use the function'root_mean_squared_error'.\n",
      "  warnings.warn(\n",
      "c:\\Users\\syeda\\.pyenv\\pyenv-win\\versions\\3.9.13\\lib\\site-packages\\sklearn\\metrics\\_regression.py:492: FutureWarning: 'squared' is deprecated in version 1.4 and will be removed in 1.6. To calculate the root mean squared error, use the function'root_mean_squared_error'.\n",
      "  warnings.warn(\n",
      "c:\\Users\\syeda\\.pyenv\\pyenv-win\\versions\\3.9.13\\lib\\site-packages\\sklearn\\metrics\\_regression.py:492: FutureWarning: 'squared' is deprecated in version 1.4 and will be removed in 1.6. To calculate the root mean squared error, use the function'root_mean_squared_error'.\n",
      "  warnings.warn(\n",
      "c:\\Users\\syeda\\.pyenv\\pyenv-win\\versions\\3.9.13\\lib\\site-packages\\sklearn\\metrics\\_regression.py:492: FutureWarning: 'squared' is deprecated in version 1.4 and will be removed in 1.6. To calculate the root mean squared error, use the function'root_mean_squared_error'.\n",
      "  warnings.warn(\n",
      "c:\\Users\\syeda\\.pyenv\\pyenv-win\\versions\\3.9.13\\lib\\site-packages\\sklearn\\metrics\\_regression.py:492: FutureWarning: 'squared' is deprecated in version 1.4 and will be removed in 1.6. To calculate the root mean squared error, use the function'root_mean_squared_error'.\n",
      "  warnings.warn(\n",
      "c:\\Users\\syeda\\.pyenv\\pyenv-win\\versions\\3.9.13\\lib\\site-packages\\sklearn\\metrics\\_regression.py:492: FutureWarning: 'squared' is deprecated in version 1.4 and will be removed in 1.6. To calculate the root mean squared error, use the function'root_mean_squared_error'.\n",
      "  warnings.warn(\n",
      "c:\\Users\\syeda\\.pyenv\\pyenv-win\\versions\\3.9.13\\lib\\site-packages\\sklearn\\metrics\\_regression.py:492: FutureWarning: 'squared' is deprecated in version 1.4 and will be removed in 1.6. To calculate the root mean squared error, use the function'root_mean_squared_error'.\n",
      "  warnings.warn(\n",
      "c:\\Users\\syeda\\.pyenv\\pyenv-win\\versions\\3.9.13\\lib\\site-packages\\sklearn\\metrics\\_regression.py:492: FutureWarning: 'squared' is deprecated in version 1.4 and will be removed in 1.6. To calculate the root mean squared error, use the function'root_mean_squared_error'.\n",
      "  warnings.warn(\n",
      "c:\\Users\\syeda\\.pyenv\\pyenv-win\\versions\\3.9.13\\lib\\site-packages\\sklearn\\metrics\\_regression.py:492: FutureWarning: 'squared' is deprecated in version 1.4 and will be removed in 1.6. To calculate the root mean squared error, use the function'root_mean_squared_error'.\n",
      "  warnings.warn(\n"
     ]
    },
    {
     "name": "stdout",
     "output_type": "stream",
     "text": [
      "Mean RMSE: 12.805280988019637\n"
     ]
    },
    {
     "name": "stderr",
     "output_type": "stream",
     "text": [
      "c:\\Users\\syeda\\.pyenv\\pyenv-win\\versions\\3.9.13\\lib\\site-packages\\sklearn\\metrics\\_regression.py:492: FutureWarning: 'squared' is deprecated in version 1.4 and will be removed in 1.6. To calculate the root mean squared error, use the function'root_mean_squared_error'.\n",
      "  warnings.warn(\n"
     ]
    }
   ],
   "source": [
    "#XGBoost veg, cross eval \n",
    "crosseval(veg_pipeline_XGB, X_veg, y)"
   ]
  },
  {
   "cell_type": "code",
   "execution_count": 192,
   "metadata": {},
   "outputs": [
    {
     "data": {
      "text/html": [
       "<div>\n",
       "<style scoped>\n",
       "    .dataframe tbody tr th:only-of-type {\n",
       "        vertical-align: middle;\n",
       "    }\n",
       "\n",
       "    .dataframe tbody tr th {\n",
       "        vertical-align: top;\n",
       "    }\n",
       "\n",
       "    .dataframe thead th {\n",
       "        text-align: right;\n",
       "    }\n",
       "</style>\n",
       "<table border=\"1\" class=\"dataframe\">\n",
       "  <thead>\n",
       "    <tr style=\"text-align: right;\">\n",
       "      <th></th>\n",
       "      <th>Feature</th>\n",
       "      <th>Importance</th>\n",
       "    </tr>\n",
       "  </thead>\n",
       "  <tbody>\n",
       "    <tr>\n",
       "      <th>3</th>\n",
       "      <td>ndvi_mean_lag</td>\n",
       "      <td>0.122041</td>\n",
       "    </tr>\n",
       "    <tr>\n",
       "      <th>8</th>\n",
       "      <td>NDII_mean</td>\n",
       "      <td>0.118685</td>\n",
       "    </tr>\n",
       "    <tr>\n",
       "      <th>10</th>\n",
       "      <td>NDWI_mean</td>\n",
       "      <td>0.116314</td>\n",
       "    </tr>\n",
       "    <tr>\n",
       "      <th>7</th>\n",
       "      <td>MSAVI_mean</td>\n",
       "      <td>0.102767</td>\n",
       "    </tr>\n",
       "    <tr>\n",
       "      <th>4</th>\n",
       "      <td>ndwi_mean_lag</td>\n",
       "      <td>0.095678</td>\n",
       "    </tr>\n",
       "    <tr>\n",
       "      <th>9</th>\n",
       "      <td>NDVI_mean</td>\n",
       "      <td>0.088652</td>\n",
       "    </tr>\n",
       "    <tr>\n",
       "      <th>11</th>\n",
       "      <td>SAVI_mean</td>\n",
       "      <td>0.076781</td>\n",
       "    </tr>\n",
       "    <tr>\n",
       "      <th>2</th>\n",
       "      <td>ndii_mean_lag</td>\n",
       "      <td>0.074055</td>\n",
       "    </tr>\n",
       "    <tr>\n",
       "      <th>6</th>\n",
       "      <td>EVI_mean</td>\n",
       "      <td>0.070194</td>\n",
       "    </tr>\n",
       "    <tr>\n",
       "      <th>1</th>\n",
       "      <td>msavi_mean_lag</td>\n",
       "      <td>0.056636</td>\n",
       "    </tr>\n",
       "    <tr>\n",
       "      <th>0</th>\n",
       "      <td>evi_mean_lag</td>\n",
       "      <td>0.046651</td>\n",
       "    </tr>\n",
       "    <tr>\n",
       "      <th>5</th>\n",
       "      <td>savi_mean_lag</td>\n",
       "      <td>0.031546</td>\n",
       "    </tr>\n",
       "  </tbody>\n",
       "</table>\n",
       "</div>"
      ],
      "text/plain": [
       "           Feature  Importance\n",
       "3    ndvi_mean_lag    0.122041\n",
       "8        NDII_mean    0.118685\n",
       "10       NDWI_mean    0.116314\n",
       "7       MSAVI_mean    0.102767\n",
       "4    ndwi_mean_lag    0.095678\n",
       "9        NDVI_mean    0.088652\n",
       "11       SAVI_mean    0.076781\n",
       "2    ndii_mean_lag    0.074055\n",
       "6         EVI_mean    0.070194\n",
       "1   msavi_mean_lag    0.056636\n",
       "0     evi_mean_lag    0.046651\n",
       "5    savi_mean_lag    0.031546"
      ]
     },
     "execution_count": 192,
     "metadata": {},
     "output_type": "execute_result"
    }
   ],
   "source": [
    "#feature importance\n",
    "xgb_model = veg_pipeline_XGB.named_steps['regressor']\n",
    "importances = xgb_model.feature_importances_\n",
    "importance_df = pd.DataFrame({\n",
    "    'Feature': X_vegtrain.columns,\n",
    "    'Importance': importances\n",
    "}).sort_values(by='Importance', ascending=False)\n",
    "importance_df"
   ]
  },
  {
   "cell_type": "markdown",
   "metadata": {},
   "source": [
    "Before continuing with vegetation, I need to figure out what to do to deal with the NaNs. "
   ]
  },
  {
   "cell_type": "markdown",
   "metadata": {},
   "source": [
    "Geographic Variables"
   ]
  },
  {
   "cell_type": "code",
   "execution_count": 193,
   "metadata": {},
   "outputs": [],
   "source": [
    "df[\"agricultural_area\"] = df[\"area_rainfed_cropland\"] + df[\"area_herbaceous_cover_cropland\"] + df[\"area_irrigated_cropland\"] \n",
    "df[\"forest_change\"] = df[\"area_forest_lag1yr\"] - df[\"area_forest\"]"
   ]
  },
  {
   "cell_type": "code",
   "execution_count": 194,
   "metadata": {},
   "outputs": [],
   "source": [
    "geo_vars = [\"agricultural_area\", \"forest_change\", \"area_built_up\"]"
   ]
  },
  {
   "cell_type": "code",
   "execution_count": 195,
   "metadata": {},
   "outputs": [
    {
     "name": "stdout",
     "output_type": "stream",
     "text": [
      "agricultural_area NaN count: 496 \n",
      "forest_change NaN count: 0 \n",
      "area_built_up NaN count: 0 \n"
     ]
    }
   ],
   "source": [
    "for var in geo_vars: \n",
    "    print(f\"{var} NaN count: {df[var].isna().sum()} \")"
   ]
  },
  {
   "cell_type": "code",
   "execution_count": 196,
   "metadata": {},
   "outputs": [
    {
     "name": "stdout",
     "output_type": "stream",
     "text": [
      "area_rainfed_cropland NaN count: 0 \n",
      "area_herbaceous_cover_cropland NaN count: 82 \n",
      "area_irrigated_cropland NaN count: 455 \n"
     ]
    }
   ],
   "source": [
    "agri_area = [\"area_rainfed_cropland\", \"area_herbaceous_cover_cropland\", \"area_irrigated_cropland\"]\n",
    "for var in agri_area: \n",
    "    print(f\"{var} NaN count: {df[var].isna().sum()} \")\n"
   ]
  },
  {
   "cell_type": "code",
   "execution_count": 197,
   "metadata": {},
   "outputs": [],
   "source": [
    "geo_data_combined = df[geo_vars + [target_var]].fillna(0)\n",
    "X_geo = geo_data_combined[geo_vars]\n",
    "y = geo_data_combined[target_var]"
   ]
  },
  {
   "cell_type": "code",
   "execution_count": 198,
   "metadata": {},
   "outputs": [],
   "source": [
    "X_geotrain, X_geotest, y_train, y_test = train_test_split(X_geo, y, test_size=0.2, random_state=42)"
   ]
  },
  {
   "cell_type": "code",
   "execution_count": 199,
   "metadata": {},
   "outputs": [
    {
     "data": {
      "text/plain": [
       "496"
      ]
     },
     "execution_count": 199,
     "metadata": {},
     "output_type": "execute_result"
    }
   ],
   "source": [
    "df[\"agricultural_area\"].isna().sum() "
   ]
  },
  {
   "cell_type": "code",
   "execution_count": 200,
   "metadata": {},
   "outputs": [
    {
     "data": {
      "text/plain": [
       "0"
      ]
     },
     "execution_count": 200,
     "metadata": {},
     "output_type": "execute_result"
    }
   ],
   "source": [
    "df[\"area_built_up\"].isna().sum()"
   ]
  },
  {
   "cell_type": "code",
   "execution_count": 201,
   "metadata": {},
   "outputs": [
    {
     "data": {
      "text/plain": [
       "0"
      ]
     },
     "execution_count": 201,
     "metadata": {},
     "output_type": "execute_result"
    }
   ],
   "source": [
    "df[\"forest_change\"].isna().sum() "
   ]
  },
  {
   "cell_type": "code",
   "execution_count": 202,
   "metadata": {},
   "outputs": [
    {
     "name": "stdout",
     "output_type": "stream",
     "text": [
      "Root Mean Squared Error: 10.141781093052046\n"
     ]
    }
   ],
   "source": [
    "#Linear Regressor for geo, evaluation with RMSE direct.\n",
    "geo_pipeline_LR = Pipeline([\n",
    "    ('scaler', StandardScaler()),    # Step 1: Scaling\n",
    "    ('regressor', LinearRegression()) # Step 2: Linear Regression\n",
    "])\n",
    "geo_pipeline_LR.fit(X_geotrain, y_train)\n",
    "y_geo_pred = geo_pipeline_LR.predict(X_geotest)\n",
    "rmse = np.sqrt(mean_squared_error(y_test, y_geo_pred))\n",
    "print(f\"Root Mean Squared Error: {rmse}\")"
   ]
  },
  {
   "cell_type": "code",
   "execution_count": 203,
   "metadata": {},
   "outputs": [
    {
     "name": "stdout",
     "output_type": "stream",
     "text": [
      "Mean RMSE: 11.518045477233793\n"
     ]
    },
    {
     "name": "stderr",
     "output_type": "stream",
     "text": [
      "c:\\Users\\syeda\\.pyenv\\pyenv-win\\versions\\3.9.13\\lib\\site-packages\\sklearn\\metrics\\_regression.py:492: FutureWarning: 'squared' is deprecated in version 1.4 and will be removed in 1.6. To calculate the root mean squared error, use the function'root_mean_squared_error'.\n",
      "  warnings.warn(\n",
      "c:\\Users\\syeda\\.pyenv\\pyenv-win\\versions\\3.9.13\\lib\\site-packages\\sklearn\\metrics\\_regression.py:492: FutureWarning: 'squared' is deprecated in version 1.4 and will be removed in 1.6. To calculate the root mean squared error, use the function'root_mean_squared_error'.\n",
      "  warnings.warn(\n",
      "c:\\Users\\syeda\\.pyenv\\pyenv-win\\versions\\3.9.13\\lib\\site-packages\\sklearn\\metrics\\_regression.py:492: FutureWarning: 'squared' is deprecated in version 1.4 and will be removed in 1.6. To calculate the root mean squared error, use the function'root_mean_squared_error'.\n",
      "  warnings.warn(\n",
      "c:\\Users\\syeda\\.pyenv\\pyenv-win\\versions\\3.9.13\\lib\\site-packages\\sklearn\\metrics\\_regression.py:492: FutureWarning: 'squared' is deprecated in version 1.4 and will be removed in 1.6. To calculate the root mean squared error, use the function'root_mean_squared_error'.\n",
      "  warnings.warn(\n",
      "c:\\Users\\syeda\\.pyenv\\pyenv-win\\versions\\3.9.13\\lib\\site-packages\\sklearn\\metrics\\_regression.py:492: FutureWarning: 'squared' is deprecated in version 1.4 and will be removed in 1.6. To calculate the root mean squared error, use the function'root_mean_squared_error'.\n",
      "  warnings.warn(\n",
      "c:\\Users\\syeda\\.pyenv\\pyenv-win\\versions\\3.9.13\\lib\\site-packages\\sklearn\\metrics\\_regression.py:492: FutureWarning: 'squared' is deprecated in version 1.4 and will be removed in 1.6. To calculate the root mean squared error, use the function'root_mean_squared_error'.\n",
      "  warnings.warn(\n",
      "c:\\Users\\syeda\\.pyenv\\pyenv-win\\versions\\3.9.13\\lib\\site-packages\\sklearn\\metrics\\_regression.py:492: FutureWarning: 'squared' is deprecated in version 1.4 and will be removed in 1.6. To calculate the root mean squared error, use the function'root_mean_squared_error'.\n",
      "  warnings.warn(\n",
      "c:\\Users\\syeda\\.pyenv\\pyenv-win\\versions\\3.9.13\\lib\\site-packages\\sklearn\\metrics\\_regression.py:492: FutureWarning: 'squared' is deprecated in version 1.4 and will be removed in 1.6. To calculate the root mean squared error, use the function'root_mean_squared_error'.\n",
      "  warnings.warn(\n",
      "c:\\Users\\syeda\\.pyenv\\pyenv-win\\versions\\3.9.13\\lib\\site-packages\\sklearn\\metrics\\_regression.py:492: FutureWarning: 'squared' is deprecated in version 1.4 and will be removed in 1.6. To calculate the root mean squared error, use the function'root_mean_squared_error'.\n",
      "  warnings.warn(\n",
      "c:\\Users\\syeda\\.pyenv\\pyenv-win\\versions\\3.9.13\\lib\\site-packages\\sklearn\\metrics\\_regression.py:492: FutureWarning: 'squared' is deprecated in version 1.4 and will be removed in 1.6. To calculate the root mean squared error, use the function'root_mean_squared_error'.\n",
      "  warnings.warn(\n"
     ]
    }
   ],
   "source": [
    "#Linear regressor for geo, eval with crosseval\n",
    "crosseval(geo_pipeline_LR, X_geo, y)"
   ]
  },
  {
   "cell_type": "code",
   "execution_count": 204,
   "metadata": {},
   "outputs": [
    {
     "name": "stdout",
     "output_type": "stream",
     "text": [
      "Root Mean Squared Error: 12.916686246765094\n"
     ]
    }
   ],
   "source": [
    "#XGBoost for geo, direct rmse\n",
    "geo_pipeline_XGB = Pipeline([  \n",
    "    ('regressor', XGBRegressor()) \n",
    "])\n",
    "geo_pipeline_XGB.fit(X_geotrain, y_train)\n",
    "y_geo_pred = geo_pipeline_XGB.predict(X_geotest)\n",
    "rmse = np.sqrt(mean_squared_error(y_test, y_geo_pred))\n",
    "print(f\"Root Mean Squared Error: {rmse}\")"
   ]
  },
  {
   "cell_type": "code",
   "execution_count": 205,
   "metadata": {},
   "outputs": [
    {
     "name": "stderr",
     "output_type": "stream",
     "text": [
      "c:\\Users\\syeda\\.pyenv\\pyenv-win\\versions\\3.9.13\\lib\\site-packages\\sklearn\\metrics\\_regression.py:492: FutureWarning: 'squared' is deprecated in version 1.4 and will be removed in 1.6. To calculate the root mean squared error, use the function'root_mean_squared_error'.\n",
      "  warnings.warn(\n",
      "c:\\Users\\syeda\\.pyenv\\pyenv-win\\versions\\3.9.13\\lib\\site-packages\\sklearn\\metrics\\_regression.py:492: FutureWarning: 'squared' is deprecated in version 1.4 and will be removed in 1.6. To calculate the root mean squared error, use the function'root_mean_squared_error'.\n",
      "  warnings.warn(\n",
      "c:\\Users\\syeda\\.pyenv\\pyenv-win\\versions\\3.9.13\\lib\\site-packages\\sklearn\\metrics\\_regression.py:492: FutureWarning: 'squared' is deprecated in version 1.4 and will be removed in 1.6. To calculate the root mean squared error, use the function'root_mean_squared_error'.\n",
      "  warnings.warn(\n",
      "c:\\Users\\syeda\\.pyenv\\pyenv-win\\versions\\3.9.13\\lib\\site-packages\\sklearn\\metrics\\_regression.py:492: FutureWarning: 'squared' is deprecated in version 1.4 and will be removed in 1.6. To calculate the root mean squared error, use the function'root_mean_squared_error'.\n",
      "  warnings.warn(\n",
      "c:\\Users\\syeda\\.pyenv\\pyenv-win\\versions\\3.9.13\\lib\\site-packages\\sklearn\\metrics\\_regression.py:492: FutureWarning: 'squared' is deprecated in version 1.4 and will be removed in 1.6. To calculate the root mean squared error, use the function'root_mean_squared_error'.\n",
      "  warnings.warn(\n",
      "c:\\Users\\syeda\\.pyenv\\pyenv-win\\versions\\3.9.13\\lib\\site-packages\\sklearn\\metrics\\_regression.py:492: FutureWarning: 'squared' is deprecated in version 1.4 and will be removed in 1.6. To calculate the root mean squared error, use the function'root_mean_squared_error'.\n",
      "  warnings.warn(\n",
      "c:\\Users\\syeda\\.pyenv\\pyenv-win\\versions\\3.9.13\\lib\\site-packages\\sklearn\\metrics\\_regression.py:492: FutureWarning: 'squared' is deprecated in version 1.4 and will be removed in 1.6. To calculate the root mean squared error, use the function'root_mean_squared_error'.\n",
      "  warnings.warn(\n",
      "c:\\Users\\syeda\\.pyenv\\pyenv-win\\versions\\3.9.13\\lib\\site-packages\\sklearn\\metrics\\_regression.py:492: FutureWarning: 'squared' is deprecated in version 1.4 and will be removed in 1.6. To calculate the root mean squared error, use the function'root_mean_squared_error'.\n",
      "  warnings.warn(\n",
      "c:\\Users\\syeda\\.pyenv\\pyenv-win\\versions\\3.9.13\\lib\\site-packages\\sklearn\\metrics\\_regression.py:492: FutureWarning: 'squared' is deprecated in version 1.4 and will be removed in 1.6. To calculate the root mean squared error, use the function'root_mean_squared_error'.\n",
      "  warnings.warn(\n",
      "c:\\Users\\syeda\\.pyenv\\pyenv-win\\versions\\3.9.13\\lib\\site-packages\\sklearn\\metrics\\_regression.py:492: FutureWarning: 'squared' is deprecated in version 1.4 and will be removed in 1.6. To calculate the root mean squared error, use the function'root_mean_squared_error'.\n",
      "  warnings.warn(\n"
     ]
    },
    {
     "name": "stdout",
     "output_type": "stream",
     "text": [
      "Mean RMSE: 14.381647146832345\n"
     ]
    }
   ],
   "source": [
    "#XGBoost for geo, crosseval\n",
    "crosseval(geo_pipeline_XGB, X_geo, y)"
   ]
  },
  {
   "cell_type": "code",
   "execution_count": 206,
   "metadata": {},
   "outputs": [
    {
     "data": {
      "text/html": [
       "<div>\n",
       "<style scoped>\n",
       "    .dataframe tbody tr th:only-of-type {\n",
       "        vertical-align: middle;\n",
       "    }\n",
       "\n",
       "    .dataframe tbody tr th {\n",
       "        vertical-align: top;\n",
       "    }\n",
       "\n",
       "    .dataframe thead th {\n",
       "        text-align: right;\n",
       "    }\n",
       "</style>\n",
       "<table border=\"1\" class=\"dataframe\">\n",
       "  <thead>\n",
       "    <tr style=\"text-align: right;\">\n",
       "      <th></th>\n",
       "      <th>Feature</th>\n",
       "      <th>Importance</th>\n",
       "    </tr>\n",
       "  </thead>\n",
       "  <tbody>\n",
       "    <tr>\n",
       "      <th>2</th>\n",
       "      <td>area_built_up</td>\n",
       "      <td>0.370960</td>\n",
       "    </tr>\n",
       "    <tr>\n",
       "      <th>0</th>\n",
       "      <td>agricultural_area</td>\n",
       "      <td>0.351083</td>\n",
       "    </tr>\n",
       "    <tr>\n",
       "      <th>1</th>\n",
       "      <td>forest_change</td>\n",
       "      <td>0.277957</td>\n",
       "    </tr>\n",
       "  </tbody>\n",
       "</table>\n",
       "</div>"
      ],
      "text/plain": [
       "             Feature  Importance\n",
       "2      area_built_up    0.370960\n",
       "0  agricultural_area    0.351083\n",
       "1      forest_change    0.277957"
      ]
     },
     "execution_count": 206,
     "metadata": {},
     "output_type": "execute_result"
    }
   ],
   "source": [
    "#feature importance\n",
    "xgb_model = geo_pipeline_XGB.named_steps['regressor']\n",
    "importances = xgb_model.feature_importances_\n",
    "importance_df = pd.DataFrame({\n",
    "    'Feature': X_geotrain.columns,\n",
    "    'Importance': importances\n",
    "}).sort_values(by='Importance', ascending=False)\n",
    "importance_df"
   ]
  },
  {
   "cell_type": "markdown",
   "metadata": {},
   "source": [
    "Human "
   ]
  },
  {
   "cell_type": "code",
   "execution_count": 207,
   "metadata": {},
   "outputs": [],
   "source": [
    "human_vars = [\"schol_d\", \"total_pop\", \"total_pop_lag1yr\", \"total_pop_lag3yr\", \"gdp_mean\", \"gdp_mean_lag3yr\", \"gdp_mean_lag5yr\"]"
   ]
  },
  {
   "cell_type": "code",
   "execution_count": 208,
   "metadata": {},
   "outputs": [
    {
     "name": "stdout",
     "output_type": "stream",
     "text": [
      "schol_d NaNs: 0\n",
      "total_pop NaNs: 0\n",
      "total_pop_lag1yr NaNs: 0\n",
      "total_pop_lag3yr NaNs: 0\n",
      "gdp_mean NaNs: 0\n",
      "gdp_mean_lag3yr NaNs: 0\n",
      "gdp_mean_lag5yr NaNs: 0\n"
     ]
    }
   ],
   "source": [
    "for var in human_vars: \n",
    "    print(f\"{var} NaNs: {df[var].isna().sum()}\")"
   ]
  },
  {
   "cell_type": "code",
   "execution_count": 209,
   "metadata": {},
   "outputs": [],
   "source": [
    "df[\"gdp_mean_lag\"] = df[[\"gdp_mean_lag3yr\", \"gdp_mean_lag5yr\"]].mean(axis=1)"
   ]
  },
  {
   "cell_type": "code",
   "execution_count": 210,
   "metadata": {},
   "outputs": [
    {
     "data": {
      "text/plain": [
       "-2.5654473805792577"
      ]
     },
     "execution_count": 210,
     "metadata": {},
     "output_type": "execute_result"
    }
   ],
   "source": [
    "pop_change_1yr = ((df[\"total_pop_lag1yr\"] - df[\"total_pop\"])/df[\"total_pop_lag1yr\"]) * 100 \n",
    "pop_change_1yr.mean()"
   ]
  },
  {
   "cell_type": "code",
   "execution_count": 211,
   "metadata": {},
   "outputs": [
    {
     "data": {
      "text/plain": [
       "-7.901295371501186"
      ]
     },
     "execution_count": 211,
     "metadata": {},
     "output_type": "execute_result"
    }
   ],
   "source": [
    "df[\"pop_change_3yr\"] = ((df[\"total_pop_lag3yr\"] - df[\"total_pop\"])/df[\"total_pop_lag3yr\"]) * 100 \n",
    "df[\"pop_change_3yr\"].mean()"
   ]
  },
  {
   "cell_type": "code",
   "execution_count": 212,
   "metadata": {},
   "outputs": [],
   "source": [
    "def encode_population_change(change):\n",
    "    if change >= 5:\n",
    "        return 'decrease'\n",
    "    elif change <= -5:\n",
    "        return 'increase'\n",
    "    else:\n",
    "        return 'stays the same'\n"
   ]
  },
  {
   "cell_type": "code",
   "execution_count": 213,
   "metadata": {},
   "outputs": [],
   "source": [
    "df['pop_change_category'] = df['pop_change_3yr'].apply(encode_population_change)"
   ]
  },
  {
   "cell_type": "code",
   "execution_count": 214,
   "metadata": {},
   "outputs": [
    {
     "data": {
      "text/plain": [
       "pop_change_category\n",
       "increase          1124\n",
       "stays the same     386\n",
       "Name: count, dtype: int64"
      ]
     },
     "execution_count": 214,
     "metadata": {},
     "output_type": "execute_result"
    }
   ],
   "source": [
    "df[\"pop_change_category\"].value_counts()"
   ]
  },
  {
   "cell_type": "code",
   "execution_count": 215,
   "metadata": {},
   "outputs": [],
   "source": [
    "human_vars = [\"total_pop\", \"pop_change_category\", \"gdp_mean\", \"gdp_mean_lag\"]"
   ]
  },
  {
   "cell_type": "code",
   "execution_count": 216,
   "metadata": {},
   "outputs": [],
   "source": [
    "X_hum = df[human_vars]\n",
    "y = df[target_var]"
   ]
  },
  {
   "cell_type": "code",
   "execution_count": 217,
   "metadata": {},
   "outputs": [
    {
     "data": {
      "text/html": [
       "<div>\n",
       "<style scoped>\n",
       "    .dataframe tbody tr th:only-of-type {\n",
       "        vertical-align: middle;\n",
       "    }\n",
       "\n",
       "    .dataframe tbody tr th {\n",
       "        vertical-align: top;\n",
       "    }\n",
       "\n",
       "    .dataframe thead th {\n",
       "        text-align: right;\n",
       "    }\n",
       "</style>\n",
       "<table border=\"1\" class=\"dataframe\">\n",
       "  <thead>\n",
       "    <tr style=\"text-align: right;\">\n",
       "      <th></th>\n",
       "      <th>total_pop</th>\n",
       "      <th>pop_change_category</th>\n",
       "      <th>gdp_mean</th>\n",
       "      <th>gdp_mean_lag</th>\n",
       "    </tr>\n",
       "  </thead>\n",
       "  <tbody>\n",
       "    <tr>\n",
       "      <th>0</th>\n",
       "      <td>107906.177237</td>\n",
       "      <td>stays the same</td>\n",
       "      <td>1.600000e+07</td>\n",
       "      <td>1.642201e+07</td>\n",
       "    </tr>\n",
       "    <tr>\n",
       "      <th>1</th>\n",
       "      <td>153361.402931</td>\n",
       "      <td>increase</td>\n",
       "      <td>2.940000e+07</td>\n",
       "      <td>2.987605e+07</td>\n",
       "    </tr>\n",
       "    <tr>\n",
       "      <th>2</th>\n",
       "      <td>166798.479845</td>\n",
       "      <td>increase</td>\n",
       "      <td>2.560000e+07</td>\n",
       "      <td>2.603080e+07</td>\n",
       "    </tr>\n",
       "    <tr>\n",
       "      <th>3</th>\n",
       "      <td>140934.339622</td>\n",
       "      <td>increase</td>\n",
       "      <td>2.530000e+07</td>\n",
       "      <td>2.579169e+07</td>\n",
       "    </tr>\n",
       "    <tr>\n",
       "      <th>4</th>\n",
       "      <td>140934.339622</td>\n",
       "      <td>increase</td>\n",
       "      <td>2.530000e+07</td>\n",
       "      <td>2.579169e+07</td>\n",
       "    </tr>\n",
       "    <tr>\n",
       "      <th>...</th>\n",
       "      <td>...</td>\n",
       "      <td>...</td>\n",
       "      <td>...</td>\n",
       "      <td>...</td>\n",
       "    </tr>\n",
       "    <tr>\n",
       "      <th>1505</th>\n",
       "      <td>101847.408054</td>\n",
       "      <td>increase</td>\n",
       "      <td>5.384014e+06</td>\n",
       "      <td>4.344233e+06</td>\n",
       "    </tr>\n",
       "    <tr>\n",
       "      <th>1506</th>\n",
       "      <td>273941.131112</td>\n",
       "      <td>increase</td>\n",
       "      <td>2.290000e+07</td>\n",
       "      <td>1.835703e+07</td>\n",
       "    </tr>\n",
       "    <tr>\n",
       "      <th>1507</th>\n",
       "      <td>156430.687760</td>\n",
       "      <td>increase</td>\n",
       "      <td>1.730000e+07</td>\n",
       "      <td>1.395032e+07</td>\n",
       "    </tr>\n",
       "    <tr>\n",
       "      <th>1508</th>\n",
       "      <td>147410.779260</td>\n",
       "      <td>stays the same</td>\n",
       "      <td>1.310000e+07</td>\n",
       "      <td>1.054927e+07</td>\n",
       "    </tr>\n",
       "    <tr>\n",
       "      <th>1509</th>\n",
       "      <td>301162.191716</td>\n",
       "      <td>increase</td>\n",
       "      <td>1.860000e+07</td>\n",
       "      <td>1.496047e+07</td>\n",
       "    </tr>\n",
       "  </tbody>\n",
       "</table>\n",
       "<p>1510 rows × 4 columns</p>\n",
       "</div>"
      ],
      "text/plain": [
       "          total_pop pop_change_category      gdp_mean  gdp_mean_lag\n",
       "0     107906.177237      stays the same  1.600000e+07  1.642201e+07\n",
       "1     153361.402931            increase  2.940000e+07  2.987605e+07\n",
       "2     166798.479845            increase  2.560000e+07  2.603080e+07\n",
       "3     140934.339622            increase  2.530000e+07  2.579169e+07\n",
       "4     140934.339622            increase  2.530000e+07  2.579169e+07\n",
       "...             ...                 ...           ...           ...\n",
       "1505  101847.408054            increase  5.384014e+06  4.344233e+06\n",
       "1506  273941.131112            increase  2.290000e+07  1.835703e+07\n",
       "1507  156430.687760            increase  1.730000e+07  1.395032e+07\n",
       "1508  147410.779260      stays the same  1.310000e+07  1.054927e+07\n",
       "1509  301162.191716            increase  1.860000e+07  1.496047e+07\n",
       "\n",
       "[1510 rows x 4 columns]"
      ]
     },
     "execution_count": 217,
     "metadata": {},
     "output_type": "execute_result"
    }
   ],
   "source": [
    "X_hum"
   ]
  },
  {
   "cell_type": "code",
   "execution_count": 218,
   "metadata": {},
   "outputs": [],
   "source": [
    "X_humtrain, X_humtest, y_train, y_test = train_test_split(X_hum, y, test_size=0.2, random_state=42)"
   ]
  },
  {
   "cell_type": "code",
   "execution_count": 219,
   "metadata": {},
   "outputs": [],
   "source": [
    "hum_numerical_features = [col for col in X_humtrain.columns if col != 'pop_change_category']\n",
    "hum_categorical_features = ['pop_change_category']\n",
    "hum_preprocessor = ColumnTransformer(\n",
    "    transformers=[\n",
    "        ('num', StandardScaler(), hum_numerical_features),  # Scale numerical features\n",
    "        ('cat', OneHotEncoder(handle_unknown='ignore'), hum_categorical_features)  # OneHotEncode categorical feature\n",
    "    ]\n",
    ")"
   ]
  },
  {
   "cell_type": "code",
   "execution_count": 220,
   "metadata": {},
   "outputs": [
    {
     "name": "stdout",
     "output_type": "stream",
     "text": [
      "Root Mean Squared Error: 10.292539610953911\n"
     ]
    }
   ],
   "source": [
    "#Linear Regressor for hum, evaluation with RMSE direct.\n",
    "hum_pipeline_LR = Pipeline([\n",
    "    ('preprocessor', hum_preprocessor),    # Step 1: Preprocessing (Scaling and OneHotEncoding)\n",
    "    ('regressor', LinearRegression())  # Step 2: Linear Regression\n",
    "])\n",
    "hum_pipeline_LR.fit(X_humtrain, y_train)\n",
    "y_hum_pred = hum_pipeline_LR.predict(X_humtest)\n",
    "rmse = np.sqrt(mean_squared_error(y_test, y_hum_pred))\n",
    "print(f\"Root Mean Squared Error: {rmse}\")"
   ]
  },
  {
   "cell_type": "code",
   "execution_count": 221,
   "metadata": {},
   "outputs": [
    {
     "name": "stdout",
     "output_type": "stream",
     "text": [
      "Mean RMSE: 11.79989377709385\n"
     ]
    },
    {
     "name": "stderr",
     "output_type": "stream",
     "text": [
      "c:\\Users\\syeda\\.pyenv\\pyenv-win\\versions\\3.9.13\\lib\\site-packages\\sklearn\\metrics\\_regression.py:492: FutureWarning: 'squared' is deprecated in version 1.4 and will be removed in 1.6. To calculate the root mean squared error, use the function'root_mean_squared_error'.\n",
      "  warnings.warn(\n",
      "c:\\Users\\syeda\\.pyenv\\pyenv-win\\versions\\3.9.13\\lib\\site-packages\\sklearn\\metrics\\_regression.py:492: FutureWarning: 'squared' is deprecated in version 1.4 and will be removed in 1.6. To calculate the root mean squared error, use the function'root_mean_squared_error'.\n",
      "  warnings.warn(\n",
      "c:\\Users\\syeda\\.pyenv\\pyenv-win\\versions\\3.9.13\\lib\\site-packages\\sklearn\\metrics\\_regression.py:492: FutureWarning: 'squared' is deprecated in version 1.4 and will be removed in 1.6. To calculate the root mean squared error, use the function'root_mean_squared_error'.\n",
      "  warnings.warn(\n",
      "c:\\Users\\syeda\\.pyenv\\pyenv-win\\versions\\3.9.13\\lib\\site-packages\\sklearn\\metrics\\_regression.py:492: FutureWarning: 'squared' is deprecated in version 1.4 and will be removed in 1.6. To calculate the root mean squared error, use the function'root_mean_squared_error'.\n",
      "  warnings.warn(\n",
      "c:\\Users\\syeda\\.pyenv\\pyenv-win\\versions\\3.9.13\\lib\\site-packages\\sklearn\\metrics\\_regression.py:492: FutureWarning: 'squared' is deprecated in version 1.4 and will be removed in 1.6. To calculate the root mean squared error, use the function'root_mean_squared_error'.\n",
      "  warnings.warn(\n",
      "c:\\Users\\syeda\\.pyenv\\pyenv-win\\versions\\3.9.13\\lib\\site-packages\\sklearn\\metrics\\_regression.py:492: FutureWarning: 'squared' is deprecated in version 1.4 and will be removed in 1.6. To calculate the root mean squared error, use the function'root_mean_squared_error'.\n",
      "  warnings.warn(\n",
      "c:\\Users\\syeda\\.pyenv\\pyenv-win\\versions\\3.9.13\\lib\\site-packages\\sklearn\\metrics\\_regression.py:492: FutureWarning: 'squared' is deprecated in version 1.4 and will be removed in 1.6. To calculate the root mean squared error, use the function'root_mean_squared_error'.\n",
      "  warnings.warn(\n",
      "c:\\Users\\syeda\\.pyenv\\pyenv-win\\versions\\3.9.13\\lib\\site-packages\\sklearn\\metrics\\_regression.py:492: FutureWarning: 'squared' is deprecated in version 1.4 and will be removed in 1.6. To calculate the root mean squared error, use the function'root_mean_squared_error'.\n",
      "  warnings.warn(\n",
      "c:\\Users\\syeda\\.pyenv\\pyenv-win\\versions\\3.9.13\\lib\\site-packages\\sklearn\\metrics\\_regression.py:492: FutureWarning: 'squared' is deprecated in version 1.4 and will be removed in 1.6. To calculate the root mean squared error, use the function'root_mean_squared_error'.\n",
      "  warnings.warn(\n",
      "c:\\Users\\syeda\\.pyenv\\pyenv-win\\versions\\3.9.13\\lib\\site-packages\\sklearn\\metrics\\_regression.py:492: FutureWarning: 'squared' is deprecated in version 1.4 and will be removed in 1.6. To calculate the root mean squared error, use the function'root_mean_squared_error'.\n",
      "  warnings.warn(\n"
     ]
    }
   ],
   "source": [
    "crosseval(hum_pipeline_LR, X_hum, y)"
   ]
  },
  {
   "cell_type": "code",
   "execution_count": 222,
   "metadata": {},
   "outputs": [
    {
     "name": "stdout",
     "output_type": "stream",
     "text": [
      "Root Mean Squared Error: 12.57187202783863\n"
     ]
    }
   ],
   "source": [
    "#XGBoost for hum, direct rmse\n",
    "hum_pipeline_XGB = Pipeline([\n",
    "    ('preprocessor', hum_preprocessor),    # Step 1: Preprocessing (Scaling and OneHotEncoding)\n",
    "    ('regressor', XGBRegressor())  # Step 2: Linear Regression\n",
    "])\n",
    "hum_pipeline_XGB.fit(X_humtrain, y_train)\n",
    "y_hum_pred = hum_pipeline_XGB.predict(X_humtest)\n",
    "rmse = np.sqrt(mean_squared_error(y_test, y_hum_pred))\n",
    "print(f\"Root Mean Squared Error: {rmse}\")"
   ]
  },
  {
   "cell_type": "code",
   "execution_count": 223,
   "metadata": {},
   "outputs": [
    {
     "name": "stderr",
     "output_type": "stream",
     "text": [
      "c:\\Users\\syeda\\.pyenv\\pyenv-win\\versions\\3.9.13\\lib\\site-packages\\sklearn\\metrics\\_regression.py:492: FutureWarning: 'squared' is deprecated in version 1.4 and will be removed in 1.6. To calculate the root mean squared error, use the function'root_mean_squared_error'.\n",
      "  warnings.warn(\n",
      "c:\\Users\\syeda\\.pyenv\\pyenv-win\\versions\\3.9.13\\lib\\site-packages\\sklearn\\metrics\\_regression.py:492: FutureWarning: 'squared' is deprecated in version 1.4 and will be removed in 1.6. To calculate the root mean squared error, use the function'root_mean_squared_error'.\n",
      "  warnings.warn(\n",
      "c:\\Users\\syeda\\.pyenv\\pyenv-win\\versions\\3.9.13\\lib\\site-packages\\sklearn\\metrics\\_regression.py:492: FutureWarning: 'squared' is deprecated in version 1.4 and will be removed in 1.6. To calculate the root mean squared error, use the function'root_mean_squared_error'.\n",
      "  warnings.warn(\n",
      "c:\\Users\\syeda\\.pyenv\\pyenv-win\\versions\\3.9.13\\lib\\site-packages\\sklearn\\metrics\\_regression.py:492: FutureWarning: 'squared' is deprecated in version 1.4 and will be removed in 1.6. To calculate the root mean squared error, use the function'root_mean_squared_error'.\n",
      "  warnings.warn(\n",
      "c:\\Users\\syeda\\.pyenv\\pyenv-win\\versions\\3.9.13\\lib\\site-packages\\sklearn\\metrics\\_regression.py:492: FutureWarning: 'squared' is deprecated in version 1.4 and will be removed in 1.6. To calculate the root mean squared error, use the function'root_mean_squared_error'.\n",
      "  warnings.warn(\n",
      "c:\\Users\\syeda\\.pyenv\\pyenv-win\\versions\\3.9.13\\lib\\site-packages\\sklearn\\metrics\\_regression.py:492: FutureWarning: 'squared' is deprecated in version 1.4 and will be removed in 1.6. To calculate the root mean squared error, use the function'root_mean_squared_error'.\n",
      "  warnings.warn(\n",
      "c:\\Users\\syeda\\.pyenv\\pyenv-win\\versions\\3.9.13\\lib\\site-packages\\sklearn\\metrics\\_regression.py:492: FutureWarning: 'squared' is deprecated in version 1.4 and will be removed in 1.6. To calculate the root mean squared error, use the function'root_mean_squared_error'.\n",
      "  warnings.warn(\n",
      "c:\\Users\\syeda\\.pyenv\\pyenv-win\\versions\\3.9.13\\lib\\site-packages\\sklearn\\metrics\\_regression.py:492: FutureWarning: 'squared' is deprecated in version 1.4 and will be removed in 1.6. To calculate the root mean squared error, use the function'root_mean_squared_error'.\n",
      "  warnings.warn(\n"
     ]
    },
    {
     "name": "stdout",
     "output_type": "stream",
     "text": [
      "Mean RMSE: 13.047362239312866\n"
     ]
    },
    {
     "name": "stderr",
     "output_type": "stream",
     "text": [
      "c:\\Users\\syeda\\.pyenv\\pyenv-win\\versions\\3.9.13\\lib\\site-packages\\sklearn\\metrics\\_regression.py:492: FutureWarning: 'squared' is deprecated in version 1.4 and will be removed in 1.6. To calculate the root mean squared error, use the function'root_mean_squared_error'.\n",
      "  warnings.warn(\n",
      "c:\\Users\\syeda\\.pyenv\\pyenv-win\\versions\\3.9.13\\lib\\site-packages\\sklearn\\metrics\\_regression.py:492: FutureWarning: 'squared' is deprecated in version 1.4 and will be removed in 1.6. To calculate the root mean squared error, use the function'root_mean_squared_error'.\n",
      "  warnings.warn(\n"
     ]
    }
   ],
   "source": [
    "crosseval(hum_pipeline_XGB, X_hum, y)"
   ]
  },
  {
   "cell_type": "code",
   "execution_count": 224,
   "metadata": {},
   "outputs": [
    {
     "data": {
      "text/html": [
       "<div>\n",
       "<style scoped>\n",
       "    .dataframe tbody tr th:only-of-type {\n",
       "        vertical-align: middle;\n",
       "    }\n",
       "\n",
       "    .dataframe tbody tr th {\n",
       "        vertical-align: top;\n",
       "    }\n",
       "\n",
       "    .dataframe thead th {\n",
       "        text-align: right;\n",
       "    }\n",
       "</style>\n",
       "<table border=\"1\" class=\"dataframe\">\n",
       "  <thead>\n",
       "    <tr style=\"text-align: right;\">\n",
       "      <th></th>\n",
       "      <th>Feature</th>\n",
       "      <th>Importance</th>\n",
       "    </tr>\n",
       "  </thead>\n",
       "  <tbody>\n",
       "    <tr>\n",
       "      <th>2</th>\n",
       "      <td>num__gdp_mean_lag</td>\n",
       "      <td>0.328012</td>\n",
       "    </tr>\n",
       "    <tr>\n",
       "      <th>1</th>\n",
       "      <td>num__gdp_mean</td>\n",
       "      <td>0.280008</td>\n",
       "    </tr>\n",
       "    <tr>\n",
       "      <th>0</th>\n",
       "      <td>num__total_pop</td>\n",
       "      <td>0.223049</td>\n",
       "    </tr>\n",
       "    <tr>\n",
       "      <th>3</th>\n",
       "      <td>cat__pop_change_category_increase</td>\n",
       "      <td>0.168931</td>\n",
       "    </tr>\n",
       "    <tr>\n",
       "      <th>4</th>\n",
       "      <td>cat__pop_change_category_stays the same</td>\n",
       "      <td>0.000000</td>\n",
       "    </tr>\n",
       "  </tbody>\n",
       "</table>\n",
       "</div>"
      ],
      "text/plain": [
       "                                   Feature  Importance\n",
       "2                        num__gdp_mean_lag    0.328012\n",
       "1                            num__gdp_mean    0.280008\n",
       "0                           num__total_pop    0.223049\n",
       "3        cat__pop_change_category_increase    0.168931\n",
       "4  cat__pop_change_category_stays the same    0.000000"
      ]
     },
     "execution_count": 224,
     "metadata": {},
     "output_type": "execute_result"
    }
   ],
   "source": [
    "preprocessor = hum_pipeline_XGB.named_steps['preprocessor']\n",
    "feature_names = preprocessor.get_feature_names_out()\n",
    "xgb_model = hum_pipeline_XGB.named_steps['regressor']\n",
    "importances = xgb_model.feature_importances_\n",
    "importance_df = pd.DataFrame({\n",
    "    'Feature': feature_names,\n",
    "    'Importance': importances\n",
    "}).sort_values(by='Importance', ascending=False)\n",
    "importance_df\n"
   ]
  },
  {
   "cell_type": "markdown",
   "metadata": {},
   "source": [
    "Overall S.Haematobium Model"
   ]
  },
  {
   "cell_type": "code",
   "execution_count": 225,
   "metadata": {},
   "outputs": [],
   "source": [
    "sh_vars = [\n",
    "    'aspect', 'bedrock_depth_mean', 'bulk_density_20cm_mean', 'cec_20cm_mean', 'clay_20cm_mean', \n",
    "    'damDist', 'elevation', 'hnd', 'nitrogen_20cm_mean', 'organic_carbon_20cm_mean', 'ph_20cm_mean',\n",
    "    'sand_20cm_mean', 'silt_20cm_mean', 'slope', 'soilWater', 'stone_20cm_mean', 'total_carbon_20cm_mean',\n",
    "    'upa', 'waterDist', \"aet_mean_lag\", \"def_mean_lag\", \"pdsi_mean_lag\", \"pet_mean_lag\", \"pr_mean_lag\", \"ro_mean_lag\", \n",
    "    \"soil_mean_lag\", \"srad_mean_lag\", \"tmmn_mean_lag\", \"tmmx_mean_lag\", \"vap_mean_lag\", \"vpd_mean_lag\", \"vs_mean_lag\", \n",
    "    \"aet_mean\", \"def_mean\", \"pdsi_mean\", \"pet_mean\", \"pr_mean\", \"ro_mean\", \"soil_mean\", \"srad_mean\", \n",
    "    \"tmmn_mean\", \"tmmx_mean\", \"vap_mean\", \"vpd_mean\", \"vs_mean\", \"evi_mean_lag\", \"msavi_mean_lag\", \"ndii_mean_lag\", \"ndvi_mean_lag\", \n",
    "    \"ndwi_mean_lag\", \"savi_mean_lag\", \"EVI_mean\", \"MSAVI_mean\", \"NDII_mean\", \"NDVI_mean\", \"NDWI_mean\", \"SAVI_mean\", \"agricultural_area\",\n",
    "    \"forest_change\", \"area_built_up\", \"total_pop\", \"pop_change_category\", \"gdp_mean\", \"gdp_mean_lag\"]\n",
    "\n",
    "\n"
   ]
  },
  {
   "cell_type": "code",
   "execution_count": 226,
   "metadata": {},
   "outputs": [],
   "source": [
    "sh_total = [\n",
    "    'aspect', 'bedrock_depth_mean', 'bulk_density_20cm_mean', 'cec_20cm_mean', 'clay_20cm_mean', \n",
    "    'damDist', 'elevation', 'hnd', 'nitrogen_20cm_mean', 'organic_carbon_20cm_mean', 'ph_20cm_mean',\n",
    "    'sand_20cm_mean', 'silt_20cm_mean', 'slope', 'soilWater', 'stone_20cm_mean', 'total_carbon_20cm_mean',\n",
    "    'upa', 'waterDist', \"aet_mean_lag\", \"def_mean_lag\", \"pdsi_mean_lag\", \"pet_mean_lag\", \"pr_mean_lag\", \"ro_mean_lag\", \n",
    "    \"soil_mean_lag\", \"srad_mean_lag\", \"tmmn_mean_lag\", \"tmmx_mean_lag\", \"vap_mean_lag\", \"vpd_mean_lag\", \"vs_mean_lag\", \n",
    "    \"aet_mean\", \"def_mean\", \"pdsi_mean\", \"pet_mean\", \"pr_mean\", \"ro_mean\", \"soil_mean\", \"srad_mean\", \n",
    "    \"tmmn_mean\", \"tmmx_mean\", \"vap_mean\", \"vpd_mean\", \"vs_mean\", \"evi_mean_lag\", \"msavi_mean_lag\", \"ndii_mean_lag\", \"ndvi_mean_lag\", \n",
    "    \"ndwi_mean_lag\", \"savi_mean_lag\", \"EVI_mean\", \"MSAVI_mean\", \"NDII_mean\", \"NDVI_mean\", \"NDWI_mean\", \"SAVI_mean\", \"agricultural_area\",\n",
    "    \"forest_change\", \"area_built_up\", \"total_pop\", \"pop_change_category\", \"gdp_mean\", \"gdp_mean_lag\", \"sh_prev\"\n",
    "]"
   ]
  },
  {
   "cell_type": "code",
   "execution_count": 227,
   "metadata": {},
   "outputs": [],
   "source": [
    "df_cleaned = df[sh_total].dropna() "
   ]
  },
  {
   "cell_type": "code",
   "execution_count": 228,
   "metadata": {},
   "outputs": [],
   "source": [
    "X_sh = df_cleaned[sh_vars]\n",
    "y = df_cleaned[target_var]"
   ]
  },
  {
   "cell_type": "code",
   "execution_count": 229,
   "metadata": {},
   "outputs": [
    {
     "data": {
      "text/html": [
       "<div>\n",
       "<style scoped>\n",
       "    .dataframe tbody tr th:only-of-type {\n",
       "        vertical-align: middle;\n",
       "    }\n",
       "\n",
       "    .dataframe tbody tr th {\n",
       "        vertical-align: top;\n",
       "    }\n",
       "\n",
       "    .dataframe thead th {\n",
       "        text-align: right;\n",
       "    }\n",
       "</style>\n",
       "<table border=\"1\" class=\"dataframe\">\n",
       "  <thead>\n",
       "    <tr style=\"text-align: right;\">\n",
       "      <th></th>\n",
       "      <th>aspect</th>\n",
       "      <th>bedrock_depth_mean</th>\n",
       "      <th>bulk_density_20cm_mean</th>\n",
       "      <th>cec_20cm_mean</th>\n",
       "      <th>clay_20cm_mean</th>\n",
       "      <th>damDist</th>\n",
       "      <th>elevation</th>\n",
       "      <th>hnd</th>\n",
       "      <th>nitrogen_20cm_mean</th>\n",
       "      <th>organic_carbon_20cm_mean</th>\n",
       "      <th>...</th>\n",
       "      <th>NDVI_mean</th>\n",
       "      <th>NDWI_mean</th>\n",
       "      <th>SAVI_mean</th>\n",
       "      <th>agricultural_area</th>\n",
       "      <th>forest_change</th>\n",
       "      <th>area_built_up</th>\n",
       "      <th>total_pop</th>\n",
       "      <th>pop_change_category</th>\n",
       "      <th>gdp_mean</th>\n",
       "      <th>gdp_mean_lag</th>\n",
       "    </tr>\n",
       "  </thead>\n",
       "  <tbody>\n",
       "    <tr>\n",
       "      <th>32</th>\n",
       "      <td>183.325919</td>\n",
       "      <td>199.998470</td>\n",
       "      <td>1.412489</td>\n",
       "      <td>10.229578</td>\n",
       "      <td>21.115993</td>\n",
       "      <td>46844.425547</td>\n",
       "      <td>248.292468</td>\n",
       "      <td>10.481229</td>\n",
       "      <td>1.651412</td>\n",
       "      <td>11.666908</td>\n",
       "      <td>...</td>\n",
       "      <td>0.265673</td>\n",
       "      <td>-0.282836</td>\n",
       "      <td>0.198551</td>\n",
       "      <td>16.015684</td>\n",
       "      <td>1.094556</td>\n",
       "      <td>21.979507</td>\n",
       "      <td>201863.291253</td>\n",
       "      <td>increase</td>\n",
       "      <td>14700000.0</td>\n",
       "      <td>1.527270e+07</td>\n",
       "    </tr>\n",
       "    <tr>\n",
       "      <th>33</th>\n",
       "      <td>182.784741</td>\n",
       "      <td>199.998470</td>\n",
       "      <td>1.411513</td>\n",
       "      <td>10.225347</td>\n",
       "      <td>21.126795</td>\n",
       "      <td>46501.673160</td>\n",
       "      <td>249.224401</td>\n",
       "      <td>10.660945</td>\n",
       "      <td>1.650517</td>\n",
       "      <td>11.674590</td>\n",
       "      <td>...</td>\n",
       "      <td>0.265752</td>\n",
       "      <td>-0.282873</td>\n",
       "      <td>0.198584</td>\n",
       "      <td>15.997085</td>\n",
       "      <td>1.083994</td>\n",
       "      <td>22.338219</td>\n",
       "      <td>201393.123546</td>\n",
       "      <td>increase</td>\n",
       "      <td>14500000.0</td>\n",
       "      <td>1.509216e+07</td>\n",
       "    </tr>\n",
       "    <tr>\n",
       "      <th>34</th>\n",
       "      <td>183.217584</td>\n",
       "      <td>199.998470</td>\n",
       "      <td>1.409945</td>\n",
       "      <td>10.223845</td>\n",
       "      <td>21.166215</td>\n",
       "      <td>46648.751319</td>\n",
       "      <td>250.154609</td>\n",
       "      <td>10.742454</td>\n",
       "      <td>1.651843</td>\n",
       "      <td>11.701085</td>\n",
       "      <td>...</td>\n",
       "      <td>0.260511</td>\n",
       "      <td>-0.278126</td>\n",
       "      <td>0.195958</td>\n",
       "      <td>15.527148</td>\n",
       "      <td>0.873300</td>\n",
       "      <td>22.499839</td>\n",
       "      <td>200975.959582</td>\n",
       "      <td>increase</td>\n",
       "      <td>14300000.0</td>\n",
       "      <td>1.488384e+07</td>\n",
       "    </tr>\n",
       "    <tr>\n",
       "      <th>35</th>\n",
       "      <td>181.579420</td>\n",
       "      <td>199.998470</td>\n",
       "      <td>1.410897</td>\n",
       "      <td>10.221216</td>\n",
       "      <td>21.124946</td>\n",
       "      <td>46125.318953</td>\n",
       "      <td>249.706008</td>\n",
       "      <td>10.786566</td>\n",
       "      <td>1.649135</td>\n",
       "      <td>11.677880</td>\n",
       "      <td>...</td>\n",
       "      <td>0.267269</td>\n",
       "      <td>-0.284202</td>\n",
       "      <td>0.199359</td>\n",
       "      <td>15.885762</td>\n",
       "      <td>1.145445</td>\n",
       "      <td>23.368959</td>\n",
       "      <td>201134.781290</td>\n",
       "      <td>increase</td>\n",
       "      <td>14500000.0</td>\n",
       "      <td>1.503780e+07</td>\n",
       "    </tr>\n",
       "    <tr>\n",
       "      <th>36</th>\n",
       "      <td>181.579420</td>\n",
       "      <td>199.998470</td>\n",
       "      <td>1.410897</td>\n",
       "      <td>10.221216</td>\n",
       "      <td>21.124946</td>\n",
       "      <td>46125.318953</td>\n",
       "      <td>249.706008</td>\n",
       "      <td>10.786566</td>\n",
       "      <td>1.649135</td>\n",
       "      <td>11.677880</td>\n",
       "      <td>...</td>\n",
       "      <td>0.267269</td>\n",
       "      <td>-0.284202</td>\n",
       "      <td>0.199359</td>\n",
       "      <td>15.885762</td>\n",
       "      <td>1.145445</td>\n",
       "      <td>23.368959</td>\n",
       "      <td>201134.781290</td>\n",
       "      <td>increase</td>\n",
       "      <td>14500000.0</td>\n",
       "      <td>1.503780e+07</td>\n",
       "    </tr>\n",
       "    <tr>\n",
       "      <th>...</th>\n",
       "      <td>...</td>\n",
       "      <td>...</td>\n",
       "      <td>...</td>\n",
       "      <td>...</td>\n",
       "      <td>...</td>\n",
       "      <td>...</td>\n",
       "      <td>...</td>\n",
       "      <td>...</td>\n",
       "      <td>...</td>\n",
       "      <td>...</td>\n",
       "      <td>...</td>\n",
       "      <td>...</td>\n",
       "      <td>...</td>\n",
       "      <td>...</td>\n",
       "      <td>...</td>\n",
       "      <td>...</td>\n",
       "      <td>...</td>\n",
       "      <td>...</td>\n",
       "      <td>...</td>\n",
       "      <td>...</td>\n",
       "      <td>...</td>\n",
       "    </tr>\n",
       "    <tr>\n",
       "      <th>1503</th>\n",
       "      <td>171.397774</td>\n",
       "      <td>199.942883</td>\n",
       "      <td>1.272063</td>\n",
       "      <td>11.235303</td>\n",
       "      <td>24.985543</td>\n",
       "      <td>58267.294801</td>\n",
       "      <td>408.529399</td>\n",
       "      <td>41.570153</td>\n",
       "      <td>1.722089</td>\n",
       "      <td>13.799234</td>\n",
       "      <td>...</td>\n",
       "      <td>0.786956</td>\n",
       "      <td>-0.704606</td>\n",
       "      <td>0.545470</td>\n",
       "      <td>14.182259</td>\n",
       "      <td>2.214575</td>\n",
       "      <td>33.995516</td>\n",
       "      <td>331276.819790</td>\n",
       "      <td>increase</td>\n",
       "      <td>37400000.0</td>\n",
       "      <td>2.994470e+07</td>\n",
       "    </tr>\n",
       "    <tr>\n",
       "      <th>1506</th>\n",
       "      <td>172.548618</td>\n",
       "      <td>199.978153</td>\n",
       "      <td>1.276121</td>\n",
       "      <td>10.958453</td>\n",
       "      <td>24.456480</td>\n",
       "      <td>55342.672736</td>\n",
       "      <td>400.657967</td>\n",
       "      <td>43.761110</td>\n",
       "      <td>1.729774</td>\n",
       "      <td>13.170437</td>\n",
       "      <td>...</td>\n",
       "      <td>0.784700</td>\n",
       "      <td>-0.700568</td>\n",
       "      <td>0.549154</td>\n",
       "      <td>27.547012</td>\n",
       "      <td>6.084565</td>\n",
       "      <td>30.315688</td>\n",
       "      <td>273941.131112</td>\n",
       "      <td>increase</td>\n",
       "      <td>22900000.0</td>\n",
       "      <td>1.835703e+07</td>\n",
       "    </tr>\n",
       "    <tr>\n",
       "      <th>1507</th>\n",
       "      <td>179.351368</td>\n",
       "      <td>199.999975</td>\n",
       "      <td>1.407290</td>\n",
       "      <td>9.879511</td>\n",
       "      <td>20.807100</td>\n",
       "      <td>43775.095235</td>\n",
       "      <td>228.699718</td>\n",
       "      <td>12.693525</td>\n",
       "      <td>1.646505</td>\n",
       "      <td>11.509531</td>\n",
       "      <td>...</td>\n",
       "      <td>0.783950</td>\n",
       "      <td>-0.698550</td>\n",
       "      <td>0.534724</td>\n",
       "      <td>101.989168</td>\n",
       "      <td>3.055017</td>\n",
       "      <td>17.073475</td>\n",
       "      <td>156430.687760</td>\n",
       "      <td>increase</td>\n",
       "      <td>17300000.0</td>\n",
       "      <td>1.395032e+07</td>\n",
       "    </tr>\n",
       "    <tr>\n",
       "      <th>1508</th>\n",
       "      <td>165.346038</td>\n",
       "      <td>199.990415</td>\n",
       "      <td>1.289833</td>\n",
       "      <td>10.524264</td>\n",
       "      <td>23.651749</td>\n",
       "      <td>53708.898851</td>\n",
       "      <td>363.918758</td>\n",
       "      <td>38.565175</td>\n",
       "      <td>1.733319</td>\n",
       "      <td>12.470827</td>\n",
       "      <td>...</td>\n",
       "      <td>0.785734</td>\n",
       "      <td>-0.698745</td>\n",
       "      <td>0.556012</td>\n",
       "      <td>35.480976</td>\n",
       "      <td>9.840979</td>\n",
       "      <td>16.616431</td>\n",
       "      <td>147410.779260</td>\n",
       "      <td>stays the same</td>\n",
       "      <td>13100000.0</td>\n",
       "      <td>1.054927e+07</td>\n",
       "    </tr>\n",
       "    <tr>\n",
       "      <th>1509</th>\n",
       "      <td>157.802970</td>\n",
       "      <td>199.998396</td>\n",
       "      <td>1.409518</td>\n",
       "      <td>10.053511</td>\n",
       "      <td>20.901956</td>\n",
       "      <td>40364.042121</td>\n",
       "      <td>237.214253</td>\n",
       "      <td>11.006155</td>\n",
       "      <td>1.652410</td>\n",
       "      <td>11.425879</td>\n",
       "      <td>...</td>\n",
       "      <td>0.754841</td>\n",
       "      <td>-0.661189</td>\n",
       "      <td>0.510214</td>\n",
       "      <td>21.795095</td>\n",
       "      <td>1.678266</td>\n",
       "      <td>27.520145</td>\n",
       "      <td>301162.191716</td>\n",
       "      <td>increase</td>\n",
       "      <td>18600000.0</td>\n",
       "      <td>1.496047e+07</td>\n",
       "    </tr>\n",
       "  </tbody>\n",
       "</table>\n",
       "<p>957 rows × 64 columns</p>\n",
       "</div>"
      ],
      "text/plain": [
       "          aspect  bedrock_depth_mean  bulk_density_20cm_mean  cec_20cm_mean  \\\n",
       "32    183.325919          199.998470                1.412489      10.229578   \n",
       "33    182.784741          199.998470                1.411513      10.225347   \n",
       "34    183.217584          199.998470                1.409945      10.223845   \n",
       "35    181.579420          199.998470                1.410897      10.221216   \n",
       "36    181.579420          199.998470                1.410897      10.221216   \n",
       "...          ...                 ...                     ...            ...   \n",
       "1503  171.397774          199.942883                1.272063      11.235303   \n",
       "1506  172.548618          199.978153                1.276121      10.958453   \n",
       "1507  179.351368          199.999975                1.407290       9.879511   \n",
       "1508  165.346038          199.990415                1.289833      10.524264   \n",
       "1509  157.802970          199.998396                1.409518      10.053511   \n",
       "\n",
       "      clay_20cm_mean       damDist   elevation        hnd  nitrogen_20cm_mean  \\\n",
       "32         21.115993  46844.425547  248.292468  10.481229            1.651412   \n",
       "33         21.126795  46501.673160  249.224401  10.660945            1.650517   \n",
       "34         21.166215  46648.751319  250.154609  10.742454            1.651843   \n",
       "35         21.124946  46125.318953  249.706008  10.786566            1.649135   \n",
       "36         21.124946  46125.318953  249.706008  10.786566            1.649135   \n",
       "...              ...           ...         ...        ...                 ...   \n",
       "1503       24.985543  58267.294801  408.529399  41.570153            1.722089   \n",
       "1506       24.456480  55342.672736  400.657967  43.761110            1.729774   \n",
       "1507       20.807100  43775.095235  228.699718  12.693525            1.646505   \n",
       "1508       23.651749  53708.898851  363.918758  38.565175            1.733319   \n",
       "1509       20.901956  40364.042121  237.214253  11.006155            1.652410   \n",
       "\n",
       "      organic_carbon_20cm_mean  ...  NDVI_mean  NDWI_mean  SAVI_mean  \\\n",
       "32                   11.666908  ...   0.265673  -0.282836   0.198551   \n",
       "33                   11.674590  ...   0.265752  -0.282873   0.198584   \n",
       "34                   11.701085  ...   0.260511  -0.278126   0.195958   \n",
       "35                   11.677880  ...   0.267269  -0.284202   0.199359   \n",
       "36                   11.677880  ...   0.267269  -0.284202   0.199359   \n",
       "...                        ...  ...        ...        ...        ...   \n",
       "1503                 13.799234  ...   0.786956  -0.704606   0.545470   \n",
       "1506                 13.170437  ...   0.784700  -0.700568   0.549154   \n",
       "1507                 11.509531  ...   0.783950  -0.698550   0.534724   \n",
       "1508                 12.470827  ...   0.785734  -0.698745   0.556012   \n",
       "1509                 11.425879  ...   0.754841  -0.661189   0.510214   \n",
       "\n",
       "      agricultural_area  forest_change  area_built_up      total_pop  \\\n",
       "32            16.015684       1.094556      21.979507  201863.291253   \n",
       "33            15.997085       1.083994      22.338219  201393.123546   \n",
       "34            15.527148       0.873300      22.499839  200975.959582   \n",
       "35            15.885762       1.145445      23.368959  201134.781290   \n",
       "36            15.885762       1.145445      23.368959  201134.781290   \n",
       "...                 ...            ...            ...            ...   \n",
       "1503          14.182259       2.214575      33.995516  331276.819790   \n",
       "1506          27.547012       6.084565      30.315688  273941.131112   \n",
       "1507         101.989168       3.055017      17.073475  156430.687760   \n",
       "1508          35.480976       9.840979      16.616431  147410.779260   \n",
       "1509          21.795095       1.678266      27.520145  301162.191716   \n",
       "\n",
       "      pop_change_category    gdp_mean  gdp_mean_lag  \n",
       "32               increase  14700000.0  1.527270e+07  \n",
       "33               increase  14500000.0  1.509216e+07  \n",
       "34               increase  14300000.0  1.488384e+07  \n",
       "35               increase  14500000.0  1.503780e+07  \n",
       "36               increase  14500000.0  1.503780e+07  \n",
       "...                   ...         ...           ...  \n",
       "1503             increase  37400000.0  2.994470e+07  \n",
       "1506             increase  22900000.0  1.835703e+07  \n",
       "1507             increase  17300000.0  1.395032e+07  \n",
       "1508       stays the same  13100000.0  1.054927e+07  \n",
       "1509             increase  18600000.0  1.496047e+07  \n",
       "\n",
       "[957 rows x 64 columns]"
      ]
     },
     "execution_count": 229,
     "metadata": {},
     "output_type": "execute_result"
    }
   ],
   "source": [
    "X_sh"
   ]
  },
  {
   "cell_type": "code",
   "execution_count": 230,
   "metadata": {},
   "outputs": [],
   "source": [
    "sh_numerical_features = [col for col in X_shtrain.columns if col != 'pop_change_category']\n",
    "sh_categorical_features = ['pop_change_category']\n",
    "\n",
    "sh_preprocessor = ColumnTransformer(\n",
    "    transformers=[\n",
    "        ('num', StandardScaler(), sh_numerical_features),  # Scale numerical features\n",
    "        ('cat', OneHotEncoder(handle_unknown='ignore'), sh_categorical_features)  # OneHotEncode categorical feature\n",
    "    ]\n",
    ")"
   ]
  },
  {
   "cell_type": "code",
   "execution_count": 231,
   "metadata": {},
   "outputs": [],
   "source": [
    "#Linear Regressor for hum, evaluation with RMSE direct.\n",
    "sh_pipeline_LR = Pipeline([\n",
    "    ('preprocessor', sh_preprocessor),    # Step 1: Preprocessing (Scaling and OneHotEncoding)\n",
    "    ('regressor', LinearRegression())  # Step 2: Linear Regression\n",
    "])"
   ]
  },
  {
   "cell_type": "code",
   "execution_count": 232,
   "metadata": {},
   "outputs": [
    {
     "name": "stdout",
     "output_type": "stream",
     "text": [
      "Mean RMSE: 12.869232115915219\n"
     ]
    },
    {
     "name": "stderr",
     "output_type": "stream",
     "text": [
      "c:\\Users\\syeda\\.pyenv\\pyenv-win\\versions\\3.9.13\\lib\\site-packages\\sklearn\\metrics\\_regression.py:492: FutureWarning: 'squared' is deprecated in version 1.4 and will be removed in 1.6. To calculate the root mean squared error, use the function'root_mean_squared_error'.\n",
      "  warnings.warn(\n",
      "c:\\Users\\syeda\\.pyenv\\pyenv-win\\versions\\3.9.13\\lib\\site-packages\\sklearn\\metrics\\_regression.py:492: FutureWarning: 'squared' is deprecated in version 1.4 and will be removed in 1.6. To calculate the root mean squared error, use the function'root_mean_squared_error'.\n",
      "  warnings.warn(\n",
      "c:\\Users\\syeda\\.pyenv\\pyenv-win\\versions\\3.9.13\\lib\\site-packages\\sklearn\\metrics\\_regression.py:492: FutureWarning: 'squared' is deprecated in version 1.4 and will be removed in 1.6. To calculate the root mean squared error, use the function'root_mean_squared_error'.\n",
      "  warnings.warn(\n",
      "c:\\Users\\syeda\\.pyenv\\pyenv-win\\versions\\3.9.13\\lib\\site-packages\\sklearn\\metrics\\_regression.py:492: FutureWarning: 'squared' is deprecated in version 1.4 and will be removed in 1.6. To calculate the root mean squared error, use the function'root_mean_squared_error'.\n",
      "  warnings.warn(\n",
      "c:\\Users\\syeda\\.pyenv\\pyenv-win\\versions\\3.9.13\\lib\\site-packages\\sklearn\\metrics\\_regression.py:492: FutureWarning: 'squared' is deprecated in version 1.4 and will be removed in 1.6. To calculate the root mean squared error, use the function'root_mean_squared_error'.\n",
      "  warnings.warn(\n",
      "c:\\Users\\syeda\\.pyenv\\pyenv-win\\versions\\3.9.13\\lib\\site-packages\\sklearn\\metrics\\_regression.py:492: FutureWarning: 'squared' is deprecated in version 1.4 and will be removed in 1.6. To calculate the root mean squared error, use the function'root_mean_squared_error'.\n",
      "  warnings.warn(\n",
      "c:\\Users\\syeda\\.pyenv\\pyenv-win\\versions\\3.9.13\\lib\\site-packages\\sklearn\\metrics\\_regression.py:492: FutureWarning: 'squared' is deprecated in version 1.4 and will be removed in 1.6. To calculate the root mean squared error, use the function'root_mean_squared_error'.\n",
      "  warnings.warn(\n",
      "c:\\Users\\syeda\\.pyenv\\pyenv-win\\versions\\3.9.13\\lib\\site-packages\\sklearn\\metrics\\_regression.py:492: FutureWarning: 'squared' is deprecated in version 1.4 and will be removed in 1.6. To calculate the root mean squared error, use the function'root_mean_squared_error'.\n",
      "  warnings.warn(\n",
      "c:\\Users\\syeda\\.pyenv\\pyenv-win\\versions\\3.9.13\\lib\\site-packages\\sklearn\\metrics\\_regression.py:492: FutureWarning: 'squared' is deprecated in version 1.4 and will be removed in 1.6. To calculate the root mean squared error, use the function'root_mean_squared_error'.\n",
      "  warnings.warn(\n",
      "c:\\Users\\syeda\\.pyenv\\pyenv-win\\versions\\3.9.13\\lib\\site-packages\\sklearn\\metrics\\_regression.py:492: FutureWarning: 'squared' is deprecated in version 1.4 and will be removed in 1.6. To calculate the root mean squared error, use the function'root_mean_squared_error'.\n",
      "  warnings.warn(\n"
     ]
    }
   ],
   "source": [
    "crosseval(sh_pipeline_LR, X_sh, y)"
   ]
  },
  {
   "cell_type": "code",
   "execution_count": 235,
   "metadata": {},
   "outputs": [
    {
     "name": "stderr",
     "output_type": "stream",
     "text": [
      "c:\\Users\\syeda\\.pyenv\\pyenv-win\\versions\\3.9.13\\lib\\site-packages\\sklearn\\metrics\\_regression.py:492: FutureWarning: 'squared' is deprecated in version 1.4 and will be removed in 1.6. To calculate the root mean squared error, use the function'root_mean_squared_error'.\n",
      "  warnings.warn(\n",
      "c:\\Users\\syeda\\.pyenv\\pyenv-win\\versions\\3.9.13\\lib\\site-packages\\sklearn\\metrics\\_regression.py:492: FutureWarning: 'squared' is deprecated in version 1.4 and will be removed in 1.6. To calculate the root mean squared error, use the function'root_mean_squared_error'.\n",
      "  warnings.warn(\n",
      "c:\\Users\\syeda\\.pyenv\\pyenv-win\\versions\\3.9.13\\lib\\site-packages\\sklearn\\metrics\\_regression.py:492: FutureWarning: 'squared' is deprecated in version 1.4 and will be removed in 1.6. To calculate the root mean squared error, use the function'root_mean_squared_error'.\n",
      "  warnings.warn(\n",
      "c:\\Users\\syeda\\.pyenv\\pyenv-win\\versions\\3.9.13\\lib\\site-packages\\sklearn\\metrics\\_regression.py:492: FutureWarning: 'squared' is deprecated in version 1.4 and will be removed in 1.6. To calculate the root mean squared error, use the function'root_mean_squared_error'.\n",
      "  warnings.warn(\n",
      "c:\\Users\\syeda\\.pyenv\\pyenv-win\\versions\\3.9.13\\lib\\site-packages\\sklearn\\metrics\\_regression.py:492: FutureWarning: 'squared' is deprecated in version 1.4 and will be removed in 1.6. To calculate the root mean squared error, use the function'root_mean_squared_error'.\n",
      "  warnings.warn(\n",
      "c:\\Users\\syeda\\.pyenv\\pyenv-win\\versions\\3.9.13\\lib\\site-packages\\sklearn\\metrics\\_regression.py:492: FutureWarning: 'squared' is deprecated in version 1.4 and will be removed in 1.6. To calculate the root mean squared error, use the function'root_mean_squared_error'.\n",
      "  warnings.warn(\n",
      "c:\\Users\\syeda\\.pyenv\\pyenv-win\\versions\\3.9.13\\lib\\site-packages\\sklearn\\metrics\\_regression.py:492: FutureWarning: 'squared' is deprecated in version 1.4 and will be removed in 1.6. To calculate the root mean squared error, use the function'root_mean_squared_error'.\n",
      "  warnings.warn(\n",
      "c:\\Users\\syeda\\.pyenv\\pyenv-win\\versions\\3.9.13\\lib\\site-packages\\sklearn\\metrics\\_regression.py:492: FutureWarning: 'squared' is deprecated in version 1.4 and will be removed in 1.6. To calculate the root mean squared error, use the function'root_mean_squared_error'.\n",
      "  warnings.warn(\n",
      "c:\\Users\\syeda\\.pyenv\\pyenv-win\\versions\\3.9.13\\lib\\site-packages\\sklearn\\metrics\\_regression.py:492: FutureWarning: 'squared' is deprecated in version 1.4 and will be removed in 1.6. To calculate the root mean squared error, use the function'root_mean_squared_error'.\n",
      "  warnings.warn(\n"
     ]
    },
    {
     "name": "stdout",
     "output_type": "stream",
     "text": [
      "Mean RMSE: 11.278530389784034\n"
     ]
    },
    {
     "name": "stderr",
     "output_type": "stream",
     "text": [
      "c:\\Users\\syeda\\.pyenv\\pyenv-win\\versions\\3.9.13\\lib\\site-packages\\sklearn\\metrics\\_regression.py:492: FutureWarning: 'squared' is deprecated in version 1.4 and will be removed in 1.6. To calculate the root mean squared error, use the function'root_mean_squared_error'.\n",
      "  warnings.warn(\n"
     ]
    }
   ],
   "source": [
    "sh_pipeline_XGB = Pipeline([\n",
    "    ('preprocessor', sh_preprocessor),    # Step 1: Preprocessing (Scaling and OneHotEncoding)\n",
    "    ('regressor', XGBRegressor())  # Step 2: Linear Regression\n",
    "])\n",
    "crosseval(sh_pipeline_XGB, X_sh, y)"
   ]
  },
  {
   "cell_type": "markdown",
   "metadata": {},
   "source": [
    "# Mansoni Analysis"
   ]
  },
  {
   "cell_type": "code",
   "execution_count": 241,
   "metadata": {},
   "outputs": [],
   "source": [
    "df = pd.read_csv('sm.csv')"
   ]
  },
  {
   "cell_type": "markdown",
   "metadata": {},
   "source": [
    "Geophysical Group"
   ]
  },
  {
   "cell_type": "code",
   "execution_count": 257,
   "metadata": {},
   "outputs": [
    {
     "data": {
      "text/html": [
       "<div>\n",
       "<style scoped>\n",
       "    .dataframe tbody tr th:only-of-type {\n",
       "        vertical-align: middle;\n",
       "    }\n",
       "\n",
       "    .dataframe tbody tr th {\n",
       "        vertical-align: top;\n",
       "    }\n",
       "\n",
       "    .dataframe thead th {\n",
       "        text-align: right;\n",
       "    }\n",
       "</style>\n",
       "<table border=\"1\" class=\"dataframe\">\n",
       "  <thead>\n",
       "    <tr style=\"text-align: right;\">\n",
       "      <th></th>\n",
       "      <th>aspect</th>\n",
       "      <th>bedrock_depth_mean</th>\n",
       "      <th>bio12</th>\n",
       "      <th>bio13</th>\n",
       "      <th>bio14</th>\n",
       "      <th>bio15</th>\n",
       "      <th>bio16</th>\n",
       "      <th>bio17</th>\n",
       "      <th>bio18</th>\n",
       "      <th>bio19</th>\n",
       "      <th>...</th>\n",
       "      <th>area_grassland_lag1yr</th>\n",
       "      <th>area_sparse_veg_lag1yr</th>\n",
       "      <th>area_wetlands_lag1yr</th>\n",
       "      <th>area_built_up_lag1yr</th>\n",
       "      <th>area_bare_lag1yr</th>\n",
       "      <th>area_open_water_lag1yr</th>\n",
       "      <th>gdp_mean</th>\n",
       "      <th>total_pop_lag3yr</th>\n",
       "      <th>gdp_mean_lag3yr</th>\n",
       "      <th>gdp_mean_lag5yr</th>\n",
       "    </tr>\n",
       "  </thead>\n",
       "  <tbody>\n",
       "    <tr>\n",
       "      <th>0</th>\n",
       "      <td>183.604181</td>\n",
       "      <td>200.000000</td>\n",
       "      <td>1508.830955</td>\n",
       "      <td>280.060468</td>\n",
       "      <td>21.733899</td>\n",
       "      <td>57.115762</td>\n",
       "      <td>646.825496</td>\n",
       "      <td>120.533794</td>\n",
       "      <td>337.455792</td>\n",
       "      <td>317.999699</td>\n",
       "      <td>...</td>\n",
       "      <td>0.129867</td>\n",
       "      <td>0.012451</td>\n",
       "      <td>0.370666</td>\n",
       "      <td>10.853481</td>\n",
       "      <td>0.000889</td>\n",
       "      <td>0.096916</td>\n",
       "      <td>1.600000e+07</td>\n",
       "      <td>105437.180646</td>\n",
       "      <td>1.636735e+07</td>\n",
       "      <td>1.647667e+07</td>\n",
       "    </tr>\n",
       "    <tr>\n",
       "      <th>1</th>\n",
       "      <td>185.425880</td>\n",
       "      <td>200.000000</td>\n",
       "      <td>1377.345726</td>\n",
       "      <td>241.037560</td>\n",
       "      <td>16.313812</td>\n",
       "      <td>57.442422</td>\n",
       "      <td>585.446491</td>\n",
       "      <td>93.790261</td>\n",
       "      <td>325.758583</td>\n",
       "      <td>328.468667</td>\n",
       "      <td>...</td>\n",
       "      <td>0.116440</td>\n",
       "      <td>0.008889</td>\n",
       "      <td>0.597385</td>\n",
       "      <td>24.045927</td>\n",
       "      <td>0.000889</td>\n",
       "      <td>0.314707</td>\n",
       "      <td>2.940000e+07</td>\n",
       "      <td>140894.190245</td>\n",
       "      <td>2.985771e+07</td>\n",
       "      <td>2.989439e+07</td>\n",
       "    </tr>\n",
       "    <tr>\n",
       "      <th>2</th>\n",
       "      <td>190.578224</td>\n",
       "      <td>200.000000</td>\n",
       "      <td>1446.334404</td>\n",
       "      <td>261.036755</td>\n",
       "      <td>19.465539</td>\n",
       "      <td>56.627543</td>\n",
       "      <td>615.037975</td>\n",
       "      <td>109.811994</td>\n",
       "      <td>328.340045</td>\n",
       "      <td>321.447973</td>\n",
       "      <td>...</td>\n",
       "      <td>0.092564</td>\n",
       "      <td>0.010671</td>\n",
       "      <td>0.376095</td>\n",
       "      <td>22.010989</td>\n",
       "      <td>0.000889</td>\n",
       "      <td>0.276497</td>\n",
       "      <td>2.560000e+07</td>\n",
       "      <td>156083.530521</td>\n",
       "      <td>2.600184e+07</td>\n",
       "      <td>2.605977e+07</td>\n",
       "    </tr>\n",
       "    <tr>\n",
       "      <th>3</th>\n",
       "      <td>186.927523</td>\n",
       "      <td>200.000000</td>\n",
       "      <td>1426.579422</td>\n",
       "      <td>254.018940</td>\n",
       "      <td>18.599338</td>\n",
       "      <td>56.953311</td>\n",
       "      <td>606.025688</td>\n",
       "      <td>103.754191</td>\n",
       "      <td>327.599493</td>\n",
       "      <td>330.564783</td>\n",
       "      <td>...</td>\n",
       "      <td>0.087157</td>\n",
       "      <td>0.011558</td>\n",
       "      <td>0.573416</td>\n",
       "      <td>21.549089</td>\n",
       "      <td>0.003556</td>\n",
       "      <td>0.314721</td>\n",
       "      <td>2.530000e+07</td>\n",
       "      <td>130071.696107</td>\n",
       "      <td>2.575529e+07</td>\n",
       "      <td>2.582808e+07</td>\n",
       "    </tr>\n",
       "    <tr>\n",
       "      <th>4</th>\n",
       "      <td>186.927523</td>\n",
       "      <td>200.000000</td>\n",
       "      <td>1426.579422</td>\n",
       "      <td>254.018940</td>\n",
       "      <td>18.599338</td>\n",
       "      <td>56.953311</td>\n",
       "      <td>606.025688</td>\n",
       "      <td>103.754191</td>\n",
       "      <td>327.599493</td>\n",
       "      <td>330.564783</td>\n",
       "      <td>...</td>\n",
       "      <td>0.087157</td>\n",
       "      <td>0.011558</td>\n",
       "      <td>0.573416</td>\n",
       "      <td>21.549089</td>\n",
       "      <td>0.003556</td>\n",
       "      <td>0.314721</td>\n",
       "      <td>2.530000e+07</td>\n",
       "      <td>130071.696107</td>\n",
       "      <td>2.575529e+07</td>\n",
       "      <td>2.582808e+07</td>\n",
       "    </tr>\n",
       "    <tr>\n",
       "      <th>...</th>\n",
       "      <td>...</td>\n",
       "      <td>...</td>\n",
       "      <td>...</td>\n",
       "      <td>...</td>\n",
       "      <td>...</td>\n",
       "      <td>...</td>\n",
       "      <td>...</td>\n",
       "      <td>...</td>\n",
       "      <td>...</td>\n",
       "      <td>...</td>\n",
       "      <td>...</td>\n",
       "      <td>...</td>\n",
       "      <td>...</td>\n",
       "      <td>...</td>\n",
       "      <td>...</td>\n",
       "      <td>...</td>\n",
       "      <td>...</td>\n",
       "      <td>...</td>\n",
       "      <td>...</td>\n",
       "      <td>...</td>\n",
       "      <td>...</td>\n",
       "    </tr>\n",
       "    <tr>\n",
       "      <th>1638</th>\n",
       "      <td>175.894180</td>\n",
       "      <td>199.994981</td>\n",
       "      <td>1394.855386</td>\n",
       "      <td>265.084019</td>\n",
       "      <td>12.526002</td>\n",
       "      <td>63.791606</td>\n",
       "      <td>626.972542</td>\n",
       "      <td>73.165778</td>\n",
       "      <td>259.101799</td>\n",
       "      <td>622.791588</td>\n",
       "      <td>...</td>\n",
       "      <td>0.013294</td>\n",
       "      <td>0.185405</td>\n",
       "      <td>4.564108</td>\n",
       "      <td>13.912753</td>\n",
       "      <td>0.021273</td>\n",
       "      <td>7.009784</td>\n",
       "      <td>5.384014e+06</td>\n",
       "      <td>96657.256388</td>\n",
       "      <td>4.686037e+06</td>\n",
       "      <td>4.002429e+06</td>\n",
       "    </tr>\n",
       "    <tr>\n",
       "      <th>1639</th>\n",
       "      <td>172.548618</td>\n",
       "      <td>199.978153</td>\n",
       "      <td>1525.434371</td>\n",
       "      <td>285.713904</td>\n",
       "      <td>13.252617</td>\n",
       "      <td>64.114136</td>\n",
       "      <td>689.668872</td>\n",
       "      <td>76.351853</td>\n",
       "      <td>285.847580</td>\n",
       "      <td>681.678590</td>\n",
       "      <td>...</td>\n",
       "      <td>0.006207</td>\n",
       "      <td>0.014183</td>\n",
       "      <td>0.201890</td>\n",
       "      <td>29.890035</td>\n",
       "      <td>NaN</td>\n",
       "      <td>0.001774</td>\n",
       "      <td>2.290000e+07</td>\n",
       "      <td>259012.837724</td>\n",
       "      <td>1.991745e+07</td>\n",
       "      <td>1.679662e+07</td>\n",
       "    </tr>\n",
       "    <tr>\n",
       "      <th>1640</th>\n",
       "      <td>179.351368</td>\n",
       "      <td>199.999975</td>\n",
       "      <td>1395.601557</td>\n",
       "      <td>252.328301</td>\n",
       "      <td>14.692797</td>\n",
       "      <td>57.583724</td>\n",
       "      <td>569.940314</td>\n",
       "      <td>89.073386</td>\n",
       "      <td>301.566096</td>\n",
       "      <td>520.616641</td>\n",
       "      <td>...</td>\n",
       "      <td>0.003551</td>\n",
       "      <td>0.563824</td>\n",
       "      <td>38.775236</td>\n",
       "      <td>17.261871</td>\n",
       "      <td>0.073709</td>\n",
       "      <td>55.075660</td>\n",
       "      <td>1.730000e+07</td>\n",
       "      <td>145999.885540</td>\n",
       "      <td>1.508205e+07</td>\n",
       "      <td>1.281859e+07</td>\n",
       "    </tr>\n",
       "    <tr>\n",
       "      <th>1641</th>\n",
       "      <td>165.346038</td>\n",
       "      <td>199.990415</td>\n",
       "      <td>1478.862700</td>\n",
       "      <td>278.517084</td>\n",
       "      <td>12.898370</td>\n",
       "      <td>63.998466</td>\n",
       "      <td>665.964303</td>\n",
       "      <td>74.576893</td>\n",
       "      <td>277.598148</td>\n",
       "      <td>664.910081</td>\n",
       "      <td>...</td>\n",
       "      <td>0.004432</td>\n",
       "      <td>0.008864</td>\n",
       "      <td>0.154243</td>\n",
       "      <td>15.891669</td>\n",
       "      <td>NaN</td>\n",
       "      <td>0.001774</td>\n",
       "      <td>1.310000e+07</td>\n",
       "      <td>143062.583056</td>\n",
       "      <td>1.141841e+07</td>\n",
       "      <td>9.680133e+06</td>\n",
       "    </tr>\n",
       "    <tr>\n",
       "      <th>1642</th>\n",
       "      <td>157.802970</td>\n",
       "      <td>199.998396</td>\n",
       "      <td>1477.090242</td>\n",
       "      <td>278.778649</td>\n",
       "      <td>14.780218</td>\n",
       "      <td>60.770202</td>\n",
       "      <td>625.221172</td>\n",
       "      <td>87.795951</td>\n",
       "      <td>296.454463</td>\n",
       "      <td>573.660467</td>\n",
       "      <td>...</td>\n",
       "      <td>0.035519</td>\n",
       "      <td>0.554845</td>\n",
       "      <td>37.394434</td>\n",
       "      <td>28.095651</td>\n",
       "      <td>0.059497</td>\n",
       "      <td>43.986953</td>\n",
       "      <td>1.860000e+07</td>\n",
       "      <td>255482.880573</td>\n",
       "      <td>1.620272e+07</td>\n",
       "      <td>1.371823e+07</td>\n",
       "    </tr>\n",
       "  </tbody>\n",
       "</table>\n",
       "<p>1643 rows × 319 columns</p>\n",
       "</div>"
      ],
      "text/plain": [
       "          aspect  bedrock_depth_mean        bio12       bio13      bio14  \\\n",
       "0     183.604181          200.000000  1508.830955  280.060468  21.733899   \n",
       "1     185.425880          200.000000  1377.345726  241.037560  16.313812   \n",
       "2     190.578224          200.000000  1446.334404  261.036755  19.465539   \n",
       "3     186.927523          200.000000  1426.579422  254.018940  18.599338   \n",
       "4     186.927523          200.000000  1426.579422  254.018940  18.599338   \n",
       "...          ...                 ...          ...         ...        ...   \n",
       "1638  175.894180          199.994981  1394.855386  265.084019  12.526002   \n",
       "1639  172.548618          199.978153  1525.434371  285.713904  13.252617   \n",
       "1640  179.351368          199.999975  1395.601557  252.328301  14.692797   \n",
       "1641  165.346038          199.990415  1478.862700  278.517084  12.898370   \n",
       "1642  157.802970          199.998396  1477.090242  278.778649  14.780218   \n",
       "\n",
       "          bio15       bio16       bio17       bio18       bio19  ...  \\\n",
       "0     57.115762  646.825496  120.533794  337.455792  317.999699  ...   \n",
       "1     57.442422  585.446491   93.790261  325.758583  328.468667  ...   \n",
       "2     56.627543  615.037975  109.811994  328.340045  321.447973  ...   \n",
       "3     56.953311  606.025688  103.754191  327.599493  330.564783  ...   \n",
       "4     56.953311  606.025688  103.754191  327.599493  330.564783  ...   \n",
       "...         ...         ...         ...         ...         ...  ...   \n",
       "1638  63.791606  626.972542   73.165778  259.101799  622.791588  ...   \n",
       "1639  64.114136  689.668872   76.351853  285.847580  681.678590  ...   \n",
       "1640  57.583724  569.940314   89.073386  301.566096  520.616641  ...   \n",
       "1641  63.998466  665.964303   74.576893  277.598148  664.910081  ...   \n",
       "1642  60.770202  625.221172   87.795951  296.454463  573.660467  ...   \n",
       "\n",
       "      area_grassland_lag1yr  area_sparse_veg_lag1yr  area_wetlands_lag1yr  \\\n",
       "0                  0.129867                0.012451              0.370666   \n",
       "1                  0.116440                0.008889              0.597385   \n",
       "2                  0.092564                0.010671              0.376095   \n",
       "3                  0.087157                0.011558              0.573416   \n",
       "4                  0.087157                0.011558              0.573416   \n",
       "...                     ...                     ...                   ...   \n",
       "1638               0.013294                0.185405              4.564108   \n",
       "1639               0.006207                0.014183              0.201890   \n",
       "1640               0.003551                0.563824             38.775236   \n",
       "1641               0.004432                0.008864              0.154243   \n",
       "1642               0.035519                0.554845             37.394434   \n",
       "\n",
       "      area_built_up_lag1yr  area_bare_lag1yr  area_open_water_lag1yr  \\\n",
       "0                10.853481          0.000889                0.096916   \n",
       "1                24.045927          0.000889                0.314707   \n",
       "2                22.010989          0.000889                0.276497   \n",
       "3                21.549089          0.003556                0.314721   \n",
       "4                21.549089          0.003556                0.314721   \n",
       "...                    ...               ...                     ...   \n",
       "1638             13.912753          0.021273                7.009784   \n",
       "1639             29.890035               NaN                0.001774   \n",
       "1640             17.261871          0.073709               55.075660   \n",
       "1641             15.891669               NaN                0.001774   \n",
       "1642             28.095651          0.059497               43.986953   \n",
       "\n",
       "          gdp_mean total_pop_lag3yr  gdp_mean_lag3yr  gdp_mean_lag5yr  \n",
       "0     1.600000e+07    105437.180646     1.636735e+07     1.647667e+07  \n",
       "1     2.940000e+07    140894.190245     2.985771e+07     2.989439e+07  \n",
       "2     2.560000e+07    156083.530521     2.600184e+07     2.605977e+07  \n",
       "3     2.530000e+07    130071.696107     2.575529e+07     2.582808e+07  \n",
       "4     2.530000e+07    130071.696107     2.575529e+07     2.582808e+07  \n",
       "...            ...              ...              ...              ...  \n",
       "1638  5.384014e+06     96657.256388     4.686037e+06     4.002429e+06  \n",
       "1639  2.290000e+07    259012.837724     1.991745e+07     1.679662e+07  \n",
       "1640  1.730000e+07    145999.885540     1.508205e+07     1.281859e+07  \n",
       "1641  1.310000e+07    143062.583056     1.141841e+07     9.680133e+06  \n",
       "1642  1.860000e+07    255482.880573     1.620272e+07     1.371823e+07  \n",
       "\n",
       "[1643 rows x 319 columns]"
      ]
     },
     "execution_count": 257,
     "metadata": {},
     "output_type": "execute_result"
    }
   ],
   "source": [
    "df"
   ]
  },
  {
   "cell_type": "code",
   "execution_count": 258,
   "metadata": {},
   "outputs": [],
   "source": [
    "df_geophys_sm = df[geophysical_vars + [target_var]].dropna()"
   ]
  },
  {
   "cell_type": "code",
   "execution_count": 260,
   "metadata": {},
   "outputs": [],
   "source": [
    "X_geophys = df_geophys_sm[geophysical_vars] #input features\n",
    "y = df_geophys_sm[target_var] #target var - shprev"
   ]
  },
  {
   "cell_type": "code",
   "execution_count": 261,
   "metadata": {},
   "outputs": [
    {
     "name": "stdout",
     "output_type": "stream",
     "text": [
      "Mean RMSE: 12.404193620375672\n"
     ]
    },
    {
     "name": "stderr",
     "output_type": "stream",
     "text": [
      "c:\\Users\\syeda\\.pyenv\\pyenv-win\\versions\\3.9.13\\lib\\site-packages\\sklearn\\metrics\\_regression.py:492: FutureWarning: 'squared' is deprecated in version 1.4 and will be removed in 1.6. To calculate the root mean squared error, use the function'root_mean_squared_error'.\n",
      "  warnings.warn(\n",
      "c:\\Users\\syeda\\.pyenv\\pyenv-win\\versions\\3.9.13\\lib\\site-packages\\sklearn\\metrics\\_regression.py:492: FutureWarning: 'squared' is deprecated in version 1.4 and will be removed in 1.6. To calculate the root mean squared error, use the function'root_mean_squared_error'.\n",
      "  warnings.warn(\n",
      "c:\\Users\\syeda\\.pyenv\\pyenv-win\\versions\\3.9.13\\lib\\site-packages\\sklearn\\metrics\\_regression.py:492: FutureWarning: 'squared' is deprecated in version 1.4 and will be removed in 1.6. To calculate the root mean squared error, use the function'root_mean_squared_error'.\n",
      "  warnings.warn(\n",
      "c:\\Users\\syeda\\.pyenv\\pyenv-win\\versions\\3.9.13\\lib\\site-packages\\sklearn\\metrics\\_regression.py:492: FutureWarning: 'squared' is deprecated in version 1.4 and will be removed in 1.6. To calculate the root mean squared error, use the function'root_mean_squared_error'.\n",
      "  warnings.warn(\n",
      "c:\\Users\\syeda\\.pyenv\\pyenv-win\\versions\\3.9.13\\lib\\site-packages\\sklearn\\metrics\\_regression.py:492: FutureWarning: 'squared' is deprecated in version 1.4 and will be removed in 1.6. To calculate the root mean squared error, use the function'root_mean_squared_error'.\n",
      "  warnings.warn(\n",
      "c:\\Users\\syeda\\.pyenv\\pyenv-win\\versions\\3.9.13\\lib\\site-packages\\sklearn\\metrics\\_regression.py:492: FutureWarning: 'squared' is deprecated in version 1.4 and will be removed in 1.6. To calculate the root mean squared error, use the function'root_mean_squared_error'.\n",
      "  warnings.warn(\n",
      "c:\\Users\\syeda\\.pyenv\\pyenv-win\\versions\\3.9.13\\lib\\site-packages\\sklearn\\metrics\\_regression.py:492: FutureWarning: 'squared' is deprecated in version 1.4 and will be removed in 1.6. To calculate the root mean squared error, use the function'root_mean_squared_error'.\n",
      "  warnings.warn(\n",
      "c:\\Users\\syeda\\.pyenv\\pyenv-win\\versions\\3.9.13\\lib\\site-packages\\sklearn\\metrics\\_regression.py:492: FutureWarning: 'squared' is deprecated in version 1.4 and will be removed in 1.6. To calculate the root mean squared error, use the function'root_mean_squared_error'.\n",
      "  warnings.warn(\n",
      "c:\\Users\\syeda\\.pyenv\\pyenv-win\\versions\\3.9.13\\lib\\site-packages\\sklearn\\metrics\\_regression.py:492: FutureWarning: 'squared' is deprecated in version 1.4 and will be removed in 1.6. To calculate the root mean squared error, use the function'root_mean_squared_error'.\n",
      "  warnings.warn(\n",
      "c:\\Users\\syeda\\.pyenv\\pyenv-win\\versions\\3.9.13\\lib\\site-packages\\sklearn\\metrics\\_regression.py:492: FutureWarning: 'squared' is deprecated in version 1.4 and will be removed in 1.6. To calculate the root mean squared error, use the function'root_mean_squared_error'.\n",
      "  warnings.warn(\n"
     ]
    }
   ],
   "source": [
    "geophys_pipeline_LR = Pipeline([\n",
    "    ('scaler', StandardScaler()),    # Step 1: Scaling\n",
    "    ('regressor', LinearRegression()) # Step 2: Linear Regression\n",
    "])\n",
    "crosseval(geophys_pipeline_LR, X_geophys, y)"
   ]
  },
  {
   "cell_type": "code",
   "execution_count": 262,
   "metadata": {},
   "outputs": [
    {
     "name": "stderr",
     "output_type": "stream",
     "text": [
      "c:\\Users\\syeda\\.pyenv\\pyenv-win\\versions\\3.9.13\\lib\\site-packages\\sklearn\\metrics\\_regression.py:492: FutureWarning: 'squared' is deprecated in version 1.4 and will be removed in 1.6. To calculate the root mean squared error, use the function'root_mean_squared_error'.\n",
      "  warnings.warn(\n",
      "c:\\Users\\syeda\\.pyenv\\pyenv-win\\versions\\3.9.13\\lib\\site-packages\\sklearn\\metrics\\_regression.py:492: FutureWarning: 'squared' is deprecated in version 1.4 and will be removed in 1.6. To calculate the root mean squared error, use the function'root_mean_squared_error'.\n",
      "  warnings.warn(\n",
      "c:\\Users\\syeda\\.pyenv\\pyenv-win\\versions\\3.9.13\\lib\\site-packages\\sklearn\\metrics\\_regression.py:492: FutureWarning: 'squared' is deprecated in version 1.4 and will be removed in 1.6. To calculate the root mean squared error, use the function'root_mean_squared_error'.\n",
      "  warnings.warn(\n",
      "c:\\Users\\syeda\\.pyenv\\pyenv-win\\versions\\3.9.13\\lib\\site-packages\\sklearn\\metrics\\_regression.py:492: FutureWarning: 'squared' is deprecated in version 1.4 and will be removed in 1.6. To calculate the root mean squared error, use the function'root_mean_squared_error'.\n",
      "  warnings.warn(\n",
      "c:\\Users\\syeda\\.pyenv\\pyenv-win\\versions\\3.9.13\\lib\\site-packages\\sklearn\\metrics\\_regression.py:492: FutureWarning: 'squared' is deprecated in version 1.4 and will be removed in 1.6. To calculate the root mean squared error, use the function'root_mean_squared_error'.\n",
      "  warnings.warn(\n",
      "c:\\Users\\syeda\\.pyenv\\pyenv-win\\versions\\3.9.13\\lib\\site-packages\\sklearn\\metrics\\_regression.py:492: FutureWarning: 'squared' is deprecated in version 1.4 and will be removed in 1.6. To calculate the root mean squared error, use the function'root_mean_squared_error'.\n",
      "  warnings.warn(\n",
      "c:\\Users\\syeda\\.pyenv\\pyenv-win\\versions\\3.9.13\\lib\\site-packages\\sklearn\\metrics\\_regression.py:492: FutureWarning: 'squared' is deprecated in version 1.4 and will be removed in 1.6. To calculate the root mean squared error, use the function'root_mean_squared_error'.\n",
      "  warnings.warn(\n",
      "c:\\Users\\syeda\\.pyenv\\pyenv-win\\versions\\3.9.13\\lib\\site-packages\\sklearn\\metrics\\_regression.py:492: FutureWarning: 'squared' is deprecated in version 1.4 and will be removed in 1.6. To calculate the root mean squared error, use the function'root_mean_squared_error'.\n",
      "  warnings.warn(\n",
      "c:\\Users\\syeda\\.pyenv\\pyenv-win\\versions\\3.9.13\\lib\\site-packages\\sklearn\\metrics\\_regression.py:492: FutureWarning: 'squared' is deprecated in version 1.4 and will be removed in 1.6. To calculate the root mean squared error, use the function'root_mean_squared_error'.\n",
      "  warnings.warn(\n",
      "c:\\Users\\syeda\\.pyenv\\pyenv-win\\versions\\3.9.13\\lib\\site-packages\\sklearn\\metrics\\_regression.py:492: FutureWarning: 'squared' is deprecated in version 1.4 and will be removed in 1.6. To calculate the root mean squared error, use the function'root_mean_squared_error'.\n",
      "  warnings.warn(\n"
     ]
    },
    {
     "name": "stdout",
     "output_type": "stream",
     "text": [
      "Mean RMSE: 12.85530025631619\n"
     ]
    }
   ],
   "source": [
    "geophys_pipeline_XGB = Pipeline([\n",
    "    ('scaler', StandardScaler()),  \n",
    "    ('regressor', XGBRegressor()) \n",
    "])\n",
    "crosseval(geophys_pipeline_XGB, X_geophys, y)"
   ]
  },
  {
   "cell_type": "code",
   "execution_count": 274,
   "metadata": {},
   "outputs": [
    {
     "data": {
      "text/html": [
       "<div>\n",
       "<style scoped>\n",
       "    .dataframe tbody tr th:only-of-type {\n",
       "        vertical-align: middle;\n",
       "    }\n",
       "\n",
       "    .dataframe tbody tr th {\n",
       "        vertical-align: top;\n",
       "    }\n",
       "\n",
       "    .dataframe thead th {\n",
       "        text-align: right;\n",
       "    }\n",
       "</style>\n",
       "<table border=\"1\" class=\"dataframe\">\n",
       "  <thead>\n",
       "    <tr style=\"text-align: right;\">\n",
       "      <th></th>\n",
       "      <th>Feature</th>\n",
       "      <th>Importance</th>\n",
       "    </tr>\n",
       "  </thead>\n",
       "  <tbody>\n",
       "    <tr>\n",
       "      <th>3</th>\n",
       "      <td>cec_20cm_mean</td>\n",
       "      <td>0.124447</td>\n",
       "    </tr>\n",
       "    <tr>\n",
       "      <th>12</th>\n",
       "      <td>silt_20cm_mean</td>\n",
       "      <td>0.091554</td>\n",
       "    </tr>\n",
       "    <tr>\n",
       "      <th>6</th>\n",
       "      <td>elevation</td>\n",
       "      <td>0.089715</td>\n",
       "    </tr>\n",
       "    <tr>\n",
       "      <th>13</th>\n",
       "      <td>slope</td>\n",
       "      <td>0.068779</td>\n",
       "    </tr>\n",
       "    <tr>\n",
       "      <th>8</th>\n",
       "      <td>nitrogen_20cm_mean</td>\n",
       "      <td>0.065361</td>\n",
       "    </tr>\n",
       "    <tr>\n",
       "      <th>2</th>\n",
       "      <td>bulk_density_20cm_mean</td>\n",
       "      <td>0.060573</td>\n",
       "    </tr>\n",
       "    <tr>\n",
       "      <th>16</th>\n",
       "      <td>total_carbon_20cm_mean</td>\n",
       "      <td>0.056439</td>\n",
       "    </tr>\n",
       "    <tr>\n",
       "      <th>18</th>\n",
       "      <td>waterDist</td>\n",
       "      <td>0.055556</td>\n",
       "    </tr>\n",
       "    <tr>\n",
       "      <th>14</th>\n",
       "      <td>soilWater</td>\n",
       "      <td>0.047268</td>\n",
       "    </tr>\n",
       "    <tr>\n",
       "      <th>4</th>\n",
       "      <td>clay_20cm_mean</td>\n",
       "      <td>0.045543</td>\n",
       "    </tr>\n",
       "    <tr>\n",
       "      <th>17</th>\n",
       "      <td>upa</td>\n",
       "      <td>0.044140</td>\n",
       "    </tr>\n",
       "    <tr>\n",
       "      <th>7</th>\n",
       "      <td>hnd</td>\n",
       "      <td>0.043618</td>\n",
       "    </tr>\n",
       "    <tr>\n",
       "      <th>1</th>\n",
       "      <td>bedrock_depth_mean</td>\n",
       "      <td>0.037675</td>\n",
       "    </tr>\n",
       "    <tr>\n",
       "      <th>10</th>\n",
       "      <td>ph_20cm_mean</td>\n",
       "      <td>0.035191</td>\n",
       "    </tr>\n",
       "    <tr>\n",
       "      <th>9</th>\n",
       "      <td>organic_carbon_20cm_mean</td>\n",
       "      <td>0.032665</td>\n",
       "    </tr>\n",
       "    <tr>\n",
       "      <th>15</th>\n",
       "      <td>stone_20cm_mean</td>\n",
       "      <td>0.031871</td>\n",
       "    </tr>\n",
       "    <tr>\n",
       "      <th>5</th>\n",
       "      <td>damDist</td>\n",
       "      <td>0.031208</td>\n",
       "    </tr>\n",
       "    <tr>\n",
       "      <th>0</th>\n",
       "      <td>aspect</td>\n",
       "      <td>0.021583</td>\n",
       "    </tr>\n",
       "    <tr>\n",
       "      <th>11</th>\n",
       "      <td>sand_20cm_mean</td>\n",
       "      <td>0.016815</td>\n",
       "    </tr>\n",
       "  </tbody>\n",
       "</table>\n",
       "</div>"
      ],
      "text/plain": [
       "                     Feature  Importance\n",
       "3              cec_20cm_mean    0.124447\n",
       "12            silt_20cm_mean    0.091554\n",
       "6                  elevation    0.089715\n",
       "13                     slope    0.068779\n",
       "8         nitrogen_20cm_mean    0.065361\n",
       "2     bulk_density_20cm_mean    0.060573\n",
       "16    total_carbon_20cm_mean    0.056439\n",
       "18                 waterDist    0.055556\n",
       "14                 soilWater    0.047268\n",
       "4             clay_20cm_mean    0.045543\n",
       "17                       upa    0.044140\n",
       "7                        hnd    0.043618\n",
       "1         bedrock_depth_mean    0.037675\n",
       "10              ph_20cm_mean    0.035191\n",
       "9   organic_carbon_20cm_mean    0.032665\n",
       "15           stone_20cm_mean    0.031871\n",
       "5                    damDist    0.031208\n",
       "0                     aspect    0.021583\n",
       "11            sand_20cm_mean    0.016815"
      ]
     },
     "execution_count": 274,
     "metadata": {},
     "output_type": "execute_result"
    }
   ],
   "source": [
    "geophys_pipeline_XGB.fit(X_geophys, y)\n",
    "xgb_model = geophys_pipeline_XGB.named_steps['regressor']\n",
    "importances = xgb_model.feature_importances_\n",
    "importance_df = pd.DataFrame({\n",
    "    'Feature': X_geophys.columns,\n",
    "    'Importance': importances\n",
    "}).sort_values(by='Importance', ascending=False)\n",
    "\n",
    "importance_df"
   ]
  },
  {
   "cell_type": "markdown",
   "metadata": {},
   "source": [
    "Climate Group"
   ]
  },
  {
   "cell_type": "code",
   "execution_count": 275,
   "metadata": {},
   "outputs": [],
   "source": [
    "df['aet_mean_lag'] = df[aet_mean_laggers].mean(axis=1)\n",
    "df['def_mean_lag'] = df[def_mean_laggers].mean(axis=1)\n",
    "df['pdsi_mean_lag'] = df[pdsi_mean_laggers].mean(axis=1)\n",
    "df['pet_mean_lag'] = df[pet_mean_laggers].mean(axis=1)\n",
    "df['pr_mean_lag'] = df[pr_mean_laggers].mean(axis=1)\n",
    "df['ro_mean_lag'] = df[ro_mean_laggers].mean(axis=1)\n",
    "df['soil_mean_lag'] = df[soil_mean_laggers].mean(axis=1)\n",
    "df['srad_mean_lag'] = df[srad_mean_laggers].mean(axis=1)\n",
    "df['tmmn_mean_lag'] = df[tmmn_mean_laggers].mean(axis=1)\n",
    "df['tmmx_mean_lag'] = df[tmmx_mean_laggers].mean(axis=1)\n",
    "df['vap_mean_lag'] = df[vap_mean_laggers].mean(axis=1)\n",
    "df['vpd_mean_lag'] = df[vpd_mean_laggers].mean(axis=1)\n",
    "df['vs_mean_lag'] = df[vs_mean_laggers].mean(axis=1)"
   ]
  },
  {
   "cell_type": "code",
   "execution_count": 276,
   "metadata": {},
   "outputs": [],
   "source": [
    "climate_vars = [\"aet_mean_lag\", \"def_mean_lag\", \"pdsi_mean_lag\", \"pet_mean_lag\", \"pr_mean_lag\", \"ro_mean_lag\", \"soil_mean_lag\", \"srad_mean_lag\",\n",
    "                \"tmmn_mean_lag\", \"tmmx_mean_lag\", \"vap_mean_lag\", \"vpd_mean_lag\", \"vs_mean_lag\", \"aet_mean\", \"def_mean\", \"pdsi_mean\", \"pet_mean\", \n",
    "                \"pr_mean\", \"ro_mean\", \"soil_mean\", \"srad_mean\", \"tmmn_mean\", \"tmmx_mean\", \"vap_mean\", \"vpd_mean\", \"vs_mean\"] "
   ]
  },
  {
   "cell_type": "code",
   "execution_count": 277,
   "metadata": {},
   "outputs": [],
   "source": [
    "df_clim_sm = df[climate_vars + [target_var]].dropna()"
   ]
  },
  {
   "cell_type": "code",
   "execution_count": 278,
   "metadata": {},
   "outputs": [],
   "source": [
    "X_clim = df_clim_sm[climate_vars] #input features\n",
    "y = df_clim_sm[target_var] #target var - shprev"
   ]
  },
  {
   "cell_type": "code",
   "execution_count": 279,
   "metadata": {},
   "outputs": [
    {
     "name": "stdout",
     "output_type": "stream",
     "text": [
      "Mean RMSE: 14.846244885791368\n"
     ]
    },
    {
     "name": "stderr",
     "output_type": "stream",
     "text": [
      "c:\\Users\\syeda\\.pyenv\\pyenv-win\\versions\\3.9.13\\lib\\site-packages\\sklearn\\metrics\\_regression.py:492: FutureWarning: 'squared' is deprecated in version 1.4 and will be removed in 1.6. To calculate the root mean squared error, use the function'root_mean_squared_error'.\n",
      "  warnings.warn(\n",
      "c:\\Users\\syeda\\.pyenv\\pyenv-win\\versions\\3.9.13\\lib\\site-packages\\sklearn\\metrics\\_regression.py:492: FutureWarning: 'squared' is deprecated in version 1.4 and will be removed in 1.6. To calculate the root mean squared error, use the function'root_mean_squared_error'.\n",
      "  warnings.warn(\n",
      "c:\\Users\\syeda\\.pyenv\\pyenv-win\\versions\\3.9.13\\lib\\site-packages\\sklearn\\metrics\\_regression.py:492: FutureWarning: 'squared' is deprecated in version 1.4 and will be removed in 1.6. To calculate the root mean squared error, use the function'root_mean_squared_error'.\n",
      "  warnings.warn(\n",
      "c:\\Users\\syeda\\.pyenv\\pyenv-win\\versions\\3.9.13\\lib\\site-packages\\sklearn\\metrics\\_regression.py:492: FutureWarning: 'squared' is deprecated in version 1.4 and will be removed in 1.6. To calculate the root mean squared error, use the function'root_mean_squared_error'.\n",
      "  warnings.warn(\n",
      "c:\\Users\\syeda\\.pyenv\\pyenv-win\\versions\\3.9.13\\lib\\site-packages\\sklearn\\metrics\\_regression.py:492: FutureWarning: 'squared' is deprecated in version 1.4 and will be removed in 1.6. To calculate the root mean squared error, use the function'root_mean_squared_error'.\n",
      "  warnings.warn(\n",
      "c:\\Users\\syeda\\.pyenv\\pyenv-win\\versions\\3.9.13\\lib\\site-packages\\sklearn\\metrics\\_regression.py:492: FutureWarning: 'squared' is deprecated in version 1.4 and will be removed in 1.6. To calculate the root mean squared error, use the function'root_mean_squared_error'.\n",
      "  warnings.warn(\n",
      "c:\\Users\\syeda\\.pyenv\\pyenv-win\\versions\\3.9.13\\lib\\site-packages\\sklearn\\metrics\\_regression.py:492: FutureWarning: 'squared' is deprecated in version 1.4 and will be removed in 1.6. To calculate the root mean squared error, use the function'root_mean_squared_error'.\n",
      "  warnings.warn(\n",
      "c:\\Users\\syeda\\.pyenv\\pyenv-win\\versions\\3.9.13\\lib\\site-packages\\sklearn\\metrics\\_regression.py:492: FutureWarning: 'squared' is deprecated in version 1.4 and will be removed in 1.6. To calculate the root mean squared error, use the function'root_mean_squared_error'.\n",
      "  warnings.warn(\n",
      "c:\\Users\\syeda\\.pyenv\\pyenv-win\\versions\\3.9.13\\lib\\site-packages\\sklearn\\metrics\\_regression.py:492: FutureWarning: 'squared' is deprecated in version 1.4 and will be removed in 1.6. To calculate the root mean squared error, use the function'root_mean_squared_error'.\n",
      "  warnings.warn(\n",
      "c:\\Users\\syeda\\.pyenv\\pyenv-win\\versions\\3.9.13\\lib\\site-packages\\sklearn\\metrics\\_regression.py:492: FutureWarning: 'squared' is deprecated in version 1.4 and will be removed in 1.6. To calculate the root mean squared error, use the function'root_mean_squared_error'.\n",
      "  warnings.warn(\n"
     ]
    }
   ],
   "source": [
    "clim_pipeline_LR = Pipeline([\n",
    "    ('scaler', StandardScaler()),    # Step 1: Scaling\n",
    "    ('regressor', LinearRegression()) # Step 2: Linear Regression\n",
    "])\n",
    "crosseval(clim_pipeline_LR, X_clim, y)"
   ]
  },
  {
   "cell_type": "code",
   "execution_count": 280,
   "metadata": {},
   "outputs": [
    {
     "name": "stderr",
     "output_type": "stream",
     "text": [
      "c:\\Users\\syeda\\.pyenv\\pyenv-win\\versions\\3.9.13\\lib\\site-packages\\sklearn\\metrics\\_regression.py:492: FutureWarning: 'squared' is deprecated in version 1.4 and will be removed in 1.6. To calculate the root mean squared error, use the function'root_mean_squared_error'.\n",
      "  warnings.warn(\n",
      "c:\\Users\\syeda\\.pyenv\\pyenv-win\\versions\\3.9.13\\lib\\site-packages\\sklearn\\metrics\\_regression.py:492: FutureWarning: 'squared' is deprecated in version 1.4 and will be removed in 1.6. To calculate the root mean squared error, use the function'root_mean_squared_error'.\n",
      "  warnings.warn(\n",
      "c:\\Users\\syeda\\.pyenv\\pyenv-win\\versions\\3.9.13\\lib\\site-packages\\sklearn\\metrics\\_regression.py:492: FutureWarning: 'squared' is deprecated in version 1.4 and will be removed in 1.6. To calculate the root mean squared error, use the function'root_mean_squared_error'.\n",
      "  warnings.warn(\n",
      "c:\\Users\\syeda\\.pyenv\\pyenv-win\\versions\\3.9.13\\lib\\site-packages\\sklearn\\metrics\\_regression.py:492: FutureWarning: 'squared' is deprecated in version 1.4 and will be removed in 1.6. To calculate the root mean squared error, use the function'root_mean_squared_error'.\n",
      "  warnings.warn(\n",
      "c:\\Users\\syeda\\.pyenv\\pyenv-win\\versions\\3.9.13\\lib\\site-packages\\sklearn\\metrics\\_regression.py:492: FutureWarning: 'squared' is deprecated in version 1.4 and will be removed in 1.6. To calculate the root mean squared error, use the function'root_mean_squared_error'.\n",
      "  warnings.warn(\n",
      "c:\\Users\\syeda\\.pyenv\\pyenv-win\\versions\\3.9.13\\lib\\site-packages\\sklearn\\metrics\\_regression.py:492: FutureWarning: 'squared' is deprecated in version 1.4 and will be removed in 1.6. To calculate the root mean squared error, use the function'root_mean_squared_error'.\n",
      "  warnings.warn(\n",
      "c:\\Users\\syeda\\.pyenv\\pyenv-win\\versions\\3.9.13\\lib\\site-packages\\sklearn\\metrics\\_regression.py:492: FutureWarning: 'squared' is deprecated in version 1.4 and will be removed in 1.6. To calculate the root mean squared error, use the function'root_mean_squared_error'.\n",
      "  warnings.warn(\n",
      "c:\\Users\\syeda\\.pyenv\\pyenv-win\\versions\\3.9.13\\lib\\site-packages\\sklearn\\metrics\\_regression.py:492: FutureWarning: 'squared' is deprecated in version 1.4 and will be removed in 1.6. To calculate the root mean squared error, use the function'root_mean_squared_error'.\n",
      "  warnings.warn(\n"
     ]
    },
    {
     "name": "stdout",
     "output_type": "stream",
     "text": [
      "Mean RMSE: 12.399680148451235\n"
     ]
    },
    {
     "name": "stderr",
     "output_type": "stream",
     "text": [
      "c:\\Users\\syeda\\.pyenv\\pyenv-win\\versions\\3.9.13\\lib\\site-packages\\sklearn\\metrics\\_regression.py:492: FutureWarning: 'squared' is deprecated in version 1.4 and will be removed in 1.6. To calculate the root mean squared error, use the function'root_mean_squared_error'.\n",
      "  warnings.warn(\n",
      "c:\\Users\\syeda\\.pyenv\\pyenv-win\\versions\\3.9.13\\lib\\site-packages\\sklearn\\metrics\\_regression.py:492: FutureWarning: 'squared' is deprecated in version 1.4 and will be removed in 1.6. To calculate the root mean squared error, use the function'root_mean_squared_error'.\n",
      "  warnings.warn(\n"
     ]
    }
   ],
   "source": [
    "clim_pipeline_XGB = Pipeline([\n",
    "    ('scaler', StandardScaler()),    # Step 1: Scaling\n",
    "    ('regressor', XGBRegressor()) # Step 2: Linear Regression\n",
    "])\n",
    "crosseval(clim_pipeline_XGB, X_clim, y)"
   ]
  },
  {
   "cell_type": "code",
   "execution_count": 281,
   "metadata": {},
   "outputs": [
    {
     "data": {
      "text/html": [
       "<div>\n",
       "<style scoped>\n",
       "    .dataframe tbody tr th:only-of-type {\n",
       "        vertical-align: middle;\n",
       "    }\n",
       "\n",
       "    .dataframe tbody tr th {\n",
       "        vertical-align: top;\n",
       "    }\n",
       "\n",
       "    .dataframe thead th {\n",
       "        text-align: right;\n",
       "    }\n",
       "</style>\n",
       "<table border=\"1\" class=\"dataframe\">\n",
       "  <thead>\n",
       "    <tr style=\"text-align: right;\">\n",
       "      <th></th>\n",
       "      <th>Feature</th>\n",
       "      <th>Importance</th>\n",
       "    </tr>\n",
       "  </thead>\n",
       "  <tbody>\n",
       "    <tr>\n",
       "      <th>5</th>\n",
       "      <td>ro_mean_lag</td>\n",
       "      <td>0.140114</td>\n",
       "    </tr>\n",
       "    <tr>\n",
       "      <th>12</th>\n",
       "      <td>vs_mean_lag</td>\n",
       "      <td>0.109713</td>\n",
       "    </tr>\n",
       "    <tr>\n",
       "      <th>10</th>\n",
       "      <td>vap_mean_lag</td>\n",
       "      <td>0.067302</td>\n",
       "    </tr>\n",
       "    <tr>\n",
       "      <th>2</th>\n",
       "      <td>pdsi_mean_lag</td>\n",
       "      <td>0.055889</td>\n",
       "    </tr>\n",
       "    <tr>\n",
       "      <th>20</th>\n",
       "      <td>srad_mean</td>\n",
       "      <td>0.053656</td>\n",
       "    </tr>\n",
       "    <tr>\n",
       "      <th>16</th>\n",
       "      <td>pet_mean</td>\n",
       "      <td>0.044786</td>\n",
       "    </tr>\n",
       "    <tr>\n",
       "      <th>23</th>\n",
       "      <td>vap_mean</td>\n",
       "      <td>0.043691</td>\n",
       "    </tr>\n",
       "    <tr>\n",
       "      <th>11</th>\n",
       "      <td>vpd_mean_lag</td>\n",
       "      <td>0.042350</td>\n",
       "    </tr>\n",
       "    <tr>\n",
       "      <th>17</th>\n",
       "      <td>pr_mean</td>\n",
       "      <td>0.041539</td>\n",
       "    </tr>\n",
       "    <tr>\n",
       "      <th>7</th>\n",
       "      <td>srad_mean_lag</td>\n",
       "      <td>0.040104</td>\n",
       "    </tr>\n",
       "    <tr>\n",
       "      <th>24</th>\n",
       "      <td>vpd_mean</td>\n",
       "      <td>0.033135</td>\n",
       "    </tr>\n",
       "    <tr>\n",
       "      <th>19</th>\n",
       "      <td>soil_mean</td>\n",
       "      <td>0.031083</td>\n",
       "    </tr>\n",
       "    <tr>\n",
       "      <th>8</th>\n",
       "      <td>tmmn_mean_lag</td>\n",
       "      <td>0.027442</td>\n",
       "    </tr>\n",
       "    <tr>\n",
       "      <th>13</th>\n",
       "      <td>aet_mean</td>\n",
       "      <td>0.027163</td>\n",
       "    </tr>\n",
       "    <tr>\n",
       "      <th>21</th>\n",
       "      <td>tmmn_mean</td>\n",
       "      <td>0.025785</td>\n",
       "    </tr>\n",
       "    <tr>\n",
       "      <th>15</th>\n",
       "      <td>pdsi_mean</td>\n",
       "      <td>0.025707</td>\n",
       "    </tr>\n",
       "    <tr>\n",
       "      <th>6</th>\n",
       "      <td>soil_mean_lag</td>\n",
       "      <td>0.023726</td>\n",
       "    </tr>\n",
       "    <tr>\n",
       "      <th>22</th>\n",
       "      <td>tmmx_mean</td>\n",
       "      <td>0.022934</td>\n",
       "    </tr>\n",
       "    <tr>\n",
       "      <th>18</th>\n",
       "      <td>ro_mean</td>\n",
       "      <td>0.022787</td>\n",
       "    </tr>\n",
       "    <tr>\n",
       "      <th>9</th>\n",
       "      <td>tmmx_mean_lag</td>\n",
       "      <td>0.022263</td>\n",
       "    </tr>\n",
       "    <tr>\n",
       "      <th>14</th>\n",
       "      <td>def_mean</td>\n",
       "      <td>0.018578</td>\n",
       "    </tr>\n",
       "    <tr>\n",
       "      <th>25</th>\n",
       "      <td>vs_mean</td>\n",
       "      <td>0.018401</td>\n",
       "    </tr>\n",
       "    <tr>\n",
       "      <th>3</th>\n",
       "      <td>pet_mean_lag</td>\n",
       "      <td>0.016592</td>\n",
       "    </tr>\n",
       "    <tr>\n",
       "      <th>4</th>\n",
       "      <td>pr_mean_lag</td>\n",
       "      <td>0.015825</td>\n",
       "    </tr>\n",
       "    <tr>\n",
       "      <th>0</th>\n",
       "      <td>aet_mean_lag</td>\n",
       "      <td>0.015029</td>\n",
       "    </tr>\n",
       "    <tr>\n",
       "      <th>1</th>\n",
       "      <td>def_mean_lag</td>\n",
       "      <td>0.014406</td>\n",
       "    </tr>\n",
       "  </tbody>\n",
       "</table>\n",
       "</div>"
      ],
      "text/plain": [
       "          Feature  Importance\n",
       "5     ro_mean_lag    0.140114\n",
       "12    vs_mean_lag    0.109713\n",
       "10   vap_mean_lag    0.067302\n",
       "2   pdsi_mean_lag    0.055889\n",
       "20      srad_mean    0.053656\n",
       "16       pet_mean    0.044786\n",
       "23       vap_mean    0.043691\n",
       "11   vpd_mean_lag    0.042350\n",
       "17        pr_mean    0.041539\n",
       "7   srad_mean_lag    0.040104\n",
       "24       vpd_mean    0.033135\n",
       "19      soil_mean    0.031083\n",
       "8   tmmn_mean_lag    0.027442\n",
       "13       aet_mean    0.027163\n",
       "21      tmmn_mean    0.025785\n",
       "15      pdsi_mean    0.025707\n",
       "6   soil_mean_lag    0.023726\n",
       "22      tmmx_mean    0.022934\n",
       "18        ro_mean    0.022787\n",
       "9   tmmx_mean_lag    0.022263\n",
       "14       def_mean    0.018578\n",
       "25        vs_mean    0.018401\n",
       "3    pet_mean_lag    0.016592\n",
       "4     pr_mean_lag    0.015825\n",
       "0    aet_mean_lag    0.015029\n",
       "1    def_mean_lag    0.014406"
      ]
     },
     "execution_count": 281,
     "metadata": {},
     "output_type": "execute_result"
    }
   ],
   "source": [
    "clim_pipeline_XGB.fit(X_clim, y)\n",
    "xgb_model = clim_pipeline_XGB.named_steps['regressor']\n",
    "importances = xgb_model.feature_importances_\n",
    "importance_df = pd.DataFrame({\n",
    "    'Feature': X_clim.columns,\n",
    "    'Importance': importances\n",
    "}).sort_values(by='Importance', ascending=False)\n",
    "\n",
    "importance_df"
   ]
  },
  {
   "cell_type": "markdown",
   "metadata": {},
   "source": [
    "Vegetation Group"
   ]
  },
  {
   "cell_type": "code",
   "execution_count": 282,
   "metadata": {},
   "outputs": [],
   "source": [
    "df['evi_mean_lag'] = df[evi_mean_laggers].mean(axis=1)\n",
    "df['msavi_mean_lag'] = df[msavi_mean_laggers].mean(axis=1)\n",
    "df['ndii_mean_lag'] = df[ndii_mean_laggers].mean(axis=1)\n",
    "df['ndvi_mean_lag'] = df[ndvi_mean_laggers].mean(axis=1)\n",
    "df['ndwi_mean_lag'] = df[ndwi_mean_laggers].mean(axis=1)\n",
    "df['savi_mean_lag'] = df[savi_mean_laggers].mean(axis=1)"
   ]
  },
  {
   "cell_type": "code",
   "execution_count": 283,
   "metadata": {},
   "outputs": [],
   "source": [
    "df_veg_sm = df[veg_vars + [target_var]].dropna()"
   ]
  },
  {
   "cell_type": "code",
   "execution_count": 285,
   "metadata": {},
   "outputs": [],
   "source": [
    "X_veg = df_veg_sm[veg_vars] #input features\n",
    "y = df_veg_sm[target_var] #target var - shprev"
   ]
  },
  {
   "cell_type": "code",
   "execution_count": 286,
   "metadata": {},
   "outputs": [
    {
     "name": "stdout",
     "output_type": "stream",
     "text": [
      "Mean RMSE: 11.05504323712319\n"
     ]
    },
    {
     "name": "stderr",
     "output_type": "stream",
     "text": [
      "c:\\Users\\syeda\\.pyenv\\pyenv-win\\versions\\3.9.13\\lib\\site-packages\\sklearn\\metrics\\_regression.py:492: FutureWarning: 'squared' is deprecated in version 1.4 and will be removed in 1.6. To calculate the root mean squared error, use the function'root_mean_squared_error'.\n",
      "  warnings.warn(\n",
      "c:\\Users\\syeda\\.pyenv\\pyenv-win\\versions\\3.9.13\\lib\\site-packages\\sklearn\\metrics\\_regression.py:492: FutureWarning: 'squared' is deprecated in version 1.4 and will be removed in 1.6. To calculate the root mean squared error, use the function'root_mean_squared_error'.\n",
      "  warnings.warn(\n",
      "c:\\Users\\syeda\\.pyenv\\pyenv-win\\versions\\3.9.13\\lib\\site-packages\\sklearn\\metrics\\_regression.py:492: FutureWarning: 'squared' is deprecated in version 1.4 and will be removed in 1.6. To calculate the root mean squared error, use the function'root_mean_squared_error'.\n",
      "  warnings.warn(\n",
      "c:\\Users\\syeda\\.pyenv\\pyenv-win\\versions\\3.9.13\\lib\\site-packages\\sklearn\\metrics\\_regression.py:492: FutureWarning: 'squared' is deprecated in version 1.4 and will be removed in 1.6. To calculate the root mean squared error, use the function'root_mean_squared_error'.\n",
      "  warnings.warn(\n",
      "c:\\Users\\syeda\\.pyenv\\pyenv-win\\versions\\3.9.13\\lib\\site-packages\\sklearn\\metrics\\_regression.py:492: FutureWarning: 'squared' is deprecated in version 1.4 and will be removed in 1.6. To calculate the root mean squared error, use the function'root_mean_squared_error'.\n",
      "  warnings.warn(\n",
      "c:\\Users\\syeda\\.pyenv\\pyenv-win\\versions\\3.9.13\\lib\\site-packages\\sklearn\\metrics\\_regression.py:492: FutureWarning: 'squared' is deprecated in version 1.4 and will be removed in 1.6. To calculate the root mean squared error, use the function'root_mean_squared_error'.\n",
      "  warnings.warn(\n",
      "c:\\Users\\syeda\\.pyenv\\pyenv-win\\versions\\3.9.13\\lib\\site-packages\\sklearn\\metrics\\_regression.py:492: FutureWarning: 'squared' is deprecated in version 1.4 and will be removed in 1.6. To calculate the root mean squared error, use the function'root_mean_squared_error'.\n",
      "  warnings.warn(\n",
      "c:\\Users\\syeda\\.pyenv\\pyenv-win\\versions\\3.9.13\\lib\\site-packages\\sklearn\\metrics\\_regression.py:492: FutureWarning: 'squared' is deprecated in version 1.4 and will be removed in 1.6. To calculate the root mean squared error, use the function'root_mean_squared_error'.\n",
      "  warnings.warn(\n",
      "c:\\Users\\syeda\\.pyenv\\pyenv-win\\versions\\3.9.13\\lib\\site-packages\\sklearn\\metrics\\_regression.py:492: FutureWarning: 'squared' is deprecated in version 1.4 and will be removed in 1.6. To calculate the root mean squared error, use the function'root_mean_squared_error'.\n",
      "  warnings.warn(\n",
      "c:\\Users\\syeda\\.pyenv\\pyenv-win\\versions\\3.9.13\\lib\\site-packages\\sklearn\\metrics\\_regression.py:492: FutureWarning: 'squared' is deprecated in version 1.4 and will be removed in 1.6. To calculate the root mean squared error, use the function'root_mean_squared_error'.\n",
      "  warnings.warn(\n"
     ]
    }
   ],
   "source": [
    "veg_pipeline_LR = Pipeline([\n",
    "    ('regressor', LinearRegression()) # Step 2: Linear Regression\n",
    "])\n",
    "crosseval(veg_pipeline_LR, X_veg, y)"
   ]
  },
  {
   "cell_type": "code",
   "execution_count": 287,
   "metadata": {},
   "outputs": [
    {
     "name": "stderr",
     "output_type": "stream",
     "text": [
      "c:\\Users\\syeda\\.pyenv\\pyenv-win\\versions\\3.9.13\\lib\\site-packages\\sklearn\\metrics\\_regression.py:492: FutureWarning: 'squared' is deprecated in version 1.4 and will be removed in 1.6. To calculate the root mean squared error, use the function'root_mean_squared_error'.\n",
      "  warnings.warn(\n",
      "c:\\Users\\syeda\\.pyenv\\pyenv-win\\versions\\3.9.13\\lib\\site-packages\\sklearn\\metrics\\_regression.py:492: FutureWarning: 'squared' is deprecated in version 1.4 and will be removed in 1.6. To calculate the root mean squared error, use the function'root_mean_squared_error'.\n",
      "  warnings.warn(\n",
      "c:\\Users\\syeda\\.pyenv\\pyenv-win\\versions\\3.9.13\\lib\\site-packages\\sklearn\\metrics\\_regression.py:492: FutureWarning: 'squared' is deprecated in version 1.4 and will be removed in 1.6. To calculate the root mean squared error, use the function'root_mean_squared_error'.\n",
      "  warnings.warn(\n",
      "c:\\Users\\syeda\\.pyenv\\pyenv-win\\versions\\3.9.13\\lib\\site-packages\\sklearn\\metrics\\_regression.py:492: FutureWarning: 'squared' is deprecated in version 1.4 and will be removed in 1.6. To calculate the root mean squared error, use the function'root_mean_squared_error'.\n",
      "  warnings.warn(\n",
      "c:\\Users\\syeda\\.pyenv\\pyenv-win\\versions\\3.9.13\\lib\\site-packages\\sklearn\\metrics\\_regression.py:492: FutureWarning: 'squared' is deprecated in version 1.4 and will be removed in 1.6. To calculate the root mean squared error, use the function'root_mean_squared_error'.\n",
      "  warnings.warn(\n",
      "c:\\Users\\syeda\\.pyenv\\pyenv-win\\versions\\3.9.13\\lib\\site-packages\\sklearn\\metrics\\_regression.py:492: FutureWarning: 'squared' is deprecated in version 1.4 and will be removed in 1.6. To calculate the root mean squared error, use the function'root_mean_squared_error'.\n",
      "  warnings.warn(\n",
      "c:\\Users\\syeda\\.pyenv\\pyenv-win\\versions\\3.9.13\\lib\\site-packages\\sklearn\\metrics\\_regression.py:492: FutureWarning: 'squared' is deprecated in version 1.4 and will be removed in 1.6. To calculate the root mean squared error, use the function'root_mean_squared_error'.\n",
      "  warnings.warn(\n",
      "c:\\Users\\syeda\\.pyenv\\pyenv-win\\versions\\3.9.13\\lib\\site-packages\\sklearn\\metrics\\_regression.py:492: FutureWarning: 'squared' is deprecated in version 1.4 and will be removed in 1.6. To calculate the root mean squared error, use the function'root_mean_squared_error'.\n",
      "  warnings.warn(\n",
      "c:\\Users\\syeda\\.pyenv\\pyenv-win\\versions\\3.9.13\\lib\\site-packages\\sklearn\\metrics\\_regression.py:492: FutureWarning: 'squared' is deprecated in version 1.4 and will be removed in 1.6. To calculate the root mean squared error, use the function'root_mean_squared_error'.\n",
      "  warnings.warn(\n"
     ]
    },
    {
     "name": "stdout",
     "output_type": "stream",
     "text": [
      "Mean RMSE: 12.114107506966404\n"
     ]
    },
    {
     "name": "stderr",
     "output_type": "stream",
     "text": [
      "c:\\Users\\syeda\\.pyenv\\pyenv-win\\versions\\3.9.13\\lib\\site-packages\\sklearn\\metrics\\_regression.py:492: FutureWarning: 'squared' is deprecated in version 1.4 and will be removed in 1.6. To calculate the root mean squared error, use the function'root_mean_squared_error'.\n",
      "  warnings.warn(\n"
     ]
    }
   ],
   "source": [
    "veg_pipeline_XGB = Pipeline([\n",
    "    ('regressor', XGBRegressor()) # Step 2: Linear Regression\n",
    "])\n",
    "crosseval(veg_pipeline_XGB, X_veg, y)"
   ]
  },
  {
   "cell_type": "code",
   "execution_count": 288,
   "metadata": {},
   "outputs": [
    {
     "data": {
      "text/html": [
       "<div>\n",
       "<style scoped>\n",
       "    .dataframe tbody tr th:only-of-type {\n",
       "        vertical-align: middle;\n",
       "    }\n",
       "\n",
       "    .dataframe tbody tr th {\n",
       "        vertical-align: top;\n",
       "    }\n",
       "\n",
       "    .dataframe thead th {\n",
       "        text-align: right;\n",
       "    }\n",
       "</style>\n",
       "<table border=\"1\" class=\"dataframe\">\n",
       "  <thead>\n",
       "    <tr style=\"text-align: right;\">\n",
       "      <th></th>\n",
       "      <th>Feature</th>\n",
       "      <th>Importance</th>\n",
       "    </tr>\n",
       "  </thead>\n",
       "  <tbody>\n",
       "    <tr>\n",
       "      <th>8</th>\n",
       "      <td>NDII_mean</td>\n",
       "      <td>0.130338</td>\n",
       "    </tr>\n",
       "    <tr>\n",
       "      <th>2</th>\n",
       "      <td>ndii_mean_lag</td>\n",
       "      <td>0.100952</td>\n",
       "    </tr>\n",
       "    <tr>\n",
       "      <th>4</th>\n",
       "      <td>ndwi_mean_lag</td>\n",
       "      <td>0.093211</td>\n",
       "    </tr>\n",
       "    <tr>\n",
       "      <th>9</th>\n",
       "      <td>NDVI_mean</td>\n",
       "      <td>0.088496</td>\n",
       "    </tr>\n",
       "    <tr>\n",
       "      <th>3</th>\n",
       "      <td>ndvi_mean_lag</td>\n",
       "      <td>0.087279</td>\n",
       "    </tr>\n",
       "    <tr>\n",
       "      <th>1</th>\n",
       "      <td>msavi_mean_lag</td>\n",
       "      <td>0.085169</td>\n",
       "    </tr>\n",
       "    <tr>\n",
       "      <th>11</th>\n",
       "      <td>SAVI_mean</td>\n",
       "      <td>0.083079</td>\n",
       "    </tr>\n",
       "    <tr>\n",
       "      <th>7</th>\n",
       "      <td>MSAVI_mean</td>\n",
       "      <td>0.079936</td>\n",
       "    </tr>\n",
       "    <tr>\n",
       "      <th>10</th>\n",
       "      <td>NDWI_mean</td>\n",
       "      <td>0.073769</td>\n",
       "    </tr>\n",
       "    <tr>\n",
       "      <th>6</th>\n",
       "      <td>EVI_mean</td>\n",
       "      <td>0.065448</td>\n",
       "    </tr>\n",
       "    <tr>\n",
       "      <th>5</th>\n",
       "      <td>savi_mean_lag</td>\n",
       "      <td>0.062771</td>\n",
       "    </tr>\n",
       "    <tr>\n",
       "      <th>0</th>\n",
       "      <td>evi_mean_lag</td>\n",
       "      <td>0.049551</td>\n",
       "    </tr>\n",
       "  </tbody>\n",
       "</table>\n",
       "</div>"
      ],
      "text/plain": [
       "           Feature  Importance\n",
       "8        NDII_mean    0.130338\n",
       "2    ndii_mean_lag    0.100952\n",
       "4    ndwi_mean_lag    0.093211\n",
       "9        NDVI_mean    0.088496\n",
       "3    ndvi_mean_lag    0.087279\n",
       "1   msavi_mean_lag    0.085169\n",
       "11       SAVI_mean    0.083079\n",
       "7       MSAVI_mean    0.079936\n",
       "10       NDWI_mean    0.073769\n",
       "6         EVI_mean    0.065448\n",
       "5    savi_mean_lag    0.062771\n",
       "0     evi_mean_lag    0.049551"
      ]
     },
     "execution_count": 288,
     "metadata": {},
     "output_type": "execute_result"
    }
   ],
   "source": [
    "veg_pipeline_XGB.fit(X_veg, y)\n",
    "xgb_model = veg_pipeline_XGB.named_steps['regressor']\n",
    "importances = xgb_model.feature_importances_\n",
    "importance_df = pd.DataFrame({\n",
    "    'Feature': X_veg.columns,\n",
    "    'Importance': importances\n",
    "}).sort_values(by='Importance', ascending=False)\n",
    "\n",
    "importance_df"
   ]
  },
  {
   "cell_type": "markdown",
   "metadata": {},
   "source": [
    "Geography Group"
   ]
  },
  {
   "cell_type": "code",
   "execution_count": 289,
   "metadata": {},
   "outputs": [],
   "source": [
    "df[\"agricultural_area\"] = df[\"area_rainfed_cropland\"] + df[\"area_herbaceous_cover_cropland\"] + df[\"area_irrigated_cropland\"] \n",
    "df[\"forest_change\"] = df[\"area_forest_lag1yr\"] - df[\"area_forest\"]"
   ]
  },
  {
   "cell_type": "code",
   "execution_count": 292,
   "metadata": {},
   "outputs": [],
   "source": [
    "df_geo_sm = df[geo_vars + [target_var]].dropna()"
   ]
  },
  {
   "cell_type": "code",
   "execution_count": 293,
   "metadata": {},
   "outputs": [],
   "source": [
    "X_geo = df_geo_sm[geo_vars] #input features\n",
    "y = df_geo_sm[target_var] #target var - shprev"
   ]
  },
  {
   "cell_type": "code",
   "execution_count": 294,
   "metadata": {},
   "outputs": [
    {
     "name": "stdout",
     "output_type": "stream",
     "text": [
      "Mean RMSE: 12.39820530415273\n"
     ]
    },
    {
     "name": "stderr",
     "output_type": "stream",
     "text": [
      "c:\\Users\\syeda\\.pyenv\\pyenv-win\\versions\\3.9.13\\lib\\site-packages\\sklearn\\metrics\\_regression.py:492: FutureWarning: 'squared' is deprecated in version 1.4 and will be removed in 1.6. To calculate the root mean squared error, use the function'root_mean_squared_error'.\n",
      "  warnings.warn(\n",
      "c:\\Users\\syeda\\.pyenv\\pyenv-win\\versions\\3.9.13\\lib\\site-packages\\sklearn\\metrics\\_regression.py:492: FutureWarning: 'squared' is deprecated in version 1.4 and will be removed in 1.6. To calculate the root mean squared error, use the function'root_mean_squared_error'.\n",
      "  warnings.warn(\n",
      "c:\\Users\\syeda\\.pyenv\\pyenv-win\\versions\\3.9.13\\lib\\site-packages\\sklearn\\metrics\\_regression.py:492: FutureWarning: 'squared' is deprecated in version 1.4 and will be removed in 1.6. To calculate the root mean squared error, use the function'root_mean_squared_error'.\n",
      "  warnings.warn(\n",
      "c:\\Users\\syeda\\.pyenv\\pyenv-win\\versions\\3.9.13\\lib\\site-packages\\sklearn\\metrics\\_regression.py:492: FutureWarning: 'squared' is deprecated in version 1.4 and will be removed in 1.6. To calculate the root mean squared error, use the function'root_mean_squared_error'.\n",
      "  warnings.warn(\n",
      "c:\\Users\\syeda\\.pyenv\\pyenv-win\\versions\\3.9.13\\lib\\site-packages\\sklearn\\metrics\\_regression.py:492: FutureWarning: 'squared' is deprecated in version 1.4 and will be removed in 1.6. To calculate the root mean squared error, use the function'root_mean_squared_error'.\n",
      "  warnings.warn(\n",
      "c:\\Users\\syeda\\.pyenv\\pyenv-win\\versions\\3.9.13\\lib\\site-packages\\sklearn\\metrics\\_regression.py:492: FutureWarning: 'squared' is deprecated in version 1.4 and will be removed in 1.6. To calculate the root mean squared error, use the function'root_mean_squared_error'.\n",
      "  warnings.warn(\n",
      "c:\\Users\\syeda\\.pyenv\\pyenv-win\\versions\\3.9.13\\lib\\site-packages\\sklearn\\metrics\\_regression.py:492: FutureWarning: 'squared' is deprecated in version 1.4 and will be removed in 1.6. To calculate the root mean squared error, use the function'root_mean_squared_error'.\n",
      "  warnings.warn(\n",
      "c:\\Users\\syeda\\.pyenv\\pyenv-win\\versions\\3.9.13\\lib\\site-packages\\sklearn\\metrics\\_regression.py:492: FutureWarning: 'squared' is deprecated in version 1.4 and will be removed in 1.6. To calculate the root mean squared error, use the function'root_mean_squared_error'.\n",
      "  warnings.warn(\n",
      "c:\\Users\\syeda\\.pyenv\\pyenv-win\\versions\\3.9.13\\lib\\site-packages\\sklearn\\metrics\\_regression.py:492: FutureWarning: 'squared' is deprecated in version 1.4 and will be removed in 1.6. To calculate the root mean squared error, use the function'root_mean_squared_error'.\n",
      "  warnings.warn(\n",
      "c:\\Users\\syeda\\.pyenv\\pyenv-win\\versions\\3.9.13\\lib\\site-packages\\sklearn\\metrics\\_regression.py:492: FutureWarning: 'squared' is deprecated in version 1.4 and will be removed in 1.6. To calculate the root mean squared error, use the function'root_mean_squared_error'.\n",
      "  warnings.warn(\n"
     ]
    }
   ],
   "source": [
    "geo_pipeline_LR = Pipeline([\n",
    "    ('regressor', LinearRegression()) # Step 2: Linear Regression\n",
    "])\n",
    "crosseval(geo_pipeline_LR, X_geo, y)"
   ]
  },
  {
   "cell_type": "code",
   "execution_count": 295,
   "metadata": {},
   "outputs": [
    {
     "name": "stderr",
     "output_type": "stream",
     "text": [
      "c:\\Users\\syeda\\.pyenv\\pyenv-win\\versions\\3.9.13\\lib\\site-packages\\sklearn\\metrics\\_regression.py:492: FutureWarning: 'squared' is deprecated in version 1.4 and will be removed in 1.6. To calculate the root mean squared error, use the function'root_mean_squared_error'.\n",
      "  warnings.warn(\n",
      "c:\\Users\\syeda\\.pyenv\\pyenv-win\\versions\\3.9.13\\lib\\site-packages\\sklearn\\metrics\\_regression.py:492: FutureWarning: 'squared' is deprecated in version 1.4 and will be removed in 1.6. To calculate the root mean squared error, use the function'root_mean_squared_error'.\n",
      "  warnings.warn(\n",
      "c:\\Users\\syeda\\.pyenv\\pyenv-win\\versions\\3.9.13\\lib\\site-packages\\sklearn\\metrics\\_regression.py:492: FutureWarning: 'squared' is deprecated in version 1.4 and will be removed in 1.6. To calculate the root mean squared error, use the function'root_mean_squared_error'.\n",
      "  warnings.warn(\n",
      "c:\\Users\\syeda\\.pyenv\\pyenv-win\\versions\\3.9.13\\lib\\site-packages\\sklearn\\metrics\\_regression.py:492: FutureWarning: 'squared' is deprecated in version 1.4 and will be removed in 1.6. To calculate the root mean squared error, use the function'root_mean_squared_error'.\n",
      "  warnings.warn(\n",
      "c:\\Users\\syeda\\.pyenv\\pyenv-win\\versions\\3.9.13\\lib\\site-packages\\sklearn\\metrics\\_regression.py:492: FutureWarning: 'squared' is deprecated in version 1.4 and will be removed in 1.6. To calculate the root mean squared error, use the function'root_mean_squared_error'.\n",
      "  warnings.warn(\n",
      "c:\\Users\\syeda\\.pyenv\\pyenv-win\\versions\\3.9.13\\lib\\site-packages\\sklearn\\metrics\\_regression.py:492: FutureWarning: 'squared' is deprecated in version 1.4 and will be removed in 1.6. To calculate the root mean squared error, use the function'root_mean_squared_error'.\n",
      "  warnings.warn(\n",
      "c:\\Users\\syeda\\.pyenv\\pyenv-win\\versions\\3.9.13\\lib\\site-packages\\sklearn\\metrics\\_regression.py:492: FutureWarning: 'squared' is deprecated in version 1.4 and will be removed in 1.6. To calculate the root mean squared error, use the function'root_mean_squared_error'.\n",
      "  warnings.warn(\n",
      "c:\\Users\\syeda\\.pyenv\\pyenv-win\\versions\\3.9.13\\lib\\site-packages\\sklearn\\metrics\\_regression.py:492: FutureWarning: 'squared' is deprecated in version 1.4 and will be removed in 1.6. To calculate the root mean squared error, use the function'root_mean_squared_error'.\n",
      "  warnings.warn(\n",
      "c:\\Users\\syeda\\.pyenv\\pyenv-win\\versions\\3.9.13\\lib\\site-packages\\sklearn\\metrics\\_regression.py:492: FutureWarning: 'squared' is deprecated in version 1.4 and will be removed in 1.6. To calculate the root mean squared error, use the function'root_mean_squared_error'.\n",
      "  warnings.warn(\n",
      "c:\\Users\\syeda\\.pyenv\\pyenv-win\\versions\\3.9.13\\lib\\site-packages\\sklearn\\metrics\\_regression.py:492: FutureWarning: 'squared' is deprecated in version 1.4 and will be removed in 1.6. To calculate the root mean squared error, use the function'root_mean_squared_error'.\n",
      "  warnings.warn(\n"
     ]
    },
    {
     "name": "stdout",
     "output_type": "stream",
     "text": [
      "Mean RMSE: 13.743487043114673\n"
     ]
    }
   ],
   "source": [
    "geo_pipeline_XGB = Pipeline([\n",
    "    ('regressor', XGBRegressor()) # Step 2: Linear Regression\n",
    "])\n",
    "crosseval(geo_pipeline_XGB, X_geo, y)"
   ]
  },
  {
   "cell_type": "code",
   "execution_count": 296,
   "metadata": {},
   "outputs": [
    {
     "data": {
      "text/html": [
       "<div>\n",
       "<style scoped>\n",
       "    .dataframe tbody tr th:only-of-type {\n",
       "        vertical-align: middle;\n",
       "    }\n",
       "\n",
       "    .dataframe tbody tr th {\n",
       "        vertical-align: top;\n",
       "    }\n",
       "\n",
       "    .dataframe thead th {\n",
       "        text-align: right;\n",
       "    }\n",
       "</style>\n",
       "<table border=\"1\" class=\"dataframe\">\n",
       "  <thead>\n",
       "    <tr style=\"text-align: right;\">\n",
       "      <th></th>\n",
       "      <th>Feature</th>\n",
       "      <th>Importance</th>\n",
       "    </tr>\n",
       "  </thead>\n",
       "  <tbody>\n",
       "    <tr>\n",
       "      <th>2</th>\n",
       "      <td>area_built_up</td>\n",
       "      <td>0.409881</td>\n",
       "    </tr>\n",
       "    <tr>\n",
       "      <th>1</th>\n",
       "      <td>forest_change</td>\n",
       "      <td>0.350353</td>\n",
       "    </tr>\n",
       "    <tr>\n",
       "      <th>0</th>\n",
       "      <td>agricultural_area</td>\n",
       "      <td>0.239766</td>\n",
       "    </tr>\n",
       "  </tbody>\n",
       "</table>\n",
       "</div>"
      ],
      "text/plain": [
       "             Feature  Importance\n",
       "2      area_built_up    0.409881\n",
       "1      forest_change    0.350353\n",
       "0  agricultural_area    0.239766"
      ]
     },
     "execution_count": 296,
     "metadata": {},
     "output_type": "execute_result"
    }
   ],
   "source": [
    "geo_pipeline_XGB.fit(X_geo, y)\n",
    "xgb_model = geo_pipeline_XGB.named_steps['regressor']\n",
    "importances = xgb_model.feature_importances_\n",
    "importance_df = pd.DataFrame({\n",
    "    'Feature': X_geo.columns,\n",
    "    'Importance': importances\n",
    "}).sort_values(by='Importance', ascending=False)\n",
    "\n",
    "importance_df"
   ]
  },
  {
   "cell_type": "markdown",
   "metadata": {},
   "source": [
    "Human Group"
   ]
  },
  {
   "cell_type": "code",
   "execution_count": 298,
   "metadata": {},
   "outputs": [],
   "source": [
    "df[\"gdp_mean_lag\"] = df[[\"gdp_mean_lag3yr\", \"gdp_mean_lag5yr\"]].mean(axis=1)\n",
    "pop_change_1yr = ((df[\"total_pop_lag1yr\"] - df[\"total_pop\"])/df[\"total_pop_lag1yr\"]) * 100 \n",
    "df[\"pop_change_3yr\"] = ((df[\"total_pop_lag3yr\"] - df[\"total_pop\"])/df[\"total_pop_lag3yr\"]) * 100 \n",
    "df['pop_change_category'] = df['pop_change_3yr'].apply(encode_population_change)\n",
    "\n",
    "human_vars = [\"total_pop\", \"pop_change_category\", \"gdp_mean\", \"gdp_mean_lag\"]\n"
   ]
  },
  {
   "cell_type": "code",
   "execution_count": 299,
   "metadata": {},
   "outputs": [],
   "source": [
    "df_hum_sm = df[human_vars + [target_var]].dropna()"
   ]
  },
  {
   "cell_type": "code",
   "execution_count": 300,
   "metadata": {},
   "outputs": [],
   "source": [
    "X_hum = df_hum_sm[human_vars]\n",
    "y = df_hum_sm[target_var]"
   ]
  },
  {
   "cell_type": "code",
   "execution_count": 301,
   "metadata": {},
   "outputs": [],
   "source": [
    "hum_numerical_features = [col for col in X_hum.columns if col != 'pop_change_category']\n",
    "hum_categorical_features = ['pop_change_category']\n",
    "hum_preprocessor = ColumnTransformer(\n",
    "    transformers=[\n",
    "        ('num', StandardScaler(), hum_numerical_features),  # Scale numerical features\n",
    "        ('cat', OneHotEncoder(handle_unknown='ignore'), hum_categorical_features)  # OneHotEncode categorical feature\n",
    "    ]\n",
    ")"
   ]
  },
  {
   "cell_type": "code",
   "execution_count": 302,
   "metadata": {},
   "outputs": [
    {
     "name": "stdout",
     "output_type": "stream",
     "text": [
      "Mean RMSE: 12.15323744476059\n"
     ]
    },
    {
     "name": "stderr",
     "output_type": "stream",
     "text": [
      "c:\\Users\\syeda\\.pyenv\\pyenv-win\\versions\\3.9.13\\lib\\site-packages\\sklearn\\metrics\\_regression.py:492: FutureWarning: 'squared' is deprecated in version 1.4 and will be removed in 1.6. To calculate the root mean squared error, use the function'root_mean_squared_error'.\n",
      "  warnings.warn(\n",
      "c:\\Users\\syeda\\.pyenv\\pyenv-win\\versions\\3.9.13\\lib\\site-packages\\sklearn\\metrics\\_regression.py:492: FutureWarning: 'squared' is deprecated in version 1.4 and will be removed in 1.6. To calculate the root mean squared error, use the function'root_mean_squared_error'.\n",
      "  warnings.warn(\n",
      "c:\\Users\\syeda\\.pyenv\\pyenv-win\\versions\\3.9.13\\lib\\site-packages\\sklearn\\metrics\\_regression.py:492: FutureWarning: 'squared' is deprecated in version 1.4 and will be removed in 1.6. To calculate the root mean squared error, use the function'root_mean_squared_error'.\n",
      "  warnings.warn(\n",
      "c:\\Users\\syeda\\.pyenv\\pyenv-win\\versions\\3.9.13\\lib\\site-packages\\sklearn\\metrics\\_regression.py:492: FutureWarning: 'squared' is deprecated in version 1.4 and will be removed in 1.6. To calculate the root mean squared error, use the function'root_mean_squared_error'.\n",
      "  warnings.warn(\n",
      "c:\\Users\\syeda\\.pyenv\\pyenv-win\\versions\\3.9.13\\lib\\site-packages\\sklearn\\metrics\\_regression.py:492: FutureWarning: 'squared' is deprecated in version 1.4 and will be removed in 1.6. To calculate the root mean squared error, use the function'root_mean_squared_error'.\n",
      "  warnings.warn(\n",
      "c:\\Users\\syeda\\.pyenv\\pyenv-win\\versions\\3.9.13\\lib\\site-packages\\sklearn\\metrics\\_regression.py:492: FutureWarning: 'squared' is deprecated in version 1.4 and will be removed in 1.6. To calculate the root mean squared error, use the function'root_mean_squared_error'.\n",
      "  warnings.warn(\n",
      "c:\\Users\\syeda\\.pyenv\\pyenv-win\\versions\\3.9.13\\lib\\site-packages\\sklearn\\metrics\\_regression.py:492: FutureWarning: 'squared' is deprecated in version 1.4 and will be removed in 1.6. To calculate the root mean squared error, use the function'root_mean_squared_error'.\n",
      "  warnings.warn(\n",
      "c:\\Users\\syeda\\.pyenv\\pyenv-win\\versions\\3.9.13\\lib\\site-packages\\sklearn\\metrics\\_regression.py:492: FutureWarning: 'squared' is deprecated in version 1.4 and will be removed in 1.6. To calculate the root mean squared error, use the function'root_mean_squared_error'.\n",
      "  warnings.warn(\n",
      "c:\\Users\\syeda\\.pyenv\\pyenv-win\\versions\\3.9.13\\lib\\site-packages\\sklearn\\metrics\\_regression.py:492: FutureWarning: 'squared' is deprecated in version 1.4 and will be removed in 1.6. To calculate the root mean squared error, use the function'root_mean_squared_error'.\n",
      "  warnings.warn(\n",
      "c:\\Users\\syeda\\.pyenv\\pyenv-win\\versions\\3.9.13\\lib\\site-packages\\sklearn\\metrics\\_regression.py:492: FutureWarning: 'squared' is deprecated in version 1.4 and will be removed in 1.6. To calculate the root mean squared error, use the function'root_mean_squared_error'.\n",
      "  warnings.warn(\n"
     ]
    }
   ],
   "source": [
    "hum_pipeline_LR = Pipeline([\n",
    "    ('preprocessor', hum_preprocessor),    # Step 1: Preprocessing (Scaling and OneHotEncoding)\n",
    "    ('regressor', LinearRegression())  # Step 2: Linear Regression\n",
    "])\n",
    "crosseval(hum_pipeline_LR, X_hum, y)"
   ]
  },
  {
   "cell_type": "code",
   "execution_count": 303,
   "metadata": {},
   "outputs": [
    {
     "name": "stderr",
     "output_type": "stream",
     "text": [
      "c:\\Users\\syeda\\.pyenv\\pyenv-win\\versions\\3.9.13\\lib\\site-packages\\sklearn\\metrics\\_regression.py:492: FutureWarning: 'squared' is deprecated in version 1.4 and will be removed in 1.6. To calculate the root mean squared error, use the function'root_mean_squared_error'.\n",
      "  warnings.warn(\n",
      "c:\\Users\\syeda\\.pyenv\\pyenv-win\\versions\\3.9.13\\lib\\site-packages\\sklearn\\metrics\\_regression.py:492: FutureWarning: 'squared' is deprecated in version 1.4 and will be removed in 1.6. To calculate the root mean squared error, use the function'root_mean_squared_error'.\n",
      "  warnings.warn(\n",
      "c:\\Users\\syeda\\.pyenv\\pyenv-win\\versions\\3.9.13\\lib\\site-packages\\sklearn\\metrics\\_regression.py:492: FutureWarning: 'squared' is deprecated in version 1.4 and will be removed in 1.6. To calculate the root mean squared error, use the function'root_mean_squared_error'.\n",
      "  warnings.warn(\n",
      "c:\\Users\\syeda\\.pyenv\\pyenv-win\\versions\\3.9.13\\lib\\site-packages\\sklearn\\metrics\\_regression.py:492: FutureWarning: 'squared' is deprecated in version 1.4 and will be removed in 1.6. To calculate the root mean squared error, use the function'root_mean_squared_error'.\n",
      "  warnings.warn(\n",
      "c:\\Users\\syeda\\.pyenv\\pyenv-win\\versions\\3.9.13\\lib\\site-packages\\sklearn\\metrics\\_regression.py:492: FutureWarning: 'squared' is deprecated in version 1.4 and will be removed in 1.6. To calculate the root mean squared error, use the function'root_mean_squared_error'.\n",
      "  warnings.warn(\n",
      "c:\\Users\\syeda\\.pyenv\\pyenv-win\\versions\\3.9.13\\lib\\site-packages\\sklearn\\metrics\\_regression.py:492: FutureWarning: 'squared' is deprecated in version 1.4 and will be removed in 1.6. To calculate the root mean squared error, use the function'root_mean_squared_error'.\n",
      "  warnings.warn(\n",
      "c:\\Users\\syeda\\.pyenv\\pyenv-win\\versions\\3.9.13\\lib\\site-packages\\sklearn\\metrics\\_regression.py:492: FutureWarning: 'squared' is deprecated in version 1.4 and will be removed in 1.6. To calculate the root mean squared error, use the function'root_mean_squared_error'.\n",
      "  warnings.warn(\n",
      "c:\\Users\\syeda\\.pyenv\\pyenv-win\\versions\\3.9.13\\lib\\site-packages\\sklearn\\metrics\\_regression.py:492: FutureWarning: 'squared' is deprecated in version 1.4 and will be removed in 1.6. To calculate the root mean squared error, use the function'root_mean_squared_error'.\n",
      "  warnings.warn(\n"
     ]
    },
    {
     "name": "stdout",
     "output_type": "stream",
     "text": [
      "Mean RMSE: 13.595095780747078\n"
     ]
    },
    {
     "name": "stderr",
     "output_type": "stream",
     "text": [
      "c:\\Users\\syeda\\.pyenv\\pyenv-win\\versions\\3.9.13\\lib\\site-packages\\sklearn\\metrics\\_regression.py:492: FutureWarning: 'squared' is deprecated in version 1.4 and will be removed in 1.6. To calculate the root mean squared error, use the function'root_mean_squared_error'.\n",
      "  warnings.warn(\n",
      "c:\\Users\\syeda\\.pyenv\\pyenv-win\\versions\\3.9.13\\lib\\site-packages\\sklearn\\metrics\\_regression.py:492: FutureWarning: 'squared' is deprecated in version 1.4 and will be removed in 1.6. To calculate the root mean squared error, use the function'root_mean_squared_error'.\n",
      "  warnings.warn(\n"
     ]
    }
   ],
   "source": [
    "hum_pipeline_XGB = Pipeline([\n",
    "    ('preprocessor', hum_preprocessor),    # Step 1: Preprocessing (Scaling and OneHotEncoding)\n",
    "    ('regressor', XGBRegressor())  # Step 2: Linear Regression\n",
    "])\n",
    "crosseval(hum_pipeline_XGB, X_hum, y)"
   ]
  },
  {
   "cell_type": "code",
   "execution_count": 305,
   "metadata": {},
   "outputs": [
    {
     "data": {
      "text/html": [
       "<div>\n",
       "<style scoped>\n",
       "    .dataframe tbody tr th:only-of-type {\n",
       "        vertical-align: middle;\n",
       "    }\n",
       "\n",
       "    .dataframe tbody tr th {\n",
       "        vertical-align: top;\n",
       "    }\n",
       "\n",
       "    .dataframe thead th {\n",
       "        text-align: right;\n",
       "    }\n",
       "</style>\n",
       "<table border=\"1\" class=\"dataframe\">\n",
       "  <thead>\n",
       "    <tr style=\"text-align: right;\">\n",
       "      <th></th>\n",
       "      <th>Feature</th>\n",
       "      <th>Importance</th>\n",
       "    </tr>\n",
       "  </thead>\n",
       "  <tbody>\n",
       "    <tr>\n",
       "      <th>2</th>\n",
       "      <td>num__gdp_mean_lag</td>\n",
       "      <td>0.314728</td>\n",
       "    </tr>\n",
       "    <tr>\n",
       "      <th>1</th>\n",
       "      <td>num__gdp_mean</td>\n",
       "      <td>0.273382</td>\n",
       "    </tr>\n",
       "    <tr>\n",
       "      <th>3</th>\n",
       "      <td>cat__pop_change_category_increase</td>\n",
       "      <td>0.226212</td>\n",
       "    </tr>\n",
       "    <tr>\n",
       "      <th>0</th>\n",
       "      <td>num__total_pop</td>\n",
       "      <td>0.185677</td>\n",
       "    </tr>\n",
       "    <tr>\n",
       "      <th>4</th>\n",
       "      <td>cat__pop_change_category_stays the same</td>\n",
       "      <td>0.000000</td>\n",
       "    </tr>\n",
       "  </tbody>\n",
       "</table>\n",
       "</div>"
      ],
      "text/plain": [
       "                                   Feature  Importance\n",
       "2                        num__gdp_mean_lag    0.314728\n",
       "1                            num__gdp_mean    0.273382\n",
       "3        cat__pop_change_category_increase    0.226212\n",
       "0                           num__total_pop    0.185677\n",
       "4  cat__pop_change_category_stays the same    0.000000"
      ]
     },
     "execution_count": 305,
     "metadata": {},
     "output_type": "execute_result"
    }
   ],
   "source": [
    "preprocessor = hum_pipeline_XGB.named_steps['preprocessor']\n",
    "feature_names = preprocessor.get_feature_names_out()\n",
    "xgb_model = hum_pipeline_XGB.named_steps['regressor']\n",
    "importances = xgb_model.feature_importances_\n",
    "importance_df = pd.DataFrame({\n",
    "    'Feature': feature_names,\n",
    "    'Importance': importances\n",
    "}).sort_values(by='Importance', ascending=False)\n",
    "importance_df\n"
   ]
  },
  {
   "cell_type": "markdown",
   "metadata": {},
   "source": [
    "Overall Mansoni"
   ]
  },
  {
   "cell_type": "code",
   "execution_count": 306,
   "metadata": {},
   "outputs": [],
   "source": [
    "sm_vars = [\n",
    "    'aspect', 'bedrock_depth_mean', 'bulk_density_20cm_mean', 'cec_20cm_mean', 'clay_20cm_mean', \n",
    "    'damDist', 'elevation', 'hnd', 'nitrogen_20cm_mean', 'organic_carbon_20cm_mean', 'ph_20cm_mean',\n",
    "    'sand_20cm_mean', 'silt_20cm_mean', 'slope', 'soilWater', 'stone_20cm_mean', 'total_carbon_20cm_mean',\n",
    "    'upa', 'waterDist', \"aet_mean_lag\", \"def_mean_lag\", \"pdsi_mean_lag\", \"pet_mean_lag\", \"pr_mean_lag\", \"ro_mean_lag\", \n",
    "    \"soil_mean_lag\", \"srad_mean_lag\", \"tmmn_mean_lag\", \"tmmx_mean_lag\", \"vap_mean_lag\", \"vpd_mean_lag\", \"vs_mean_lag\", \n",
    "    \"aet_mean\", \"def_mean\", \"pdsi_mean\", \"pet_mean\", \"pr_mean\", \"ro_mean\", \"soil_mean\", \"srad_mean\", \n",
    "    \"tmmn_mean\", \"tmmx_mean\", \"vap_mean\", \"vpd_mean\", \"vs_mean\", \"evi_mean_lag\", \"msavi_mean_lag\", \"ndii_mean_lag\", \"ndvi_mean_lag\", \n",
    "    \"ndwi_mean_lag\", \"savi_mean_lag\", \"EVI_mean\", \"MSAVI_mean\", \"NDII_mean\", \"NDVI_mean\", \"NDWI_mean\", \"SAVI_mean\", \"agricultural_area\",\n",
    "    \"forest_change\", \"area_built_up\", \"total_pop\", \"pop_change_category\", \"gdp_mean\", \"gdp_mean_lag\"]"
   ]
  },
  {
   "cell_type": "code",
   "execution_count": 307,
   "metadata": {},
   "outputs": [],
   "source": [
    "sm_total = [\n",
    "    'aspect', 'bedrock_depth_mean', 'bulk_density_20cm_mean', 'cec_20cm_mean', 'clay_20cm_mean', \n",
    "    'damDist', 'elevation', 'hnd', 'nitrogen_20cm_mean', 'organic_carbon_20cm_mean', 'ph_20cm_mean',\n",
    "    'sand_20cm_mean', 'silt_20cm_mean', 'slope', 'soilWater', 'stone_20cm_mean', 'total_carbon_20cm_mean',\n",
    "    'upa', 'waterDist', \"aet_mean_lag\", \"def_mean_lag\", \"pdsi_mean_lag\", \"pet_mean_lag\", \"pr_mean_lag\", \"ro_mean_lag\", \n",
    "    \"soil_mean_lag\", \"srad_mean_lag\", \"tmmn_mean_lag\", \"tmmx_mean_lag\", \"vap_mean_lag\", \"vpd_mean_lag\", \"vs_mean_lag\", \n",
    "    \"aet_mean\", \"def_mean\", \"pdsi_mean\", \"pet_mean\", \"pr_mean\", \"ro_mean\", \"soil_mean\", \"srad_mean\", \n",
    "    \"tmmn_mean\", \"tmmx_mean\", \"vap_mean\", \"vpd_mean\", \"vs_mean\", \"evi_mean_lag\", \"msavi_mean_lag\", \"ndii_mean_lag\", \"ndvi_mean_lag\", \n",
    "    \"ndwi_mean_lag\", \"savi_mean_lag\", \"EVI_mean\", \"MSAVI_mean\", \"NDII_mean\", \"NDVI_mean\", \"NDWI_mean\", \"SAVI_mean\", \"agricultural_area\",\n",
    "    \"forest_change\", \"area_built_up\", \"total_pop\", \"pop_change_category\", \"gdp_mean\", \"gdp_mean_lag\", \"sh_prev\"\n",
    "]"
   ]
  },
  {
   "cell_type": "code",
   "execution_count": 308,
   "metadata": {},
   "outputs": [],
   "source": [
    "df_cleaned_sm = df[sm_total].dropna()"
   ]
  },
  {
   "cell_type": "code",
   "execution_count": 309,
   "metadata": {},
   "outputs": [],
   "source": [
    "X_sm = df_cleaned_sm[sm_vars]\n",
    "y = df_cleaned_sm[target_var]"
   ]
  },
  {
   "cell_type": "code",
   "execution_count": 310,
   "metadata": {},
   "outputs": [],
   "source": [
    "sm_numerical_features = [col for col in X_sm.columns if col != 'pop_change_category']\n",
    "sm_categorical_features = ['pop_change_category']\n",
    "\n",
    "sm_preprocessor = ColumnTransformer(\n",
    "    transformers=[\n",
    "        ('num', StandardScaler(), sm_numerical_features),  # Scale numerical features\n",
    "        ('cat', OneHotEncoder(handle_unknown='ignore'), sm_categorical_features)  # OneHotEncode categorical feature\n",
    "    ]\n",
    ")"
   ]
  },
  {
   "cell_type": "code",
   "execution_count": 311,
   "metadata": {},
   "outputs": [
    {
     "name": "stderr",
     "output_type": "stream",
     "text": [
      "c:\\Users\\syeda\\.pyenv\\pyenv-win\\versions\\3.9.13\\lib\\site-packages\\sklearn\\metrics\\_regression.py:492: FutureWarning: 'squared' is deprecated in version 1.4 and will be removed in 1.6. To calculate the root mean squared error, use the function'root_mean_squared_error'.\n",
      "  warnings.warn(\n",
      "c:\\Users\\syeda\\.pyenv\\pyenv-win\\versions\\3.9.13\\lib\\site-packages\\sklearn\\metrics\\_regression.py:492: FutureWarning: 'squared' is deprecated in version 1.4 and will be removed in 1.6. To calculate the root mean squared error, use the function'root_mean_squared_error'.\n",
      "  warnings.warn(\n"
     ]
    },
    {
     "name": "stdout",
     "output_type": "stream",
     "text": [
      "Mean RMSE: 13.266816265167048\n"
     ]
    },
    {
     "name": "stderr",
     "output_type": "stream",
     "text": [
      "c:\\Users\\syeda\\.pyenv\\pyenv-win\\versions\\3.9.13\\lib\\site-packages\\sklearn\\metrics\\_regression.py:492: FutureWarning: 'squared' is deprecated in version 1.4 and will be removed in 1.6. To calculate the root mean squared error, use the function'root_mean_squared_error'.\n",
      "  warnings.warn(\n",
      "c:\\Users\\syeda\\.pyenv\\pyenv-win\\versions\\3.9.13\\lib\\site-packages\\sklearn\\metrics\\_regression.py:492: FutureWarning: 'squared' is deprecated in version 1.4 and will be removed in 1.6. To calculate the root mean squared error, use the function'root_mean_squared_error'.\n",
      "  warnings.warn(\n",
      "c:\\Users\\syeda\\.pyenv\\pyenv-win\\versions\\3.9.13\\lib\\site-packages\\sklearn\\metrics\\_regression.py:492: FutureWarning: 'squared' is deprecated in version 1.4 and will be removed in 1.6. To calculate the root mean squared error, use the function'root_mean_squared_error'.\n",
      "  warnings.warn(\n",
      "c:\\Users\\syeda\\.pyenv\\pyenv-win\\versions\\3.9.13\\lib\\site-packages\\sklearn\\metrics\\_regression.py:492: FutureWarning: 'squared' is deprecated in version 1.4 and will be removed in 1.6. To calculate the root mean squared error, use the function'root_mean_squared_error'.\n",
      "  warnings.warn(\n",
      "c:\\Users\\syeda\\.pyenv\\pyenv-win\\versions\\3.9.13\\lib\\site-packages\\sklearn\\metrics\\_regression.py:492: FutureWarning: 'squared' is deprecated in version 1.4 and will be removed in 1.6. To calculate the root mean squared error, use the function'root_mean_squared_error'.\n",
      "  warnings.warn(\n",
      "c:\\Users\\syeda\\.pyenv\\pyenv-win\\versions\\3.9.13\\lib\\site-packages\\sklearn\\metrics\\_regression.py:492: FutureWarning: 'squared' is deprecated in version 1.4 and will be removed in 1.6. To calculate the root mean squared error, use the function'root_mean_squared_error'.\n",
      "  warnings.warn(\n",
      "c:\\Users\\syeda\\.pyenv\\pyenv-win\\versions\\3.9.13\\lib\\site-packages\\sklearn\\metrics\\_regression.py:492: FutureWarning: 'squared' is deprecated in version 1.4 and will be removed in 1.6. To calculate the root mean squared error, use the function'root_mean_squared_error'.\n",
      "  warnings.warn(\n",
      "c:\\Users\\syeda\\.pyenv\\pyenv-win\\versions\\3.9.13\\lib\\site-packages\\sklearn\\metrics\\_regression.py:492: FutureWarning: 'squared' is deprecated in version 1.4 and will be removed in 1.6. To calculate the root mean squared error, use the function'root_mean_squared_error'.\n",
      "  warnings.warn(\n"
     ]
    }
   ],
   "source": [
    "sm_pipeline_LR = Pipeline([\n",
    "    ('preprocessor', sm_preprocessor),    # Step 1: Preprocessing (Scaling and OneHotEncoding)\n",
    "    ('regressor', LinearRegression())  # Step 2: Linear Regression\n",
    "])\n",
    "crosseval(sm_pipeline_LR, X_sm, y)"
   ]
  },
  {
   "cell_type": "code",
   "execution_count": 312,
   "metadata": {},
   "outputs": [
    {
     "name": "stderr",
     "output_type": "stream",
     "text": [
      "c:\\Users\\syeda\\.pyenv\\pyenv-win\\versions\\3.9.13\\lib\\site-packages\\sklearn\\metrics\\_regression.py:492: FutureWarning: 'squared' is deprecated in version 1.4 and will be removed in 1.6. To calculate the root mean squared error, use the function'root_mean_squared_error'.\n",
      "  warnings.warn(\n",
      "c:\\Users\\syeda\\.pyenv\\pyenv-win\\versions\\3.9.13\\lib\\site-packages\\sklearn\\metrics\\_regression.py:492: FutureWarning: 'squared' is deprecated in version 1.4 and will be removed in 1.6. To calculate the root mean squared error, use the function'root_mean_squared_error'.\n",
      "  warnings.warn(\n",
      "c:\\Users\\syeda\\.pyenv\\pyenv-win\\versions\\3.9.13\\lib\\site-packages\\sklearn\\metrics\\_regression.py:492: FutureWarning: 'squared' is deprecated in version 1.4 and will be removed in 1.6. To calculate the root mean squared error, use the function'root_mean_squared_error'.\n",
      "  warnings.warn(\n",
      "c:\\Users\\syeda\\.pyenv\\pyenv-win\\versions\\3.9.13\\lib\\site-packages\\sklearn\\metrics\\_regression.py:492: FutureWarning: 'squared' is deprecated in version 1.4 and will be removed in 1.6. To calculate the root mean squared error, use the function'root_mean_squared_error'.\n",
      "  warnings.warn(\n",
      "c:\\Users\\syeda\\.pyenv\\pyenv-win\\versions\\3.9.13\\lib\\site-packages\\sklearn\\metrics\\_regression.py:492: FutureWarning: 'squared' is deprecated in version 1.4 and will be removed in 1.6. To calculate the root mean squared error, use the function'root_mean_squared_error'.\n",
      "  warnings.warn(\n",
      "c:\\Users\\syeda\\.pyenv\\pyenv-win\\versions\\3.9.13\\lib\\site-packages\\sklearn\\metrics\\_regression.py:492: FutureWarning: 'squared' is deprecated in version 1.4 and will be removed in 1.6. To calculate the root mean squared error, use the function'root_mean_squared_error'.\n",
      "  warnings.warn(\n",
      "c:\\Users\\syeda\\.pyenv\\pyenv-win\\versions\\3.9.13\\lib\\site-packages\\sklearn\\metrics\\_regression.py:492: FutureWarning: 'squared' is deprecated in version 1.4 and will be removed in 1.6. To calculate the root mean squared error, use the function'root_mean_squared_error'.\n",
      "  warnings.warn(\n",
      "c:\\Users\\syeda\\.pyenv\\pyenv-win\\versions\\3.9.13\\lib\\site-packages\\sklearn\\metrics\\_regression.py:492: FutureWarning: 'squared' is deprecated in version 1.4 and will be removed in 1.6. To calculate the root mean squared error, use the function'root_mean_squared_error'.\n",
      "  warnings.warn(\n",
      "c:\\Users\\syeda\\.pyenv\\pyenv-win\\versions\\3.9.13\\lib\\site-packages\\sklearn\\metrics\\_regression.py:492: FutureWarning: 'squared' is deprecated in version 1.4 and will be removed in 1.6. To calculate the root mean squared error, use the function'root_mean_squared_error'.\n",
      "  warnings.warn(\n"
     ]
    },
    {
     "name": "stdout",
     "output_type": "stream",
     "text": [
      "Mean RMSE: 10.966497343381125\n"
     ]
    },
    {
     "name": "stderr",
     "output_type": "stream",
     "text": [
      "c:\\Users\\syeda\\.pyenv\\pyenv-win\\versions\\3.9.13\\lib\\site-packages\\sklearn\\metrics\\_regression.py:492: FutureWarning: 'squared' is deprecated in version 1.4 and will be removed in 1.6. To calculate the root mean squared error, use the function'root_mean_squared_error'.\n",
      "  warnings.warn(\n"
     ]
    }
   ],
   "source": [
    "sm_pipeline_XGB = Pipeline([\n",
    "    ('preprocessor', sm_preprocessor),    # Step 1: Preprocessing (Scaling and OneHotEncoding)\n",
    "    ('regressor', XGBRegressor())  # Step 2: Linear Regression\n",
    "])\n",
    "crosseval(sm_pipeline_XGB, X_sm, y)"
   ]
  },
  {
   "cell_type": "code",
   "execution_count": 314,
   "metadata": {},
   "outputs": [
    {
     "data": {
      "text/html": [
       "<div>\n",
       "<style scoped>\n",
       "    .dataframe tbody tr th:only-of-type {\n",
       "        vertical-align: middle;\n",
       "    }\n",
       "\n",
       "    .dataframe tbody tr th {\n",
       "        vertical-align: top;\n",
       "    }\n",
       "\n",
       "    .dataframe thead th {\n",
       "        text-align: right;\n",
       "    }\n",
       "</style>\n",
       "<table border=\"1\" class=\"dataframe\">\n",
       "  <thead>\n",
       "    <tr style=\"text-align: right;\">\n",
       "      <th></th>\n",
       "      <th>Feature</th>\n",
       "      <th>Importance</th>\n",
       "    </tr>\n",
       "  </thead>\n",
       "  <tbody>\n",
       "    <tr>\n",
       "      <th>21</th>\n",
       "      <td>num__pdsi_mean_lag</td>\n",
       "      <td>0.114330</td>\n",
       "    </tr>\n",
       "    <tr>\n",
       "      <th>22</th>\n",
       "      <td>num__pet_mean_lag</td>\n",
       "      <td>0.057953</td>\n",
       "    </tr>\n",
       "    <tr>\n",
       "      <th>33</th>\n",
       "      <td>num__def_mean</td>\n",
       "      <td>0.055715</td>\n",
       "    </tr>\n",
       "    <tr>\n",
       "      <th>4</th>\n",
       "      <td>num__clay_20cm_mean</td>\n",
       "      <td>0.040894</td>\n",
       "    </tr>\n",
       "    <tr>\n",
       "      <th>40</th>\n",
       "      <td>num__tmmn_mean</td>\n",
       "      <td>0.040833</td>\n",
       "    </tr>\n",
       "    <tr>\n",
       "      <th>...</th>\n",
       "      <td>...</td>\n",
       "      <td>...</td>\n",
       "    </tr>\n",
       "    <tr>\n",
       "      <th>43</th>\n",
       "      <td>num__vpd_mean</td>\n",
       "      <td>0.001655</td>\n",
       "    </tr>\n",
       "    <tr>\n",
       "      <th>36</th>\n",
       "      <td>num__pr_mean</td>\n",
       "      <td>0.001374</td>\n",
       "    </tr>\n",
       "    <tr>\n",
       "      <th>16</th>\n",
       "      <td>num__total_carbon_20cm_mean</td>\n",
       "      <td>0.000747</td>\n",
       "    </tr>\n",
       "    <tr>\n",
       "      <th>63</th>\n",
       "      <td>cat__pop_change_category_increase</td>\n",
       "      <td>0.000000</td>\n",
       "    </tr>\n",
       "    <tr>\n",
       "      <th>64</th>\n",
       "      <td>cat__pop_change_category_stays the same</td>\n",
       "      <td>0.000000</td>\n",
       "    </tr>\n",
       "  </tbody>\n",
       "</table>\n",
       "<p>65 rows × 2 columns</p>\n",
       "</div>"
      ],
      "text/plain": [
       "                                    Feature  Importance\n",
       "21                       num__pdsi_mean_lag    0.114330\n",
       "22                        num__pet_mean_lag    0.057953\n",
       "33                            num__def_mean    0.055715\n",
       "4                       num__clay_20cm_mean    0.040894\n",
       "40                           num__tmmn_mean    0.040833\n",
       "..                                      ...         ...\n",
       "43                            num__vpd_mean    0.001655\n",
       "36                             num__pr_mean    0.001374\n",
       "16              num__total_carbon_20cm_mean    0.000747\n",
       "63        cat__pop_change_category_increase    0.000000\n",
       "64  cat__pop_change_category_stays the same    0.000000\n",
       "\n",
       "[65 rows x 2 columns]"
      ]
     },
     "execution_count": 314,
     "metadata": {},
     "output_type": "execute_result"
    }
   ],
   "source": [
    "preprocessor = sm_pipeline_XGB.named_steps['preprocessor']\n",
    "feature_names = preprocessor.get_feature_names_out()\n",
    "xgb_model = sm_pipeline_XGB.named_steps['regressor']\n",
    "importances = xgb_model.feature_importances_\n",
    "importance_df = pd.DataFrame({\n",
    "    'Feature': feature_names,\n",
    "    'Importance': importances\n",
    "}).sort_values(by='Importance', ascending=False)\n",
    "importance_df"
   ]
  },
  {
   "cell_type": "code",
   "execution_count": null,
   "metadata": {},
   "outputs": [],
   "source": []
  }
 ],
 "metadata": {
  "kernelspec": {
   "display_name": "Python 3",
   "language": "python",
   "name": "python3"
  },
  "language_info": {
   "codemirror_mode": {
    "name": "ipython",
    "version": 3
   },
   "file_extension": ".py",
   "mimetype": "text/x-python",
   "name": "python",
   "nbconvert_exporter": "python",
   "pygments_lexer": "ipython3",
   "version": "3.9.13"
  }
 },
 "nbformat": 4,
 "nbformat_minor": 2
}
